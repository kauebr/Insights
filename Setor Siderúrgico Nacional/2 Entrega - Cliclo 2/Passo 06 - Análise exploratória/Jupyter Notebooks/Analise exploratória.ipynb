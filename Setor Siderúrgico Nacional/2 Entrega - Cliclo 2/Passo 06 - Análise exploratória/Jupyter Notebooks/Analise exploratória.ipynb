{
 "cells": [
  {
   "cell_type": "markdown",
   "metadata": {},
   "source": [
    "<img src=\"https://i.ibb.co/K5n24Nd/1.png\"  alt=\"KCode Banner alpha\"  />\n",
    "\n",
    "<a href=\"https://www.linkedin.com/in/kauebr/\"><img src=\"https://cdn-icons-png.flaticon.com/512/174/174857.png\" width=\"30\" ></a> <a href=\"mailto: kauemandarino@gmail.com\"><img src=\"https://cdn-icons-png.flaticon.com/512/5968/5968534.png\" width=\"30\" ></a><a href=\"\n",
    "https://api.whatsapp.com/send?phone=5541991835800&text=Oi\"> <img src=\"https://imagepng.org/wp-content/uploads/2017/08/whatsapp-icone-1.png\" width=\"30\" ></a><a href=\"https://github.com/kauebr/\"><img src=\"https://github.githubassets.com/images/modules/logos_page/Octocat.png\" width=\"30\" ></a>\n"
   ]
  },
  {
   "cell_type": "markdown",
   "metadata": {},
   "source": [
    "# Análise exploratório de dados"
   ]
  },
  {
   "cell_type": "markdown",
   "metadata": {},
   "source": [
    "## Metodologia / Passos:\n",
    "*  Fazer em excel um dataframe com as intereseccoes das datas e puxar `ok`\n",
    "* Fazer um dataframe com todos os valores das ações das empresas empresas no periodo `ok`\n",
    "* Tirar a média `ok`\n",
    "* Calcular a variação  `ok`\n",
    "* Criar um outro dataframe com a tx Selic `ok`\n",
    "* Calcular a variação  `ok`\n",
    "* Validar os dados\n",
    "* Fazer a análise exploratória \n",
    "    Validar ou não, a hipótese de que é mais vantajoso investir em ações do setor siderúrgico do que do que no tesouro direto (LFT)"
   ]
  },
  {
   "cell_type": "code",
   "execution_count": null,
   "metadata": {},
   "outputs": [],
   "source": [
    "# Importando libs\n",
    "import pandas as pd\n",
    "from random import randint\n",
    "from datetime import date\n",
    "import matplotlib.pyplot as plt"
   ]
  },
  {
   "cell_type": "code",
   "execution_count": null,
   "metadata": {},
   "outputs": [],
   "source": [
    "# Definido funções para apresentação visual(str) dos resultados\n",
    "def linha():\n",
    "    print(33*'-')\n",
    "def tit():\n",
    "    linha()\n",
    "    print(f\"{titulo : ^33}\")\n",
    "    linha()\n",
    "    print('Rendimento:')\n",
    "def título():\n",
    "    linha()\n",
    "    print(f\"{titulo : ^33}\")\n",
    "    linha()"
   ]
  },
  {
   "cell_type": "markdown",
   "metadata": {},
   "source": [
    "# Criando o nossa série temporal"
   ]
  },
  {
   "cell_type": "code",
   "execution_count": null,
   "metadata": {},
   "outputs": [],
   "source": [
    "# Puxando os dados\n",
    "dir = 'C:/Users/manda/OneDrive/Documents/GitHub/Insights/Setor Siderúrgico Nacional/2 Entrega - Cliclo 2/Passo 03 e 04 - Coleta e limpeza dos dados/DataFrames/DF pronto para análise pandas.csv'\n",
    "df = pd.read_csv(dir, skiprows=1, encoding='UTF8')\n",
    "# Dropando coluna desnecessária\n",
    "df = df.drop(columns=['Unnamed: 0'])\n",
    "df.head(3)"
   ]
  },
  {
   "cell_type": "markdown",
   "metadata": {},
   "source": [
    "# Aqui foi interessante, pois eu encontrei um erro:\n",
    "Gerdau preferêncial e Gerdau Met preferêncial, não são empresas diferentes, são apenas\n",
    "tipos de ações diferentes(Ordinárias/Preferências, sem direito a voto/com direito a voto)\n",
    "Vamos remover as ações ordinárias de nosso estudo."
   ]
  },
  {
   "cell_type": "code",
   "execution_count": null,
   "metadata": {},
   "outputs": [],
   "source": [
    "df.drop(columns=['Gerdau Pref'], inplace=True)\n",
    "df = df.rename(columns={'Gerdau Met Pref': 'Gerdau'})\n",
    "df.head(3)"
   ]
  },
  {
   "cell_type": "code",
   "execution_count": null,
   "metadata": {},
   "outputs": [],
   "source": [
    "df.info()"
   ]
  },
  {
   "cell_type": "markdown",
   "metadata": {},
   "source": [
    "## A data esta no formato str, vamos corrigir:"
   ]
  },
  {
   "cell_type": "code",
   "execution_count": null,
   "metadata": {},
   "outputs": [],
   "source": [
    "# Transformando a coluna 'Data' em 'TimeStamp'\n",
    "df['Data']= pd.to_datetime(df['Data'])"
   ]
  },
  {
   "cell_type": "code",
   "execution_count": null,
   "metadata": {},
   "outputs": [],
   "source": [
    "df.info()"
   ]
  },
  {
   "cell_type": "code",
   "execution_count": null,
   "metadata": {},
   "outputs": [],
   "source": [
    "# Transformando a coluna 'Data' em DateTimeIndex\n",
    "index = pd.DatetimeIndex(df['Data'])\n",
    "df.set_index('Data', inplace=True)\n",
    "df.head(3)"
   ]
  },
  {
   "cell_type": "markdown",
   "metadata": {},
   "source": [
    "## Agora antes de tirar a média entre as 4 vamos verificar se existem séries outliers gritantes."
   ]
  },
  {
   "cell_type": "code",
   "execution_count": null,
   "metadata": {},
   "outputs": [],
   "source": [
    "df.plot(figsize=(18, 10))\n"
   ]
  },
  {
   "cell_type": "markdown",
   "metadata": {},
   "source": [
    "## Diminuindo o intervalo temporal\n",
    "   Decidi pela remoção dos dados mais antigos, pois não aparentam ser dados de alta confiabilidade, são dados muito antigos, e as fontes dão indicativos de serem normalizados."
   ]
  },
  {
   "cell_type": "markdown",
   "metadata": {},
   "source": [
    "# Então vamos remover este periodo não confiável."
   ]
  },
  {
   "cell_type": "code",
   "execution_count": null,
   "metadata": {},
   "outputs": [],
   "source": [
    "# Removendo o periodo:\n",
    "# df = df[(df_var.index >= data_inicial) & (df_var <= data_atual)]\n",
    "df = df[df.index >= '01-01-2005']\n",
    "df.plot(figsize=(18,10))"
   ]
  },
  {
   "cell_type": "markdown",
   "metadata": {},
   "source": [
    "# Modelando nossos dados"
   ]
  },
  {
   "cell_type": "code",
   "execution_count": null,
   "metadata": {},
   "outputs": [],
   "source": [
    "# Inserindo uma coluna com a média do valor das ações\n",
    "df['Média ações'] = ((df['Vale'] + df['Gerdau'] + df['CSN'] +df['Usiminas'])/4)\n",
    "df.head(3)"
   ]
  },
  {
   "cell_type": "markdown",
   "metadata": {},
   "source": [
    "## Calculando a variância percentual\n",
    " * Como estamos trabalhando com duas medidas diferentes: `Valor das ações`, e `% da Selic`, temos que padronizar estes valores para podemos analisá-los"
   ]
  },
  {
   "cell_type": "code",
   "execution_count": null,
   "metadata": {},
   "outputs": [],
   "source": [
    "# Reduzindo o dataframe\n",
    "df_filtrado = df[['Média ações', 'Selic']]\n",
    "df_filtrado.head(3)"
   ]
  },
  {
   "cell_type": "code",
   "execution_count": null,
   "metadata": {},
   "outputs": [],
   "source": [
    "# Cálculando variação percentual\n",
    "df_filtrado.insert(loc = 1, column = 'Δ% Ações', value = round(df_filtrado['Média ações'].pct_change()*100, 2))\n",
    "df_filtrado.insert(loc = 3, column = 'Δ% Selic', value = round(df_filtrado['Selic'].pct_change()*100, 2))"
   ]
  },
  {
   "cell_type": "code",
   "execution_count": null,
   "metadata": {},
   "outputs": [],
   "source": [
    "# Criando um data frame só com as variáveis\n",
    "\n",
    "df_var = df_filtrado[['Δ% Ações', 'Δ% Selic']]\n",
    "df_var.plot(figsize=(18,10))"
   ]
  },
  {
   "cell_type": "markdown",
   "metadata": {},
   "source": [
    "# O gráfico acima é apenas para visualizar se o data frame foi criado de maneira correta, sendo necessário ainda agrupar os valores para a análise exploratória\n",
    "> Os dados estão tipados e estruturados, agora, antes da análise de fato, vamos revalidá-los"
   ]
  },
  {
   "cell_type": "markdown",
   "metadata": {},
   "source": [
    "# Revalidação dos dados\n",
    "\n",
    "A seguir vou revalidar os dados, para conferir se eles ainda estão\n",
    "consistentes, e não se corromperam em algum momento do processo.  \n",
    "Lembrando que eles já foram validados anteriormente.  \n",
    "Itens a serem válidados: \n",
    "* 3 Valores Selic aleatórios `ok`\n",
    "* 3 cotações aleatórias\n",
    "* 1 variação"
   ]
  },
  {
   "cell_type": "code",
   "execution_count": null,
   "metadata": {},
   "outputs": [],
   "source": [
    "df.shape"
   ]
  },
  {
   "cell_type": "code",
   "execution_count": null,
   "metadata": {},
   "outputs": [],
   "source": [
    "# Gerando fatores aleatórios para a verificação\n",
    "rows = [randint(0,210), randint(0,210), randint(0,10)]"
   ]
  },
  {
   "cell_type": "code",
   "execution_count": null,
   "metadata": {},
   "outputs": [],
   "source": [
    "# Puxando valores para conferência\n",
    "linha()\n",
    "print(\"Conferência Selic\".center(33))\n",
    "for row in rows:\n",
    "    linha()\n",
    "    print(f\"{df.index[row].date()} | {df['Selic'][row]}\".center(33))\n",
    "linha()"
   ]
  },
  {
   "cell_type": "markdown",
   "metadata": {},
   "source": [
    "* Lembrando que cada vez que eu rodo o código, o fator aleatório de conferência muda,\n",
    "foi conferido a primeira vez, conforme a tabela abaixo, e estava ok."
   ]
  },
  {
   "cell_type": "markdown",
   "metadata": {},
   "source": [
    "Dados extraídos de contabeis.com.br [Fonte]('https://www.contabeis.com.br/tabelas/selic/')  \n",
    "<img src=\"https://i.ibb.co/jJ19bdQ/validacao.png\"  alt=\"Validação\"/> \n",
    ">Os dados da Selic estão consistentes"
   ]
  },
  {
   "cell_type": "code",
   "execution_count": null,
   "metadata": {},
   "outputs": [],
   "source": [
    "# Gerando novos fatores aleatórios para a verificação\n",
    "# Dessa vez, eu comentei o código usado, e fixei os valores gerados aleatóriamente como strg,\n",
    "# para não dar o mesmo erro acima.:\n",
    "\n",
    "# linha()\n",
    "# print('Ações à validar'.center(33))\n",
    "# linha()\n",
    "# colunas = [randint(1,5), randint(1,5), randint(1,5)]\n",
    "# linhas = [randint(0,263), randint(0,263), randint(0,263)]\n",
    "# for c in range (0,3):\n",
    "#    print(f'Colunas: {colunas[c]} | Linha: {linhas[c]}'.center(33))\n",
    "#linha()\n",
    "\n",
    "print(\n",
    "'''---------------------------------\n",
    "         Ações à validar         \n",
    "---------------------------------\n",
    "      Colunas: 4 | Linha: 58     \n",
    "     Colunas: 3 | Linha: 153     \n",
    "      Colunas: 2 | Linha: 16     \n",
    "---------------------------------''')"
   ]
  },
  {
   "cell_type": "code",
   "execution_count": null,
   "metadata": {},
   "outputs": [],
   "source": [
    "df.iloc[58]"
   ]
  },
  {
   "cell_type": "markdown",
   "metadata": {},
   "source": [
    "# Aqui foi interessante, pois eu encontrei um erro:\n",
    "Gerdau preferêncial e Gerdau Met preferêncial, não são empresas diferentes, são apenas\n",
    "tipos de ações diferentes(Ordinárias/Preferências, sem direito a voto/com direito a voto)\n",
    "Vamos remover as ações ordinárias de nosso estudo.\n",
    "Retirei esse trecho do código que minerava os dados:  \n",
    "\n",
    "* Estavamos trabalhando com este dado desde o começo, então isto mostra o quanto a validação/revalidação constante dos dados é importante."
   ]
  },
  {
   "cell_type": "markdown",
   "metadata": {},
   "source": [
    "# Análise exploratória dos dados:"
   ]
  },
  {
   "cell_type": "markdown",
   "metadata": {},
   "source": [
    "## Metodologia\n",
    "* Nesta etapa vamos utilizar os dados para validar a nossa hipótese. "
   ]
  },
  {
   "cell_type": "markdown",
   "metadata": {},
   "source": [
    "Hipotése: Investir em ações do setor siderúrgico nacional compensa.\n",
    "\n",
    "O que é compensar?, para responder esta pergunta nesta etapa, vamos comparar o rendimento das ações com o investimento risco zero(SELIC),  \n",
    "se o rendimento das ações for significantemente maior que o da SELIC, significará que compensa o risco; Se o rendimento das açõe for menor   \n",
    "ou próximo ao rendimento da SELIC, não compensa o risco. Neste caso seria melhor fazer este aporte no tesouro direto(SELIC) que o risco é zero,  \n",
    "ou em algum outro investimento mais lucrativo. \n"
   ]
  },
  {
   "cell_type": "code",
   "execution_count": null,
   "metadata": {},
   "outputs": [],
   "source": [
    "# Abaixo vamos plotar um gráfico muito importante para nossa análise, vamos agrupar a soma das variações por ano.\n",
    "df_var.reset_index().groupby(pd.Grouper(key='Data', freq='Y')).sum().plot(figsize=(18,10), title='Evolução Anual das Variações das Ações e Selic')"
   ]
  },
  {
   "cell_type": "markdown",
   "metadata": {},
   "source": [
    "Como podemos notar acima, não houve uma grande diferença entre um indicador e outro no geral, tendo inclusive nos dois últimos anos a Selic tido um rendimento   \n",
    "maior que a média das ações. Estes dois fatos são indicadores que nossa hipótese é invalida.\n",
    "Abaixo vamos destrinchar melhor estes dados:"
   ]
  },
  {
   "cell_type": "markdown",
   "metadata": {},
   "source": [
    "* Calcular no final a vale que teve um rendimento acima da média. * AAA"
   ]
  },
  {
   "cell_type": "code",
   "execution_count": null,
   "metadata": {},
   "outputs": [],
   "source": [
    "titulo = 'Periodo todo(16a.)'\n",
    "\n",
    "# Calculando as variações:\n",
    "acoes = df_var['Δ% Ações'].sum()\n",
    "selic = df_var['Δ% Selic'].sum()\n",
    "maior = 'Ações' if max(acoes, selic) == acoes else 'Selic' \n",
    "diferenca = max(acoes, selic) - min(acoes, selic)\n",
    "\n",
    "# Armazendo os resultados em um dicionário \n",
    "vp22a = {'Ações' : acoes, 'Selic': selic, 'Maior' : maior, 'diferença': diferenca}\n",
    "\n",
    "# Exibindo resultados\n",
    "tit()\n",
    "print(f\"Δ% Ações: {acoes : >23.2f}\")\n",
    "print(f\"Δ% Selic: {selic : >23.2f}\")\n",
    "linha()\n",
    "print(f\"{maior} renderam  {diferenca : .2f}% a mais\")\n",
    "linha()"
   ]
  },
  {
   "cell_type": "markdown",
   "metadata": {},
   "source": [
    "De cara já vemos que que no período total as ações renderam mais que o dobro do que a selic  \n",
    "Agora vamos ver nos períodos mais proximos"
   ]
  },
  {
   "cell_type": "code",
   "execution_count": null,
   "metadata": {},
   "outputs": [],
   "source": [
    "# Filtrando o periodo:\n",
    "titulo = '10 anos'\n",
    "data_atual = '2022-07-29' \n",
    "data_inicial = '2012-07-29'\n",
    "df_filtrado = df_var[(df_var.index >= data_inicial) & (df_var.index <= data_atual)]\n",
    "\n",
    "\n",
    "df_filtrado\n",
    "#df_filtrado = df_var[(df_var['Data'] >= data_inicial) & (df_var['Data'] <= data_atual)]"
   ]
  },
  {
   "cell_type": "code",
   "execution_count": null,
   "metadata": {},
   "outputs": [],
   "source": [
    "# Filtrando o periodo:\n",
    "titulo = '10 anos'\n",
    "data_atual = '2022-07-29' \n",
    "data_inicial = '2012-07-29'\n",
    "df_filtrado = df_var[(df_var.index >= data_inicial) & (df_var.index <= data_atual)]\n",
    "\n",
    "# Calculando as variações:\n",
    "acoes = df_filtrado['Δ% Ações'].sum()\n",
    "selic = df_filtrado['Δ% Selic'].sum()\n",
    "maior = 'Ações' if max(acoes, selic) == acoes else 'Selic' \n",
    "diferenca = max(acoes, selic) - min(acoes, selic)\n",
    "\n",
    "# Armazendo os resultados em um dicionário \n",
    "vp10a = {'Ações' : acoes, 'Selic': selic, 'Maior' : maior, 'diferença': diferenca}\n",
    "\n",
    "# Exibindo resultados\n",
    "tit()\n",
    "print(f\"Δ% Ações: {acoes : >23.2f}\")\n",
    "print(f\"Δ% Selic: {selic : >23.2f}\")\n",
    "linha()\n",
    "print(f\"{maior} renderam  {diferenca : .2f}% a mais\")\n",
    "linha()"
   ]
  },
  {
   "cell_type": "code",
   "execution_count": null,
   "metadata": {},
   "outputs": [],
   "source": [
    "# Filtrando o periodo:\n",
    "titulo = '5 anos'\n",
    "data_atual = '2022-07-29' \n",
    "data_inicial = '2017-07-29'\n",
    "df_filtrado = df_var[(df_var.index >= data_inicial) & (df_var.index <= data_atual)]\n",
    "\n",
    "# Calculando as variações:\n",
    "acoes = df_filtrado['Δ% Ações'].sum()\n",
    "selic = df_filtrado['Δ% Selic'].sum()\n",
    "maior = 'Ações' if max(acoes, selic) == acoes else 'Selic' \n",
    "diferenca = max(acoes, selic) - min(acoes, selic)\n",
    "\n",
    "# Armazendo os resultados em um dicionário \n",
    "vp5a = {'Ações' : acoes, 'Selic': selic, 'Maior' : maior, 'diferença': diferenca}\n",
    "\n",
    "# Exibindo resultados\n",
    "tit()\n",
    "print(f\"Δ% Ações: {acoes : >23.2f}\")\n",
    "print(f\"Δ% Selic: {selic : >23.2f}\")\n",
    "linha()\n",
    "print(f\"{maior} renderam  {diferenca : .2f}% a mais\")\n",
    "linha()"
   ]
  },
  {
   "cell_type": "code",
   "execution_count": null,
   "metadata": {},
   "outputs": [],
   "source": [
    "# Filtrando o periodo:\n",
    "titulo = '3 anos'\n",
    "data_atual = '2022-07-29' \n",
    "data_inicial = '2019-07-29'\n",
    "df_filtrado = df_var[(df_var.index >= data_inicial) & (df_var.index <= data_atual)]\n",
    "\n",
    "# Calculando as variações:\n",
    "acoes = df_filtrado['Δ% Ações'].sum()\n",
    "selic = df_filtrado['Δ% Selic'].sum()\n",
    "maior = 'Ações' if max(acoes, selic) == acoes else 'Selic' \n",
    "diferenca = max(acoes, selic) - min(acoes, selic)\n",
    "\n",
    "# Armazendo os resultados em um dicionário \n",
    "vp3a = {'Ações' : acoes, 'Selic': selic, 'Maior' : maior, 'diferença': diferenca}\n",
    "\n",
    "# Exibindo resultados\n",
    "tit()\n",
    "print(f\"Δ% Ações: {acoes : >23.2f}\")\n",
    "print(f\"Δ% Selic: {selic : >23.2f}\")\n",
    "linha()\n",
    "print(f\"{maior} renderam  {diferenca : .2f}% a mais\")\n",
    "linha()"
   ]
  },
  {
   "cell_type": "code",
   "execution_count": null,
   "metadata": {},
   "outputs": [],
   "source": [
    "# Filtrando o periodo:\n",
    "titulo = '2 anos'\n",
    "data_atual = '2022-07-29' \n",
    "data_inicial = '2010-07-29'\n",
    "df_filtrado = df_var[(df_var.index >= data_inicial) & (df_var.index <= data_atual)]\n",
    "\n",
    "# Calculando as variações:\n",
    "acoes = df_filtrado['Δ% Ações'].sum()\n",
    "selic = df_filtrado['Δ% Selic'].sum()\n",
    "maior = 'Ações' if max(acoes, selic) == acoes else 'Selic' \n",
    "diferenca = max(acoes, selic) - min(acoes, selic)\n",
    "\n",
    "# Armazendo os resultados em um dicionário \n",
    "vp2a = {'Ações' : acoes, 'Selic': selic, 'Maior' : maior, 'diferença': diferenca}\n",
    "\n",
    "# Exibindo resultados\n",
    "tit()\n",
    "print(f\"Δ% Ações: {acoes : >23.2f}\")\n",
    "print(f\"Δ% Selic: {selic : >23.2f}\")\n",
    "linha()\n",
    "print(f\"{maior} renderam  {diferenca : .2f}% a mais\")\n",
    "linha()"
   ]
  },
  {
   "cell_type": "code",
   "execution_count": null,
   "metadata": {},
   "outputs": [],
   "source": [
    "# Filtrando o periodo:\n",
    "titulo = '1 ano'\n",
    "data_atual = '2022-07-29' \n",
    "data_inicial = '2010-07-29'\n",
    "df_filtrado = df_var[(df_var.index >= data_inicial) & (df_var.index <= data_atual)]\n",
    "\n",
    "# Calculando as variações:\n",
    "acoes = df_filtrado['Δ% Ações'].sum()\n",
    "selic = df_filtrado['Δ% Selic'].sum()\n",
    "maior = 'Ações' if max(acoes, selic) == acoes else 'Selic' \n",
    "diferenca = max(acoes, selic) - min(acoes, selic)\n",
    "\n",
    "# Armazendo os resultados em um dicionário \n",
    "vp1a = {'Ações' : acoes, 'Selic': selic, 'Maior' : maior, 'diferença': diferenca}\n",
    "\n",
    "# Exibindo resultados\n",
    "tit()\n",
    "print(f\"Δ% Ações: {acoes : >23.2f}\")\n",
    "print(f\"Δ% Selic: {selic : >23.2f}\")\n",
    "linha()\n",
    "print(f\"{maior} renderam  {diferenca : .2f}% a mais\")\n",
    "linha()"
   ]
  },
  {
   "cell_type": "code",
   "execution_count": null,
   "metadata": {},
   "outputs": [],
   "source": [
    "# Filtrando o periodo:\n",
    "titulo = '3 meses'\n",
    "data_atual = '2022-07-29' \n",
    "data_inicial = '2010-04-29'\n",
    "df_filtrado = df_var[(df_var.index >= data_inicial) & (df_var.index <= data_atual)]\n",
    "\n",
    "# Calculando as variações:\n",
    "acoes = df_filtrado['Δ% Ações'].sum()\n",
    "selic = df_filtrado['Δ% Selic'].sum()\n",
    "maior = 'Ações' if max(acoes, selic) == acoes else 'Selic' \n",
    "diferenca = max(acoes, selic) - min(acoes, selic)\n",
    "\n",
    "# Armazendo os resultados em um dicionário \n",
    "vp6m = {'Ações' : acoes, 'Selic': selic, 'Maior' : maior, 'diferença': diferenca}\n",
    "\n",
    "# Exibindo resultados\n",
    "tit()\n",
    "print(f\"Δ% Ações: {acoes : >23.2f}\")\n",
    "print(f\"Δ% Selic: {selic : >23.2f}\")\n",
    "linha()\n",
    "print(f\"{maior} renderam  {diferenca : .2f}% a mais\")\n",
    "linha()"
   ]
  },
  {
   "cell_type": "code",
   "execution_count": null,
   "metadata": {},
   "outputs": [],
   "source": [
    "#COLOCAR AQUI UMA MÉDIA FLUTUANTE\n",
    "#IMPORTANTE VALIDAR ESSES DADOS "
   ]
  }
 ],
 "metadata": {
  "kernelspec": {
   "display_name": "Python 3.10.4 64-bit",
   "language": "python",
   "name": "python3"
  },
  "language_info": {
   "codemirror_mode": {
    "name": "ipython",
    "version": 3
   },
   "file_extension": ".py",
   "mimetype": "text/x-python",
   "name": "python",
   "nbconvert_exporter": "python",
   "pygments_lexer": "ipython3",
   "version": "3.10.4"
  },
  "orig_nbformat": 4,
  "vscode": {
   "interpreter": {
    "hash": "5d11380547bba1e6c4b0ab7b7614350493a6d4caf256d9be4e363829d8f5c452"
   }
  }
 },
 "nbformat": 4,
 "nbformat_minor": 2
}

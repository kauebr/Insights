{
 "cells": [
  {
   "cell_type": "markdown",
   "metadata": {},
   "source": [
    "<img src=\"https://i.ibb.co/K5n24Nd/1.png\"  alt=\"KCode Banner\"  />\n",
    "\n",
    "<a href=\"https://www.linkedin.com/in/kauebr/\"><img src=\"https://cdn-icons-png.flaticon.com/512/174/174857.png\" width=\"30\" ></a> <a href=\"mailto: kauemandarino@gmail.com\"><img src=\"https://cdn-icons-png.flaticon.com/512/5968/5968534.png\" width=\"30\" ></a><a href=\"\n",
    "https://api.whatsapp.com/send?phone=5541991835800&text=Oi\"> <img src=\"https://imagepng.org/wp-content/uploads/2017/08/whatsapp-icone-1.png\" width=\"30\" ></a><a href=\"https://github.com/kauebr/\"><img src=\"https://github.githubassets.com/images/modules/logos_page/Octocat.png\" width=\"30\" ></a>\n"
   ]
  },
  {
   "cell_type": "markdown",
   "metadata": {},
   "source": [
    "# Análise exploratório de dados"
   ]
  },
  {
   "cell_type": "markdown",
   "metadata": {},
   "source": [
    "## Metodologia / Passos:\n",
    "* Fazer em excel um dataframe com as intereseccoes das datas e puxar `ok`\n",
    "* Fazer um dataframe com todos os valores das ações das empresas empresas no periodo `ok`\n",
    "* Tirar a média `ok`\n",
    "* Calcular a variação  `ok`\n",
    "* Criar um outro dataframe com a tx Selic `ok`\n",
    "* Calcular a variação  `ok`\n",
    "* Fazer a análise exploratória \n",
    "    Validar ou não, a hipótese de que é mais vantajoso investir em ações do setor siderúrgico do que do que no tesouro direto (LFT)"
   ]
  },
  {
   "cell_type": "code",
   "execution_count": 1,
   "metadata": {},
   "outputs": [],
   "source": [
    "# Importando libs\n",
    "import pandas as pd\n",
    "from random import randint\n",
    "from datetime import date\n",
    "import matplotlib.pyplot as plt\n",
    "import seaborn as sns"
   ]
  },
  {
   "cell_type": "markdown",
   "metadata": {},
   "source": [
    "# Criando o nossa série temporal"
   ]
  },
  {
   "cell_type": "code",
   "execution_count": 2,
   "metadata": {},
   "outputs": [
    {
     "data": {
      "text/html": [
       "<div>\n",
       "<style scoped>\n",
       "    .dataframe tbody tr th:only-of-type {\n",
       "        vertical-align: middle;\n",
       "    }\n",
       "\n",
       "    .dataframe tbody tr th {\n",
       "        vertical-align: top;\n",
       "    }\n",
       "\n",
       "    .dataframe thead th {\n",
       "        text-align: right;\n",
       "    }\n",
       "</style>\n",
       "<table border=\"1\" class=\"dataframe\">\n",
       "  <thead>\n",
       "    <tr style=\"text-align: right;\">\n",
       "      <th></th>\n",
       "      <th>Index</th>\n",
       "      <th>Vale</th>\n",
       "      <th>Gerdau Pref</th>\n",
       "      <th>Gerdau Met Pref</th>\n",
       "      <th>CSN</th>\n",
       "      <th>Usiminas</th>\n",
       "      <th>Selic</th>\n",
       "    </tr>\n",
       "  </thead>\n",
       "  <tbody>\n",
       "    <tr>\n",
       "      <th>0</th>\n",
       "      <td>1/31/2000</td>\n",
       "      <td>1.951422</td>\n",
       "      <td>268.362579</td>\n",
       "      <td>0.219444</td>\n",
       "      <td>1.667136</td>\n",
       "      <td>1.731119</td>\n",
       "      <td>1.46</td>\n",
       "    </tr>\n",
       "    <tr>\n",
       "      <th>1</th>\n",
       "      <td>2/29/2000</td>\n",
       "      <td>1.658708</td>\n",
       "      <td>263.639343</td>\n",
       "      <td>0.231984</td>\n",
       "      <td>1.566680</td>\n",
       "      <td>1.566250</td>\n",
       "      <td>1.45</td>\n",
       "    </tr>\n",
       "    <tr>\n",
       "      <th>2</th>\n",
       "      <td>3/31/2000</td>\n",
       "      <td>1.626185</td>\n",
       "      <td>244.209869</td>\n",
       "      <td>0.200635</td>\n",
       "      <td>1.754768</td>\n",
       "      <td>1.426112</td>\n",
       "      <td>1.45</td>\n",
       "    </tr>\n",
       "    <tr>\n",
       "      <th>3</th>\n",
       "      <td>4/28/2000</td>\n",
       "      <td>1.626185</td>\n",
       "      <td>234.012115</td>\n",
       "      <td>0.219444</td>\n",
       "      <td>1.453400</td>\n",
       "      <td>1.244756</td>\n",
       "      <td>1.30</td>\n",
       "    </tr>\n",
       "    <tr>\n",
       "      <th>4</th>\n",
       "      <td>5/31/2000</td>\n",
       "      <td>1.700176</td>\n",
       "      <td>1.252358</td>\n",
       "      <td>0.980719</td>\n",
       "      <td>1.709883</td>\n",
       "      <td>1.318947</td>\n",
       "      <td>1.49</td>\n",
       "    </tr>\n",
       "    <tr>\n",
       "      <th>...</th>\n",
       "      <td>...</td>\n",
       "      <td>...</td>\n",
       "      <td>...</td>\n",
       "      <td>...</td>\n",
       "      <td>...</td>\n",
       "      <td>...</td>\n",
       "      <td>...</td>\n",
       "    </tr>\n",
       "    <tr>\n",
       "      <th>258</th>\n",
       "      <td>3/31/2022</td>\n",
       "      <td>90.889160</td>\n",
       "      <td>29.354248</td>\n",
       "      <td>22.675573</td>\n",
       "      <td>25.608978</td>\n",
       "      <td>13.254291</td>\n",
       "      <td>0.93</td>\n",
       "    </tr>\n",
       "    <tr>\n",
       "      <th>259</th>\n",
       "      <td>4/29/2022</td>\n",
       "      <td>79.185761</td>\n",
       "      <td>26.648436</td>\n",
       "      <td>20.724682</td>\n",
       "      <td>20.729202</td>\n",
       "      <td>11.310000</td>\n",
       "      <td>0.83</td>\n",
       "    </tr>\n",
       "    <tr>\n",
       "      <th>260</th>\n",
       "      <td>5/31/2022</td>\n",
       "      <td>81.961868</td>\n",
       "      <td>28.365076</td>\n",
       "      <td>22.144821</td>\n",
       "      <td>21.840000</td>\n",
       "      <td>10.960000</td>\n",
       "      <td>1.03</td>\n",
       "    </tr>\n",
       "    <tr>\n",
       "      <th>261</th>\n",
       "      <td>6/30/2022</td>\n",
       "      <td>72.787384</td>\n",
       "      <td>21.733269</td>\n",
       "      <td>17.251686</td>\n",
       "      <td>15.440000</td>\n",
       "      <td>8.650000</td>\n",
       "      <td>1.02</td>\n",
       "    </tr>\n",
       "    <tr>\n",
       "      <th>262</th>\n",
       "      <td>7/29/2022</td>\n",
       "      <td>66.312965</td>\n",
       "      <td>23.785044</td>\n",
       "      <td>18.953648</td>\n",
       "      <td>14.710000</td>\n",
       "      <td>8.610000</td>\n",
       "      <td>1.03</td>\n",
       "    </tr>\n",
       "  </tbody>\n",
       "</table>\n",
       "<p>263 rows × 7 columns</p>\n",
       "</div>"
      ],
      "text/plain": [
       "         Index       Vale  Gerdau Pref  Gerdau Met Pref        CSN   Usiminas  \\\n",
       "0    1/31/2000   1.951422   268.362579         0.219444   1.667136   1.731119   \n",
       "1    2/29/2000   1.658708   263.639343         0.231984   1.566680   1.566250   \n",
       "2    3/31/2000   1.626185   244.209869         0.200635   1.754768   1.426112   \n",
       "3    4/28/2000   1.626185   234.012115         0.219444   1.453400   1.244756   \n",
       "4    5/31/2000   1.700176     1.252358         0.980719   1.709883   1.318947   \n",
       "..         ...        ...          ...              ...        ...        ...   \n",
       "258  3/31/2022  90.889160    29.354248        22.675573  25.608978  13.254291   \n",
       "259  4/29/2022  79.185761    26.648436        20.724682  20.729202  11.310000   \n",
       "260  5/31/2022  81.961868    28.365076        22.144821  21.840000  10.960000   \n",
       "261  6/30/2022  72.787384    21.733269        17.251686  15.440000   8.650000   \n",
       "262  7/29/2022  66.312965    23.785044        18.953648  14.710000   8.610000   \n",
       "\n",
       "     Selic  \n",
       "0     1.46  \n",
       "1     1.45  \n",
       "2     1.45  \n",
       "3     1.30  \n",
       "4     1.49  \n",
       "..     ...  \n",
       "258   0.93  \n",
       "259   0.83  \n",
       "260   1.03  \n",
       "261   1.02  \n",
       "262   1.03  \n",
       "\n",
       "[263 rows x 7 columns]"
      ]
     },
     "execution_count": 2,
     "metadata": {},
     "output_type": "execute_result"
    }
   ],
   "source": [
    "# Puxando os dados\n",
    "dir = 'C:/Users/manda/OneDrive/Documents/GitHub/Insights/Setor Siderúrgico Nacional/2 Entrega - Cliclo 2/Passo 03 e 04 - Coleta e limpeza dos dados/DataFrames/DF pronto para análise pandas.csv'\n",
    "df = pd.read_csv(dir, skiprows=1, encoding='UTF8')\n",
    "# Dropando coluna desnecessária\n",
    "df = df.drop(columns=['Unnamed: 0'])\n",
    "df.rename(columns={'Data': 'Index'}, inplace = True)\n",
    "df\n"
   ]
  },
  {
   "cell_type": "code",
   "execution_count": 3,
   "metadata": {},
   "outputs": [
    {
     "name": "stdout",
     "output_type": "stream",
     "text": [
      "<class 'pandas.core.frame.DataFrame'>\n",
      "RangeIndex: 263 entries, 0 to 262\n",
      "Data columns (total 7 columns):\n",
      " #   Column           Non-Null Count  Dtype  \n",
      "---  ------           --------------  -----  \n",
      " 0   Index            263 non-null    object \n",
      " 1   Vale             263 non-null    float64\n",
      " 2   Gerdau Pref      263 non-null    float64\n",
      " 3   Gerdau Met Pref  263 non-null    float64\n",
      " 4   CSN              263 non-null    float64\n",
      " 5   Usiminas         263 non-null    float64\n",
      " 6   Selic            263 non-null    float64\n",
      "dtypes: float64(6), object(1)\n",
      "memory usage: 14.5+ KB\n"
     ]
    }
   ],
   "source": [
    "df.info()"
   ]
  },
  {
   "cell_type": "markdown",
   "metadata": {},
   "source": [
    "## A data esta no formato str, vamos corrigir:"
   ]
  },
  {
   "cell_type": "code",
   "execution_count": 4,
   "metadata": {},
   "outputs": [],
   "source": [
    "# Transformando a coluna 'Data' em 'TimeStamp'\n",
    "df['Index']= pd.to_datetime(df['Index'])"
   ]
  },
  {
   "cell_type": "code",
   "execution_count": 5,
   "metadata": {},
   "outputs": [
    {
     "name": "stdout",
     "output_type": "stream",
     "text": [
      "<class 'pandas.core.frame.DataFrame'>\n",
      "RangeIndex: 263 entries, 0 to 262\n",
      "Data columns (total 7 columns):\n",
      " #   Column           Non-Null Count  Dtype         \n",
      "---  ------           --------------  -----         \n",
      " 0   Index            263 non-null    datetime64[ns]\n",
      " 1   Vale             263 non-null    float64       \n",
      " 2   Gerdau Pref      263 non-null    float64       \n",
      " 3   Gerdau Met Pref  263 non-null    float64       \n",
      " 4   CSN              263 non-null    float64       \n",
      " 5   Usiminas         263 non-null    float64       \n",
      " 6   Selic            263 non-null    float64       \n",
      "dtypes: datetime64[ns](1), float64(6)\n",
      "memory usage: 14.5 KB\n"
     ]
    }
   ],
   "source": [
    "df.info()"
   ]
  },
  {
   "cell_type": "code",
   "execution_count": 6,
   "metadata": {},
   "outputs": [
    {
     "data": {
      "text/html": [
       "<div>\n",
       "<style scoped>\n",
       "    .dataframe tbody tr th:only-of-type {\n",
       "        vertical-align: middle;\n",
       "    }\n",
       "\n",
       "    .dataframe tbody tr th {\n",
       "        vertical-align: top;\n",
       "    }\n",
       "\n",
       "    .dataframe thead th {\n",
       "        text-align: right;\n",
       "    }\n",
       "</style>\n",
       "<table border=\"1\" class=\"dataframe\">\n",
       "  <thead>\n",
       "    <tr style=\"text-align: right;\">\n",
       "      <th></th>\n",
       "      <th>Index</th>\n",
       "      <th>Vale</th>\n",
       "      <th>Gerdau Pref</th>\n",
       "      <th>Gerdau Met Pref</th>\n",
       "      <th>CSN</th>\n",
       "      <th>Usiminas</th>\n",
       "      <th>Selic</th>\n",
       "    </tr>\n",
       "    <tr>\n",
       "      <th>Index</th>\n",
       "      <th></th>\n",
       "      <th></th>\n",
       "      <th></th>\n",
       "      <th></th>\n",
       "      <th></th>\n",
       "      <th></th>\n",
       "      <th></th>\n",
       "    </tr>\n",
       "  </thead>\n",
       "  <tbody>\n",
       "    <tr>\n",
       "      <th>2000-01-31</th>\n",
       "      <td>2000-01-31</td>\n",
       "      <td>1.951422</td>\n",
       "      <td>268.362579</td>\n",
       "      <td>0.219444</td>\n",
       "      <td>1.667136</td>\n",
       "      <td>1.731119</td>\n",
       "      <td>1.46</td>\n",
       "    </tr>\n",
       "    <tr>\n",
       "      <th>2000-02-29</th>\n",
       "      <td>2000-02-29</td>\n",
       "      <td>1.658708</td>\n",
       "      <td>263.639343</td>\n",
       "      <td>0.231984</td>\n",
       "      <td>1.566680</td>\n",
       "      <td>1.566250</td>\n",
       "      <td>1.45</td>\n",
       "    </tr>\n",
       "    <tr>\n",
       "      <th>2000-03-31</th>\n",
       "      <td>2000-03-31</td>\n",
       "      <td>1.626185</td>\n",
       "      <td>244.209869</td>\n",
       "      <td>0.200635</td>\n",
       "      <td>1.754768</td>\n",
       "      <td>1.426112</td>\n",
       "      <td>1.45</td>\n",
       "    </tr>\n",
       "    <tr>\n",
       "      <th>2000-04-28</th>\n",
       "      <td>2000-04-28</td>\n",
       "      <td>1.626185</td>\n",
       "      <td>234.012115</td>\n",
       "      <td>0.219444</td>\n",
       "      <td>1.453400</td>\n",
       "      <td>1.244756</td>\n",
       "      <td>1.30</td>\n",
       "    </tr>\n",
       "    <tr>\n",
       "      <th>2000-05-31</th>\n",
       "      <td>2000-05-31</td>\n",
       "      <td>1.700176</td>\n",
       "      <td>1.252358</td>\n",
       "      <td>0.980719</td>\n",
       "      <td>1.709883</td>\n",
       "      <td>1.318947</td>\n",
       "      <td>1.49</td>\n",
       "    </tr>\n",
       "    <tr>\n",
       "      <th>...</th>\n",
       "      <td>...</td>\n",
       "      <td>...</td>\n",
       "      <td>...</td>\n",
       "      <td>...</td>\n",
       "      <td>...</td>\n",
       "      <td>...</td>\n",
       "      <td>...</td>\n",
       "    </tr>\n",
       "    <tr>\n",
       "      <th>2022-03-31</th>\n",
       "      <td>2022-03-31</td>\n",
       "      <td>90.889160</td>\n",
       "      <td>29.354248</td>\n",
       "      <td>22.675573</td>\n",
       "      <td>25.608978</td>\n",
       "      <td>13.254291</td>\n",
       "      <td>0.93</td>\n",
       "    </tr>\n",
       "    <tr>\n",
       "      <th>2022-04-29</th>\n",
       "      <td>2022-04-29</td>\n",
       "      <td>79.185761</td>\n",
       "      <td>26.648436</td>\n",
       "      <td>20.724682</td>\n",
       "      <td>20.729202</td>\n",
       "      <td>11.310000</td>\n",
       "      <td>0.83</td>\n",
       "    </tr>\n",
       "    <tr>\n",
       "      <th>2022-05-31</th>\n",
       "      <td>2022-05-31</td>\n",
       "      <td>81.961868</td>\n",
       "      <td>28.365076</td>\n",
       "      <td>22.144821</td>\n",
       "      <td>21.840000</td>\n",
       "      <td>10.960000</td>\n",
       "      <td>1.03</td>\n",
       "    </tr>\n",
       "    <tr>\n",
       "      <th>2022-06-30</th>\n",
       "      <td>2022-06-30</td>\n",
       "      <td>72.787384</td>\n",
       "      <td>21.733269</td>\n",
       "      <td>17.251686</td>\n",
       "      <td>15.440000</td>\n",
       "      <td>8.650000</td>\n",
       "      <td>1.02</td>\n",
       "    </tr>\n",
       "    <tr>\n",
       "      <th>2022-07-29</th>\n",
       "      <td>2022-07-29</td>\n",
       "      <td>66.312965</td>\n",
       "      <td>23.785044</td>\n",
       "      <td>18.953648</td>\n",
       "      <td>14.710000</td>\n",
       "      <td>8.610000</td>\n",
       "      <td>1.03</td>\n",
       "    </tr>\n",
       "  </tbody>\n",
       "</table>\n",
       "<p>263 rows × 7 columns</p>\n",
       "</div>"
      ],
      "text/plain": [
       "                Index       Vale  Gerdau Pref  Gerdau Met Pref        CSN  \\\n",
       "Index                                                                       \n",
       "2000-01-31 2000-01-31   1.951422   268.362579         0.219444   1.667136   \n",
       "2000-02-29 2000-02-29   1.658708   263.639343         0.231984   1.566680   \n",
       "2000-03-31 2000-03-31   1.626185   244.209869         0.200635   1.754768   \n",
       "2000-04-28 2000-04-28   1.626185   234.012115         0.219444   1.453400   \n",
       "2000-05-31 2000-05-31   1.700176     1.252358         0.980719   1.709883   \n",
       "...               ...        ...          ...              ...        ...   \n",
       "2022-03-31 2022-03-31  90.889160    29.354248        22.675573  25.608978   \n",
       "2022-04-29 2022-04-29  79.185761    26.648436        20.724682  20.729202   \n",
       "2022-05-31 2022-05-31  81.961868    28.365076        22.144821  21.840000   \n",
       "2022-06-30 2022-06-30  72.787384    21.733269        17.251686  15.440000   \n",
       "2022-07-29 2022-07-29  66.312965    23.785044        18.953648  14.710000   \n",
       "\n",
       "             Usiminas  Selic  \n",
       "Index                         \n",
       "2000-01-31   1.731119   1.46  \n",
       "2000-02-29   1.566250   1.45  \n",
       "2000-03-31   1.426112   1.45  \n",
       "2000-04-28   1.244756   1.30  \n",
       "2000-05-31   1.318947   1.49  \n",
       "...               ...    ...  \n",
       "2022-03-31  13.254291   0.93  \n",
       "2022-04-29  11.310000   0.83  \n",
       "2022-05-31  10.960000   1.03  \n",
       "2022-06-30   8.650000   1.02  \n",
       "2022-07-29   8.610000   1.03  \n",
       "\n",
       "[263 rows x 7 columns]"
      ]
     },
     "execution_count": 6,
     "metadata": {},
     "output_type": "execute_result"
    }
   ],
   "source": [
    "# Transformando a coluna 'Data' em DateTimeIndex\n",
    "index = pd.DatetimeIndex(df['Index'])\n",
    "df.set_index(index, inplace=True)\n",
    "df"
   ]
  },
  {
   "cell_type": "markdown",
   "metadata": {},
   "source": [
    "## Agora antes de tirar a média entre as 5 vamos verificar se existem séries outliers."
   ]
  },
  {
   "cell_type": "code",
   "execution_count": 7,
   "metadata": {},
   "outputs": [
    {
     "data": {
      "text/plain": [
       "<AxesSubplot:xlabel='Index'>"
      ]
     },
     "execution_count": 7,
     "metadata": {},
     "output_type": "execute_result"
    },
    {
     "data": {
      "image/png": "[encoded data removed]",
      "text/plain": [
       "<Figure size 1296x720 with 1 Axes>"
      ]
     },
     "metadata": {
      "needs_background": "light"
     },
     "output_type": "display_data"
    }
   ],
   "source": [
    "df.plot(figsize=(18, 10))"
   ]
  },
  {
   "cell_type": "markdown",
   "metadata": {},
   "source": [
    "## Podemos ver que nos anos 2000~+- 2003 os valores estão inconsistentes.\n",
    "   Decidi pela remoção, porque além de eu não ter alta confiança nesses dados muito antigos, visto que em 5 fontes de dados só achei eles em duas, e ainda não batiam 100%.  \n",
    "   Também tem o fato de se tratar de dados muito antigos, ou seja, não terão mais tão grande impacto na nossa análise, hoje, 22 anos depois, do que dados mais recentes."
   ]
  },
  {
   "cell_type": "markdown",
   "metadata": {},
   "source": [
    "Então vamos remover este periodo."
   ]
  },
  {
   "cell_type": "code",
   "execution_count": 8,
   "metadata": {},
   "outputs": [
    {
     "data": {
      "text/plain": [
       "<AxesSubplot:xlabel='Index'>"
      ]
     },
     "execution_count": 8,
     "metadata": {},
     "output_type": "execute_result"
    },
    {
     "data": {
      "image/png": "[encoded data removed]",
      "text/plain": [
       "<Figure size 1296x720 with 1 Axes>"
      ]
     },
     "metadata": {
      "needs_background": "light"
     },
     "output_type": "display_data"
    }
   ],
   "source": [
    "# Removendo o periodo:\n",
    "# df = df[(df_var.index >= data_inicial) & (df_var <= data_atual)]\n",
    "df = df[df.index >= '01-01-2005']\n",
    "df.plot(figsize=(18,10))\n",
    "# supported values are '-', '--', '-.', ':', 'None', ' ', '', 'solid', 'dashed', 'dashdot', 'dotted'\n"
   ]
  },
  {
   "cell_type": "markdown",
   "metadata": {},
   "source": [
    "# Modelando nossos dados"
   ]
  },
  {
   "cell_type": "code",
   "execution_count": 9,
   "metadata": {},
   "outputs": [],
   "source": [
    "# Inserindo uma coluna com a média do valor das ações\n",
    "df['Média ações'] = ((df['Vale'] + df['Gerdau Pref'] + df['Gerdau Met Pref'] + df['CSN'] +df['Usiminas'])/5).copy()\n"
   ]
  },
  {
   "cell_type": "code",
   "execution_count": null,
   "metadata": {},
   "outputs": [],
   "source": [
    "df.plot(figsize=(18,10))"
   ]
  },
  {
   "cell_type": "markdown",
   "metadata": {},
   "source": [
    "## Calculando a variância percentual"
   ]
  },
  {
   "cell_type": "code",
   "execution_count": null,
   "metadata": {},
   "outputs": [],
   "source": [
    "# Reduzindo o dataframe\n",
    "df_filtrado = df[['Média ações', 'Selic']]\n",
    "df_filtrado"
   ]
  },
  {
   "cell_type": "code",
   "execution_count": null,
   "metadata": {},
   "outputs": [],
   "source": [
    "df_filtrado.insert(loc = 1, column = 'Δ% Ações', value = round(df_filtrado['Média ações'].pct_change()*100, 2))\n",
    "df_filtrado.insert(loc = 3, column = 'Δ% Selic', value = round(df_filtrado['Selic'].pct_change()*100, 2))"
   ]
  },
  {
   "cell_type": "code",
   "execution_count": null,
   "metadata": {},
   "outputs": [],
   "source": [
    "# Criando um data frame só com as variáveis\n",
    "\n",
    "df_var = df_filtrado[['Δ% Ações', 'Δ% Selic']]"
   ]
  },
  {
   "cell_type": "code",
   "execution_count": null,
   "metadata": {},
   "outputs": [],
   "source": [
    "df_var.groupby(pd.Grouper(key=df_var.index))\n",
    "\n",
    "df_var.plot(figsize=(18,10))"
   ]
  },
  {
   "cell_type": "markdown",
   "metadata": {},
   "source": [
    "> Finalmente os dados estão modelados e preparados para nossa análise exploratória;"
   ]
  },
  {
   "cell_type": "markdown",
   "metadata": {},
   "source": [
    "# Análise exploratória dos dados"
   ]
  },
  {
   "cell_type": "markdown",
   "metadata": {},
   "source": [
    "## Metodologia\n",
    "* Vou calcular as variações percentuais para os periodos: todo(22a.), 10a, 5a, 3a, 2a, 1a, 6m `ok`\n",
    "vou plotar um gráfico com as informações supracitadas"
   ]
  },
  {
   "cell_type": "code",
   "execution_count": null,
   "metadata": {},
   "outputs": [],
   "source": [
    "# Definido funções para apresentação visual(str) dos resultados\n",
    "def linha():\n",
    "    print(33*'-')\n",
    "def tit():\n",
    "    linha()\n",
    "    print(f\"{titulo : ^33}\")\n",
    "    linha()\n",
    "    print('Rendimento:')\n"
   ]
  },
  {
   "cell_type": "code",
   "execution_count": null,
   "metadata": {},
   "outputs": [],
   "source": [
    "titulo = 'Periodo todo(22a.)'\n",
    "\n",
    "# Calculando as variações:\n",
    "acoes = df_var['Δ% Ações'].sum()\n",
    "selic = df_var['Δ% Selic'].sum()\n",
    "maior = 'Ações' if max(acoes, selic) == acoes else 'Selic' \n",
    "diferenca = max(acoes, selic) - min(acoes, selic)\n",
    "\n",
    "# Armazendo os resultados em um dicionário \n",
    "vp22a = {'Ações' : acoes, 'Selic': selic, 'Maior' : maior, 'diferença': diferenca}\n",
    "\n",
    "# Exibindo resultados\n",
    "tit()\n",
    "print(f\"Δ% Ações: {acoes : >23}\")\n",
    "print(f\"Δ% Selic: {selic : >23}\")\n",
    "linha()\n",
    "print(f\"{maior} renderam  {diferenca}% a mais\")\n",
    "linha()"
   ]
  },
  {
   "cell_type": "markdown",
   "metadata": {},
   "source": [
    "De cara já vemos que que no período total as ações renderam mais que o dobro do que a selic  \n",
    "Agora vamos ver nos períodos mais proximos"
   ]
  },
  {
   "cell_type": "code",
   "execution_count": null,
   "metadata": {},
   "outputs": [],
   "source": [
    "# Filtrando o periodo:\n",
    "titulo = '10 anos'\n",
    "data_atual = '2022-07-29' \n",
    "data_inicial = '2012-07-29'\n",
    "df_filtrado = df_var[(df_var.index >= data_inicial) & (df_var.index <= data_atual)]\n",
    "\n",
    "\n",
    "df_filtrado\n",
    "#df_filtrado = df_var[(df_var['Data'] >= data_inicial) & (df_var['Data'] <= data_atual)]"
   ]
  },
  {
   "cell_type": "code",
   "execution_count": null,
   "metadata": {},
   "outputs": [],
   "source": [
    "# Filtrando o periodo:\n",
    "titulo = '10 anos'\n",
    "data_atual = '2022-07-29' \n",
    "data_inicial = '2012-07-29'\n",
    "df_filtrado = df_var[(df_var.index >= data_inicial) & (df_var.index <= data_atual)]\n",
    "\n",
    "# Calculando as variações:\n",
    "acoes = df_filtrado['Δ% Ações'].sum()\n",
    "selic = df_filtrado['Δ% Selic'].sum()\n",
    "maior = 'Ações' if max(acoes, selic) == acoes else 'Selic' \n",
    "diferenca = max(acoes, selic) - min(acoes, selic)\n",
    "\n",
    "# Armazendo os resultados em um dicionário \n",
    "vp10a = {'Ações' : acoes, 'Selic': selic, 'Maior' : maior, 'diferença': diferenca}\n",
    "\n",
    "# Exibindo resultados\n",
    "tit()\n",
    "print(f\"Δ% Ações: {acoes : >23.2f}\")\n",
    "print(f\"Δ% Selic: {selic : >23.2f}\")\n",
    "linha()\n",
    "print(f\"{maior} renderam  {diferenca : .2f}% a mais\")\n",
    "linha()"
   ]
  },
  {
   "cell_type": "code",
   "execution_count": null,
   "metadata": {},
   "outputs": [],
   "source": [
    "# Filtrando o periodo:\n",
    "titulo = '5 anos'\n",
    "data_atual = '2022-07-29' \n",
    "data_inicial = '2017-07-29'\n",
    "df_filtrado = df_var[(df_var.index >= data_inicial) & (df_var.index <= data_atual)]\n",
    "\n",
    "# Calculando as variações:\n",
    "acoes = df_filtrado['Δ% Ações'].sum()\n",
    "selic = df_filtrado['Δ% Selic'].sum()\n",
    "maior = 'Ações' if max(acoes, selic) == acoes else 'Selic' \n",
    "diferenca = max(acoes, selic) - min(acoes, selic)\n",
    "\n",
    "# Armazendo os resultados em um dicionário \n",
    "vp5a = {'Ações' : acoes, 'Selic': selic, 'Maior' : maior, 'diferença': diferenca}\n",
    "\n",
    "# Exibindo resultados\n",
    "tit()\n",
    "print(f\"Δ% Ações: {acoes : >23.2f}\")\n",
    "print(f\"Δ% Selic: {selic : >23.2f}\")\n",
    "linha()\n",
    "print(f\"{maior} renderam  {diferenca : .2f}% a mais\")\n",
    "linha()"
   ]
  },
  {
   "cell_type": "code",
   "execution_count": null,
   "metadata": {},
   "outputs": [],
   "source": [
    "# Filtrando o periodo:\n",
    "titulo = '3 anos'\n",
    "data_atual = '2022-07-29' \n",
    "data_inicial = '2019-07-29'\n",
    "df_filtrado = df_var[(df_var.index >= data_inicial) & (df_var.index <= data_atual)]\n",
    "\n",
    "# Calculando as variações:\n",
    "acoes = df_filtrado['Δ% Ações'].sum()\n",
    "selic = df_filtrado['Δ% Selic'].sum()\n",
    "maior = 'Ações' if max(acoes, selic) == acoes else 'Selic' \n",
    "diferenca = max(acoes, selic) - min(acoes, selic)\n",
    "\n",
    "# Armazendo os resultados em um dicionário \n",
    "vp3a = {'Ações' : acoes, 'Selic': selic, 'Maior' : maior, 'diferença': diferenca}\n",
    "\n",
    "# Exibindo resultados\n",
    "tit()\n",
    "print(f\"Δ% Ações: {acoes : >23.2f}\")\n",
    "print(f\"Δ% Selic: {selic : >23.2f}\")\n",
    "linha()\n",
    "print(f\"{maior} renderam  {diferenca : .2f}% a mais\")\n",
    "linha()"
   ]
  },
  {
   "cell_type": "code",
   "execution_count": null,
   "metadata": {},
   "outputs": [],
   "source": [
    "# Filtrando o periodo:\n",
    "titulo = '2 anos'\n",
    "data_atual = '2022-07-29' \n",
    "data_inicial = '2010-07-29'\n",
    "df_filtrado = df_var[(df_var.index >= data_inicial) & (df_var.index <= data_atual)]\n",
    "\n",
    "# Calculando as variações:\n",
    "acoes = df_filtrado['Δ% Ações'].sum()\n",
    "selic = df_filtrado['Δ% Selic'].sum()\n",
    "maior = 'Ações' if max(acoes, selic) == acoes else 'Selic' \n",
    "diferenca = max(acoes, selic) - min(acoes, selic)\n",
    "\n",
    "# Armazendo os resultados em um dicionário \n",
    "vp2a = {'Ações' : acoes, 'Selic': selic, 'Maior' : maior, 'diferença': diferenca}\n",
    "\n",
    "# Exibindo resultados\n",
    "tit()\n",
    "print(f\"Δ% Ações: {acoes : >23.2f}\")\n",
    "print(f\"Δ% Selic: {selic : >23.2f}\")\n",
    "linha()\n",
    "print(f\"{maior} renderam  {diferenca : .2f}% a mais\")\n",
    "linha()"
   ]
  },
  {
   "cell_type": "code",
   "execution_count": null,
   "metadata": {},
   "outputs": [],
   "source": [
    "# Filtrando o periodo:\n",
    "titulo = '1 ano'\n",
    "data_atual = '2022-07-29' \n",
    "data_inicial = '2010-07-29'\n",
    "df_filtrado = df_var[(df_var.index >= data_inicial) & (df_var.index <= data_atual)]\n",
    "\n",
    "# Calculando as variações:\n",
    "acoes = df_filtrado['Δ% Ações'].sum()\n",
    "selic = df_filtrado['Δ% Selic'].sum()\n",
    "maior = 'Ações' if max(acoes, selic) == acoes else 'Selic' \n",
    "diferenca = max(acoes, selic) - min(acoes, selic)\n",
    "\n",
    "# Armazendo os resultados em um dicionário \n",
    "vp1a = {'Ações' : acoes, 'Selic': selic, 'Maior' : maior, 'diferença': diferenca}\n",
    "\n",
    "# Exibindo resultados\n",
    "tit()\n",
    "print(f\"Δ% Ações: {acoes : >23.2f}\")\n",
    "print(f\"Δ% Selic: {selic : >23.2f}\")\n",
    "linha()\n",
    "print(f\"{maior} renderam  {diferenca : .2f}% a mais\")\n",
    "linha()"
   ]
  },
  {
   "cell_type": "code",
   "execution_count": null,
   "metadata": {},
   "outputs": [],
   "source": [
    "# Filtrando o periodo:\n",
    "titulo = '3 meses'\n",
    "data_atual = '2022-07-29' \n",
    "data_inicial = '2010-04-29'\n",
    "df_filtrado = df_var[(df_var.index >= data_inicial) & (df_var.index <= data_atual)]\n",
    "\n",
    "# Calculando as variações:\n",
    "acoes = df_filtrado['Δ% Ações'].sum()\n",
    "selic = df_filtrado['Δ% Selic'].sum()\n",
    "maior = 'Ações' if max(acoes, selic) == acoes else 'Selic' \n",
    "diferenca = max(acoes, selic) - min(acoes, selic)\n",
    "\n",
    "# Armazendo os resultados em um dicionário \n",
    "vp6m = {'Ações' : acoes, 'Selic': selic, 'Maior' : maior, 'diferença': diferenca}\n",
    "\n",
    "# Exibindo resultados\n",
    "tit()\n",
    "print(f\"Δ% Ações: {acoes : >23.2f}\")\n",
    "print(f\"Δ% Selic: {selic : >23.2f}\")\n",
    "linha()\n",
    "print(f\"{maior} renderam  {diferenca : .2f}% a mais\")\n",
    "linha()"
   ]
  },
  {
   "cell_type": "markdown",
   "metadata": {},
   "source": [
    "# Revalidação dos dados\n",
    "\n",
    "Neste momento paro a análise, e farei uma revalidação dos dados, para saber se os dados continuam   \n",
    "consistentes, e não se corromperam em algum momento do processo.  \n",
    "Lembrando que eles já foram validados anteriormente.  \n",
    "Itens a serem válidados: \n",
    "* 3 Valores Selic aleatórios `ok`\n",
    "* 3 cotações aleatórias\n",
    "* 1 variação"
   ]
  },
  {
   "cell_type": "code",
   "execution_count": null,
   "metadata": {},
   "outputs": [],
   "source": [
    "df.shape"
   ]
  },
  {
   "cell_type": "code",
   "execution_count": null,
   "metadata": {},
   "outputs": [],
   "source": [
    "# Gerando fatores aleatórios para a verificação\n",
    "rows = [randint(0,263), randint(0,263), randint(0,263)]"
   ]
  },
  {
   "cell_type": "code",
   "execution_count": null,
   "metadata": {},
   "outputs": [],
   "source": [
    "# Puxando valores para conferência\n",
    "linha()\n",
    "print(\"Conferência Selic\".center(33))\n",
    "for row in rows:\n",
    "    linha()\n",
    "    print(f\"{df.index[row].date()} | {df['Selic'][row]}\".center(33))\n",
    "linha()"
   ]
  },
  {
   "cell_type": "markdown",
   "metadata": {},
   "source": [
    "Dados extraídos de contabeis.com.br [Fonte]('https://www.contabeis.com.br/tabelas/selic/')  \n",
    "<img src=\"https://i.ibb.co/jJ19bdQ/validacao.png\"  alt=\"Validação\"/> \n",
    ">Os dados da Selic estão consistentes"
   ]
  },
  {
   "cell_type": "code",
   "execution_count": null,
   "metadata": {},
   "outputs": [],
   "source": [
    "# Gerando novos fatores aleatórios para a verificação\n",
    "\n",
    "linha()\n",
    "print('Ações à validar'.center(33))\n",
    "linha()\n",
    "colunas = [randint(1,5), randint(1,5), randint(1,5)]\n",
    "linhas = [randint(0,263), randint(0,263), randint(0,263)]\n",
    "for c in range (0,3):\n",
    "    print(f'Colunas: {colunas[c]} | Linha: {linhas[c]}'.center(33))\n",
    "linha()"
   ]
  },
  {
   "cell_type": "code",
   "execution_count": null,
   "metadata": {},
   "outputs": [],
   "source": []
  },
  {
   "cell_type": "code",
   "execution_count": null,
   "metadata": {},
   "outputs": [],
   "source": [
    "#COLOCAR AQUI UMA MÉDIA FLUTUANTE\n",
    "#IMPORTANTE VALIDAR ESSES DADOS "
   ]
  }
 ],
 "metadata": {
  "kernelspec": {
   "display_name": "Python 3.10.4 64-bit",
   "language": "python",
   "name": "python3"
  },
  "language_info": {
   "codemirror_mode": {
    "name": "ipython",
    "version": 3
   },
   "file_extension": ".py",
   "mimetype": "text/x-python",
   "name": "python",
   "nbconvert_exporter": "python",
   "pygments_lexer": "ipython3",
   "version": "3.10.4"
  },
  "orig_nbformat": 4,
  "vscode": {
   "interpreter": {
    "hash": "5d11380547bba1e6c4b0ab7b7614350493a6d4caf256d9be4e363829d8f5c452"
   }
  }
 },
 "nbformat": 4,
 "nbformat_minor": 2
}

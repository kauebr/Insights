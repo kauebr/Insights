{
 "cells": [
  {
   "cell_type": "markdown",
   "metadata": {},
   "source": [
    "<img src=\"https://i.ibb.co/K5n24Nd/1.png\"  alt=\"KCode Banner\"  />\n",
    "\n",
    "<a href=\"https://www.linkedin.com/in/kauebr/\"><img src=\"https://cdn-icons-png.flaticon.com/512/174/174857.png\" width=\"30\" ></a> <a href=\"mailto: kauemandarino@gmail.com\"><img src=\"https://cdn-icons-png.flaticon.com/512/5968/5968534.png\" width=\"30\" ></a><a href=\"\n",
    "https://api.whatsapp.com/send?phone=5541991835800&text=Oi\"> <img src=\"https://imagepng.org/wp-content/uploads/2017/08/whatsapp-icone-1.png\" width=\"30\" ></a><a href=\"https://github.com/kauebr/\"><img src=\"https://github.githubassets.com/images/modules/logos_page/Octocat.png\" width=\"30\" ></a>\n"
   ]
  },
  {
   "cell_type": "markdown",
   "metadata": {},
   "source": [
    "# Análise exploratório de dados"
   ]
  },
  {
   "cell_type": "markdown",
   "metadata": {},
   "source": [
    "## Metodologia / Passos:\n",
    "* Fazer em excel um dataframe com as intereseccoes das datas e puxar `ok`\n",
    "* Fazer um dataframe com todos os valores das ações das empresas empresas no periodo `ok`\n",
    "* Tirar a média `ok`\n",
    "* Calcular a variação  `ok`\n",
    "* Criar um outro dataframe com a tx Selic `ok`\n",
    "* Calcular a variação  `ok`\n",
    "* Fazer a análise exploratória "
   ]
  },
  {
   "cell_type": "code",
   "execution_count": 8,
   "metadata": {},
   "outputs": [],
   "source": [
    "# Importando libs\n",
    "import pandas as pd"
   ]
  },
  {
   "cell_type": "markdown",
   "metadata": {},
   "source": [
    "# Criando o nossa série temporal"
   ]
  },
  {
   "cell_type": "code",
   "execution_count": 9,
   "metadata": {},
   "outputs": [
    {
     "data": {
      "text/html": [
       "<div>\n",
       "<style scoped>\n",
       "    .dataframe tbody tr th:only-of-type {\n",
       "        vertical-align: middle;\n",
       "    }\n",
       "\n",
       "    .dataframe tbody tr th {\n",
       "        vertical-align: top;\n",
       "    }\n",
       "\n",
       "    .dataframe thead th {\n",
       "        text-align: right;\n",
       "    }\n",
       "</style>\n",
       "<table border=\"1\" class=\"dataframe\">\n",
       "  <thead>\n",
       "    <tr style=\"text-align: right;\">\n",
       "      <th></th>\n",
       "      <th>Data</th>\n",
       "      <th>Vale</th>\n",
       "      <th>Gerdau Pref</th>\n",
       "      <th>Gerdau Met Pref</th>\n",
       "      <th>CSN</th>\n",
       "      <th>Usiminas</th>\n",
       "      <th>Selic</th>\n",
       "    </tr>\n",
       "  </thead>\n",
       "  <tbody>\n",
       "    <tr>\n",
       "      <th>0</th>\n",
       "      <td>1/31/2000</td>\n",
       "      <td>1.951422</td>\n",
       "      <td>268.362579</td>\n",
       "      <td>0.219444</td>\n",
       "      <td>1.667136</td>\n",
       "      <td>1.731119</td>\n",
       "      <td>1.46</td>\n",
       "    </tr>\n",
       "    <tr>\n",
       "      <th>1</th>\n",
       "      <td>2/29/2000</td>\n",
       "      <td>1.658708</td>\n",
       "      <td>263.639343</td>\n",
       "      <td>0.231984</td>\n",
       "      <td>1.566680</td>\n",
       "      <td>1.566250</td>\n",
       "      <td>1.45</td>\n",
       "    </tr>\n",
       "    <tr>\n",
       "      <th>2</th>\n",
       "      <td>3/31/2000</td>\n",
       "      <td>1.626185</td>\n",
       "      <td>244.209869</td>\n",
       "      <td>0.200635</td>\n",
       "      <td>1.754768</td>\n",
       "      <td>1.426112</td>\n",
       "      <td>1.45</td>\n",
       "    </tr>\n",
       "    <tr>\n",
       "      <th>3</th>\n",
       "      <td>4/28/2000</td>\n",
       "      <td>1.626185</td>\n",
       "      <td>234.012115</td>\n",
       "      <td>0.219444</td>\n",
       "      <td>1.453400</td>\n",
       "      <td>1.244756</td>\n",
       "      <td>1.30</td>\n",
       "    </tr>\n",
       "    <tr>\n",
       "      <th>4</th>\n",
       "      <td>5/31/2000</td>\n",
       "      <td>1.700176</td>\n",
       "      <td>1.252358</td>\n",
       "      <td>0.980719</td>\n",
       "      <td>1.709883</td>\n",
       "      <td>1.318947</td>\n",
       "      <td>1.49</td>\n",
       "    </tr>\n",
       "    <tr>\n",
       "      <th>...</th>\n",
       "      <td>...</td>\n",
       "      <td>...</td>\n",
       "      <td>...</td>\n",
       "      <td>...</td>\n",
       "      <td>...</td>\n",
       "      <td>...</td>\n",
       "      <td>...</td>\n",
       "    </tr>\n",
       "    <tr>\n",
       "      <th>258</th>\n",
       "      <td>3/31/2022</td>\n",
       "      <td>90.889160</td>\n",
       "      <td>29.354248</td>\n",
       "      <td>22.675573</td>\n",
       "      <td>25.608978</td>\n",
       "      <td>13.254291</td>\n",
       "      <td>0.93</td>\n",
       "    </tr>\n",
       "    <tr>\n",
       "      <th>259</th>\n",
       "      <td>4/29/2022</td>\n",
       "      <td>79.185761</td>\n",
       "      <td>26.648436</td>\n",
       "      <td>20.724682</td>\n",
       "      <td>20.729202</td>\n",
       "      <td>11.310000</td>\n",
       "      <td>0.83</td>\n",
       "    </tr>\n",
       "    <tr>\n",
       "      <th>260</th>\n",
       "      <td>5/31/2022</td>\n",
       "      <td>81.961868</td>\n",
       "      <td>28.365076</td>\n",
       "      <td>22.144821</td>\n",
       "      <td>21.840000</td>\n",
       "      <td>10.960000</td>\n",
       "      <td>1.03</td>\n",
       "    </tr>\n",
       "    <tr>\n",
       "      <th>261</th>\n",
       "      <td>6/30/2022</td>\n",
       "      <td>72.787384</td>\n",
       "      <td>21.733269</td>\n",
       "      <td>17.251686</td>\n",
       "      <td>15.440000</td>\n",
       "      <td>8.650000</td>\n",
       "      <td>1.02</td>\n",
       "    </tr>\n",
       "    <tr>\n",
       "      <th>262</th>\n",
       "      <td>7/29/2022</td>\n",
       "      <td>66.312965</td>\n",
       "      <td>23.785044</td>\n",
       "      <td>18.953648</td>\n",
       "      <td>14.710000</td>\n",
       "      <td>8.610000</td>\n",
       "      <td>1.03</td>\n",
       "    </tr>\n",
       "  </tbody>\n",
       "</table>\n",
       "<p>263 rows × 7 columns</p>\n",
       "</div>"
      ],
      "text/plain": [
       "          Data       Vale  Gerdau Pref  Gerdau Met Pref        CSN   Usiminas  \\\n",
       "0    1/31/2000   1.951422   268.362579         0.219444   1.667136   1.731119   \n",
       "1    2/29/2000   1.658708   263.639343         0.231984   1.566680   1.566250   \n",
       "2    3/31/2000   1.626185   244.209869         0.200635   1.754768   1.426112   \n",
       "3    4/28/2000   1.626185   234.012115         0.219444   1.453400   1.244756   \n",
       "4    5/31/2000   1.700176     1.252358         0.980719   1.709883   1.318947   \n",
       "..         ...        ...          ...              ...        ...        ...   \n",
       "258  3/31/2022  90.889160    29.354248        22.675573  25.608978  13.254291   \n",
       "259  4/29/2022  79.185761    26.648436        20.724682  20.729202  11.310000   \n",
       "260  5/31/2022  81.961868    28.365076        22.144821  21.840000  10.960000   \n",
       "261  6/30/2022  72.787384    21.733269        17.251686  15.440000   8.650000   \n",
       "262  7/29/2022  66.312965    23.785044        18.953648  14.710000   8.610000   \n",
       "\n",
       "     Selic  \n",
       "0     1.46  \n",
       "1     1.45  \n",
       "2     1.45  \n",
       "3     1.30  \n",
       "4     1.49  \n",
       "..     ...  \n",
       "258   0.93  \n",
       "259   0.83  \n",
       "260   1.03  \n",
       "261   1.02  \n",
       "262   1.03  \n",
       "\n",
       "[263 rows x 7 columns]"
      ]
     },
     "execution_count": 9,
     "metadata": {},
     "output_type": "execute_result"
    }
   ],
   "source": [
    "# Puxando os dados\n",
    "dir = 'C:/Users/manda/OneDrive/Documents/GitHub/Insights/Setor Siderúrgico Nacional/2 Entrega - Cliclo 2/Passo 03 e 04 - Coleta e limpeza dos dados/DataFrames/DF pronto para análise pandas.csv'\n",
    "df = pd.read_csv(dir, skiprows=1, encoding='UTF8')\n",
    "# Dropando coluna desnecessária\n",
    "df = df.drop(columns=['Unnamed: 0'])\n",
    "df\n"
   ]
  },
  {
   "cell_type": "code",
   "execution_count": 10,
   "metadata": {},
   "outputs": [
    {
     "name": "stdout",
     "output_type": "stream",
     "text": [
      "<class 'pandas.core.frame.DataFrame'>\n",
      "RangeIndex: 263 entries, 0 to 262\n",
      "Data columns (total 7 columns):\n",
      " #   Column           Non-Null Count  Dtype  \n",
      "---  ------           --------------  -----  \n",
      " 0   Data             263 non-null    object \n",
      " 1   Vale             263 non-null    float64\n",
      " 2   Gerdau Pref      263 non-null    float64\n",
      " 3   Gerdau Met Pref  263 non-null    float64\n",
      " 4   CSN              263 non-null    float64\n",
      " 5   Usiminas         263 non-null    float64\n",
      " 6   Selic            263 non-null    float64\n",
      "dtypes: float64(6), object(1)\n",
      "memory usage: 14.5+ KB\n"
     ]
    }
   ],
   "source": [
    "df.info()"
   ]
  },
  {
   "cell_type": "markdown",
   "metadata": {},
   "source": [
    "A data esta no formato str, vamos corrigir:"
   ]
  },
  {
   "cell_type": "code",
   "execution_count": 11,
   "metadata": {},
   "outputs": [],
   "source": [
    "df['Data']= pd.to_datetime(df['Data'])\n"
   ]
  },
  {
   "cell_type": "code",
   "execution_count": 12,
   "metadata": {},
   "outputs": [
    {
     "name": "stdout",
     "output_type": "stream",
     "text": [
      "<class 'pandas.core.frame.DataFrame'>\n",
      "RangeIndex: 263 entries, 0 to 262\n",
      "Data columns (total 7 columns):\n",
      " #   Column           Non-Null Count  Dtype         \n",
      "---  ------           --------------  -----         \n",
      " 0   Data             263 non-null    datetime64[ns]\n",
      " 1   Vale             263 non-null    float64       \n",
      " 2   Gerdau Pref      263 non-null    float64       \n",
      " 3   Gerdau Met Pref  263 non-null    float64       \n",
      " 4   CSN              263 non-null    float64       \n",
      " 5   Usiminas         263 non-null    float64       \n",
      " 6   Selic            263 non-null    float64       \n",
      "dtypes: datetime64[ns](1), float64(6)\n",
      "memory usage: 14.5 KB\n"
     ]
    }
   ],
   "source": [
    "df.info()"
   ]
  },
  {
   "cell_type": "markdown",
   "metadata": {},
   "source": [
    "# Modelando nossos dados"
   ]
  },
  {
   "cell_type": "code",
   "execution_count": 13,
   "metadata": {},
   "outputs": [
    {
     "data": {
      "text/html": [
       "<div>\n",
       "<style scoped>\n",
       "    .dataframe tbody tr th:only-of-type {\n",
       "        vertical-align: middle;\n",
       "    }\n",
       "\n",
       "    .dataframe tbody tr th {\n",
       "        vertical-align: top;\n",
       "    }\n",
       "\n",
       "    .dataframe thead th {\n",
       "        text-align: right;\n",
       "    }\n",
       "</style>\n",
       "<table border=\"1\" class=\"dataframe\">\n",
       "  <thead>\n",
       "    <tr style=\"text-align: right;\">\n",
       "      <th></th>\n",
       "      <th>Data</th>\n",
       "      <th>Vale</th>\n",
       "      <th>Gerdau Pref</th>\n",
       "      <th>Gerdau Met Pref</th>\n",
       "      <th>CSN</th>\n",
       "      <th>Usiminas</th>\n",
       "      <th>Selic</th>\n",
       "      <th>Média ações</th>\n",
       "    </tr>\n",
       "  </thead>\n",
       "  <tbody>\n",
       "    <tr>\n",
       "      <th>0</th>\n",
       "      <td>2000-01-31</td>\n",
       "      <td>1.951422</td>\n",
       "      <td>268.362579</td>\n",
       "      <td>0.219444</td>\n",
       "      <td>1.667136</td>\n",
       "      <td>1.731119</td>\n",
       "      <td>1.46</td>\n",
       "      <td>54.786340</td>\n",
       "    </tr>\n",
       "    <tr>\n",
       "      <th>1</th>\n",
       "      <td>2000-02-29</td>\n",
       "      <td>1.658708</td>\n",
       "      <td>263.639343</td>\n",
       "      <td>0.231984</td>\n",
       "      <td>1.566680</td>\n",
       "      <td>1.566250</td>\n",
       "      <td>1.45</td>\n",
       "      <td>53.732593</td>\n",
       "    </tr>\n",
       "    <tr>\n",
       "      <th>2</th>\n",
       "      <td>2000-03-31</td>\n",
       "      <td>1.626185</td>\n",
       "      <td>244.209869</td>\n",
       "      <td>0.200635</td>\n",
       "      <td>1.754768</td>\n",
       "      <td>1.426112</td>\n",
       "      <td>1.45</td>\n",
       "      <td>49.843514</td>\n",
       "    </tr>\n",
       "    <tr>\n",
       "      <th>3</th>\n",
       "      <td>2000-04-28</td>\n",
       "      <td>1.626185</td>\n",
       "      <td>234.012115</td>\n",
       "      <td>0.219444</td>\n",
       "      <td>1.453400</td>\n",
       "      <td>1.244756</td>\n",
       "      <td>1.30</td>\n",
       "      <td>47.711180</td>\n",
       "    </tr>\n",
       "    <tr>\n",
       "      <th>4</th>\n",
       "      <td>2000-05-31</td>\n",
       "      <td>1.700176</td>\n",
       "      <td>1.252358</td>\n",
       "      <td>0.980719</td>\n",
       "      <td>1.709883</td>\n",
       "      <td>1.318947</td>\n",
       "      <td>1.49</td>\n",
       "      <td>1.392417</td>\n",
       "    </tr>\n",
       "    <tr>\n",
       "      <th>...</th>\n",
       "      <td>...</td>\n",
       "      <td>...</td>\n",
       "      <td>...</td>\n",
       "      <td>...</td>\n",
       "      <td>...</td>\n",
       "      <td>...</td>\n",
       "      <td>...</td>\n",
       "      <td>...</td>\n",
       "    </tr>\n",
       "    <tr>\n",
       "      <th>258</th>\n",
       "      <td>2022-03-31</td>\n",
       "      <td>90.889160</td>\n",
       "      <td>29.354248</td>\n",
       "      <td>22.675573</td>\n",
       "      <td>25.608978</td>\n",
       "      <td>13.254291</td>\n",
       "      <td>0.93</td>\n",
       "      <td>36.356450</td>\n",
       "    </tr>\n",
       "    <tr>\n",
       "      <th>259</th>\n",
       "      <td>2022-04-29</td>\n",
       "      <td>79.185761</td>\n",
       "      <td>26.648436</td>\n",
       "      <td>20.724682</td>\n",
       "      <td>20.729202</td>\n",
       "      <td>11.310000</td>\n",
       "      <td>0.83</td>\n",
       "      <td>31.719616</td>\n",
       "    </tr>\n",
       "    <tr>\n",
       "      <th>260</th>\n",
       "      <td>2022-05-31</td>\n",
       "      <td>81.961868</td>\n",
       "      <td>28.365076</td>\n",
       "      <td>22.144821</td>\n",
       "      <td>21.840000</td>\n",
       "      <td>10.960000</td>\n",
       "      <td>1.03</td>\n",
       "      <td>33.054353</td>\n",
       "    </tr>\n",
       "    <tr>\n",
       "      <th>261</th>\n",
       "      <td>2022-06-30</td>\n",
       "      <td>72.787384</td>\n",
       "      <td>21.733269</td>\n",
       "      <td>17.251686</td>\n",
       "      <td>15.440000</td>\n",
       "      <td>8.650000</td>\n",
       "      <td>1.02</td>\n",
       "      <td>27.172468</td>\n",
       "    </tr>\n",
       "    <tr>\n",
       "      <th>262</th>\n",
       "      <td>2022-07-29</td>\n",
       "      <td>66.312965</td>\n",
       "      <td>23.785044</td>\n",
       "      <td>18.953648</td>\n",
       "      <td>14.710000</td>\n",
       "      <td>8.610000</td>\n",
       "      <td>1.03</td>\n",
       "      <td>26.474331</td>\n",
       "    </tr>\n",
       "  </tbody>\n",
       "</table>\n",
       "<p>263 rows × 8 columns</p>\n",
       "</div>"
      ],
      "text/plain": [
       "          Data       Vale  Gerdau Pref  Gerdau Met Pref        CSN   Usiminas  \\\n",
       "0   2000-01-31   1.951422   268.362579         0.219444   1.667136   1.731119   \n",
       "1   2000-02-29   1.658708   263.639343         0.231984   1.566680   1.566250   \n",
       "2   2000-03-31   1.626185   244.209869         0.200635   1.754768   1.426112   \n",
       "3   2000-04-28   1.626185   234.012115         0.219444   1.453400   1.244756   \n",
       "4   2000-05-31   1.700176     1.252358         0.980719   1.709883   1.318947   \n",
       "..         ...        ...          ...              ...        ...        ...   \n",
       "258 2022-03-31  90.889160    29.354248        22.675573  25.608978  13.254291   \n",
       "259 2022-04-29  79.185761    26.648436        20.724682  20.729202  11.310000   \n",
       "260 2022-05-31  81.961868    28.365076        22.144821  21.840000  10.960000   \n",
       "261 2022-06-30  72.787384    21.733269        17.251686  15.440000   8.650000   \n",
       "262 2022-07-29  66.312965    23.785044        18.953648  14.710000   8.610000   \n",
       "\n",
       "     Selic  Média ações  \n",
       "0     1.46    54.786340  \n",
       "1     1.45    53.732593  \n",
       "2     1.45    49.843514  \n",
       "3     1.30    47.711180  \n",
       "4     1.49     1.392417  \n",
       "..     ...          ...  \n",
       "258   0.93    36.356450  \n",
       "259   0.83    31.719616  \n",
       "260   1.03    33.054353  \n",
       "261   1.02    27.172468  \n",
       "262   1.03    26.474331  \n",
       "\n",
       "[263 rows x 8 columns]"
      ]
     },
     "execution_count": 13,
     "metadata": {},
     "output_type": "execute_result"
    }
   ],
   "source": [
    "# Inserindo uma coluna com a média do valor das ações\n",
    "df['Média ações'] = (df['Vale'] + df['Gerdau Pref'] + df['Gerdau Met Pref'] + df['CSN'] +df['Usiminas'])/5\n",
    "df"
   ]
  },
  {
   "cell_type": "markdown",
   "metadata": {},
   "source": [
    "## Calculando a variância percentual"
   ]
  },
  {
   "cell_type": "code",
   "execution_count": 14,
   "metadata": {},
   "outputs": [
    {
     "data": {
      "text/html": [
       "<div>\n",
       "<style scoped>\n",
       "    .dataframe tbody tr th:only-of-type {\n",
       "        vertical-align: middle;\n",
       "    }\n",
       "\n",
       "    .dataframe tbody tr th {\n",
       "        vertical-align: top;\n",
       "    }\n",
       "\n",
       "    .dataframe thead th {\n",
       "        text-align: right;\n",
       "    }\n",
       "</style>\n",
       "<table border=\"1\" class=\"dataframe\">\n",
       "  <thead>\n",
       "    <tr style=\"text-align: right;\">\n",
       "      <th></th>\n",
       "      <th>Data</th>\n",
       "      <th>Média ações</th>\n",
       "      <th>Selic</th>\n",
       "    </tr>\n",
       "  </thead>\n",
       "  <tbody>\n",
       "    <tr>\n",
       "      <th>0</th>\n",
       "      <td>2000-01-31</td>\n",
       "      <td>54.786340</td>\n",
       "      <td>1.46</td>\n",
       "    </tr>\n",
       "    <tr>\n",
       "      <th>1</th>\n",
       "      <td>2000-02-29</td>\n",
       "      <td>53.732593</td>\n",
       "      <td>1.45</td>\n",
       "    </tr>\n",
       "    <tr>\n",
       "      <th>2</th>\n",
       "      <td>2000-03-31</td>\n",
       "      <td>49.843514</td>\n",
       "      <td>1.45</td>\n",
       "    </tr>\n",
       "    <tr>\n",
       "      <th>3</th>\n",
       "      <td>2000-04-28</td>\n",
       "      <td>47.711180</td>\n",
       "      <td>1.30</td>\n",
       "    </tr>\n",
       "    <tr>\n",
       "      <th>4</th>\n",
       "      <td>2000-05-31</td>\n",
       "      <td>1.392417</td>\n",
       "      <td>1.49</td>\n",
       "    </tr>\n",
       "    <tr>\n",
       "      <th>...</th>\n",
       "      <td>...</td>\n",
       "      <td>...</td>\n",
       "      <td>...</td>\n",
       "    </tr>\n",
       "    <tr>\n",
       "      <th>258</th>\n",
       "      <td>2022-03-31</td>\n",
       "      <td>36.356450</td>\n",
       "      <td>0.93</td>\n",
       "    </tr>\n",
       "    <tr>\n",
       "      <th>259</th>\n",
       "      <td>2022-04-29</td>\n",
       "      <td>31.719616</td>\n",
       "      <td>0.83</td>\n",
       "    </tr>\n",
       "    <tr>\n",
       "      <th>260</th>\n",
       "      <td>2022-05-31</td>\n",
       "      <td>33.054353</td>\n",
       "      <td>1.03</td>\n",
       "    </tr>\n",
       "    <tr>\n",
       "      <th>261</th>\n",
       "      <td>2022-06-30</td>\n",
       "      <td>27.172468</td>\n",
       "      <td>1.02</td>\n",
       "    </tr>\n",
       "    <tr>\n",
       "      <th>262</th>\n",
       "      <td>2022-07-29</td>\n",
       "      <td>26.474331</td>\n",
       "      <td>1.03</td>\n",
       "    </tr>\n",
       "  </tbody>\n",
       "</table>\n",
       "<p>263 rows × 3 columns</p>\n",
       "</div>"
      ],
      "text/plain": [
       "          Data  Média ações  Selic\n",
       "0   2000-01-31    54.786340   1.46\n",
       "1   2000-02-29    53.732593   1.45\n",
       "2   2000-03-31    49.843514   1.45\n",
       "3   2000-04-28    47.711180   1.30\n",
       "4   2000-05-31     1.392417   1.49\n",
       "..         ...          ...    ...\n",
       "258 2022-03-31    36.356450   0.93\n",
       "259 2022-04-29    31.719616   0.83\n",
       "260 2022-05-31    33.054353   1.03\n",
       "261 2022-06-30    27.172468   1.02\n",
       "262 2022-07-29    26.474331   1.03\n",
       "\n",
       "[263 rows x 3 columns]"
      ]
     },
     "execution_count": 14,
     "metadata": {},
     "output_type": "execute_result"
    }
   ],
   "source": [
    "# Reduzindo o dataframe\n",
    "df_filtrado = df[['Data', 'Média ações', 'Selic']]\n",
    "df_filtrado"
   ]
  },
  {
   "cell_type": "code",
   "execution_count": null,
   "metadata": {},
   "outputs": [],
   "source": []
  },
  {
   "cell_type": "code",
   "execution_count": 16,
   "metadata": {},
   "outputs": [],
   "source": [
    "df_filtrado.insert(loc = 2, column = 'Δ% Ações', value = round(df_filtrado['Média ações'].pct_change()*100, 2))\n",
    "df_filtrado.insert(loc = 4, column = 'Δ% Selic', value = round(df_filtrado['Selic'].pct_change()*100, 2))"
   ]
  },
  {
   "cell_type": "code",
   "execution_count": 17,
   "metadata": {},
   "outputs": [],
   "source": [
    "# Criando um data frame só com as variáveis\n",
    "\n",
    "df_var = df_filtrado[['Data', 'Δ% Ações', 'Δ% Selic']]"
   ]
  },
  {
   "cell_type": "code",
   "execution_count": 47,
   "metadata": {},
   "outputs": [
    {
     "data": {
      "text/html": [
       "<div>\n",
       "<style scoped>\n",
       "    .dataframe tbody tr th:only-of-type {\n",
       "        vertical-align: middle;\n",
       "    }\n",
       "\n",
       "    .dataframe tbody tr th {\n",
       "        vertical-align: top;\n",
       "    }\n",
       "\n",
       "    .dataframe thead th {\n",
       "        text-align: right;\n",
       "    }\n",
       "</style>\n",
       "<table border=\"1\" class=\"dataframe\">\n",
       "  <thead>\n",
       "    <tr style=\"text-align: right;\">\n",
       "      <th></th>\n",
       "      <th>Data</th>\n",
       "      <th>Δ% Ações</th>\n",
       "      <th>Δ% Selic</th>\n",
       "    </tr>\n",
       "  </thead>\n",
       "  <tbody>\n",
       "    <tr>\n",
       "      <th>0</th>\n",
       "      <td>2000-01-31</td>\n",
       "      <td>NaN</td>\n",
       "      <td>NaN</td>\n",
       "    </tr>\n",
       "    <tr>\n",
       "      <th>1</th>\n",
       "      <td>2000-02-29</td>\n",
       "      <td>-1.92</td>\n",
       "      <td>-0.68</td>\n",
       "    </tr>\n",
       "    <tr>\n",
       "      <th>2</th>\n",
       "      <td>2000-03-31</td>\n",
       "      <td>-7.24</td>\n",
       "      <td>0.00</td>\n",
       "    </tr>\n",
       "    <tr>\n",
       "      <th>3</th>\n",
       "      <td>2000-04-28</td>\n",
       "      <td>-4.28</td>\n",
       "      <td>-10.34</td>\n",
       "    </tr>\n",
       "    <tr>\n",
       "      <th>4</th>\n",
       "      <td>2000-05-31</td>\n",
       "      <td>-97.08</td>\n",
       "      <td>14.62</td>\n",
       "    </tr>\n",
       "    <tr>\n",
       "      <th>...</th>\n",
       "      <td>...</td>\n",
       "      <td>...</td>\n",
       "      <td>...</td>\n",
       "    </tr>\n",
       "    <tr>\n",
       "      <th>258</th>\n",
       "      <td>2022-03-31</td>\n",
       "      <td>9.36</td>\n",
       "      <td>22.37</td>\n",
       "    </tr>\n",
       "    <tr>\n",
       "      <th>259</th>\n",
       "      <td>2022-04-29</td>\n",
       "      <td>-12.75</td>\n",
       "      <td>-10.75</td>\n",
       "    </tr>\n",
       "    <tr>\n",
       "      <th>260</th>\n",
       "      <td>2022-05-31</td>\n",
       "      <td>4.21</td>\n",
       "      <td>24.10</td>\n",
       "    </tr>\n",
       "    <tr>\n",
       "      <th>261</th>\n",
       "      <td>2022-06-30</td>\n",
       "      <td>-17.79</td>\n",
       "      <td>-0.97</td>\n",
       "    </tr>\n",
       "    <tr>\n",
       "      <th>262</th>\n",
       "      <td>2022-07-29</td>\n",
       "      <td>-2.57</td>\n",
       "      <td>0.98</td>\n",
       "    </tr>\n",
       "  </tbody>\n",
       "</table>\n",
       "<p>263 rows × 3 columns</p>\n",
       "</div>"
      ],
      "text/plain": [
       "          Data  Δ% Ações  Δ% Selic\n",
       "0   2000-01-31       NaN       NaN\n",
       "1   2000-02-29     -1.92     -0.68\n",
       "2   2000-03-31     -7.24      0.00\n",
       "3   2000-04-28     -4.28    -10.34\n",
       "4   2000-05-31    -97.08     14.62\n",
       "..         ...       ...       ...\n",
       "258 2022-03-31      9.36     22.37\n",
       "259 2022-04-29    -12.75    -10.75\n",
       "260 2022-05-31      4.21     24.10\n",
       "261 2022-06-30    -17.79     -0.97\n",
       "262 2022-07-29     -2.57      0.98\n",
       "\n",
       "[263 rows x 3 columns]"
      ]
     },
     "execution_count": 47,
     "metadata": {},
     "output_type": "execute_result"
    }
   ],
   "source": [
    "df_var"
   ]
  },
  {
   "cell_type": "markdown",
   "metadata": {},
   "source": [
    "> Finalmente os dados estão modelados e preparados para nossa análise exploratória;"
   ]
  },
  {
   "cell_type": "markdown",
   "metadata": {},
   "source": [
    "# Análise exploratória dos dados"
   ]
  },
  {
   "cell_type": "markdown",
   "metadata": {},
   "source": [
    "## Metodologia\n",
    "* Vou calcular as variações percentuais para os periodos: todo(22a.), 10a, 5a, 3a, 2a, 1a, 6m `ok]`\n",
    "vou plotar um gráfico com as informações supracitadas"
   ]
  },
  {
   "cell_type": "code",
   "execution_count": 99,
   "metadata": {},
   "outputs": [],
   "source": [
    "# Definido funções para apresentação visual(str) dos resultados\n",
    "def linha():\n",
    "    print(33*'-')\n",
    "def tit():\n",
    "    linha()\n",
    "    print(f\"{titulo : ^33}\")\n",
    "    linha()\n",
    "    print('Rendimento:')"
   ]
  },
  {
   "cell_type": "code",
   "execution_count": 104,
   "metadata": {},
   "outputs": [
    {
     "name": "stdout",
     "output_type": "stream",
     "text": [
      "---------------------------------\n",
      "       Periodo todo(22a.)        \n",
      "---------------------------------\n",
      "Rendimento:\n",
      "Δ% Ações:                  332.88\n",
      "Δ% Selic:                  144.32\n",
      "---------------------------------\n",
      "Ações renderam  188.56% a mais\n",
      "---------------------------------\n"
     ]
    }
   ],
   "source": [
    "titulo = ('Periodo todo(22a.)')\n",
    "\n",
    "# Calculando as variações:\n",
    "acoes = df_var['Δ% Ações'].sum()\n",
    "selic = df_var['Δ% Selic'].sum()\n",
    "maior = 'Ações' if max(acoes, selic) == acoes else 'Selic' \n",
    "diferenca = max(acoes, selic) - min(acoes, selic)\n",
    "\n",
    "# Armazendo os resultados em um dicionário \n",
    "vp22a = {'Ações' : acoes, 'Selic': selic, 'Maior' : maior, 'diferença': diferenca}\n",
    "\n",
    "tit()\n",
    "print(f\"Δ% Ações: {acoes : >23}\")\n",
    "print(f\"Δ% Selic: {selic : >23}\")\n",
    "linha()\n",
    "print(f\"{maior} renderam  {diferenca}% a mais\")\n",
    "linha()"
   ]
  },
  {
   "cell_type": "markdown",
   "metadata": {},
   "source": [
    "De cara já vemos que que no período total as ações renderam mais que o dobro do que a selic  \n",
    "Agora vamos ver nos períodos mais proximos"
   ]
  },
  {
   "cell_type": "code",
   "execution_count": 40,
   "metadata": {},
   "outputs": [
    {
     "name": "stderr",
     "output_type": "stream",
     "text": [
      "C:\\Users\\manda\\AppData\\Local\\Temp\\ipykernel_3632\\4090666541.py:8: FutureWarning: Dropping of nuisance columns in DataFrame reductions (with 'numeric_only=None') is deprecated; in a future version this will raise TypeError.  Select only valid columns before calling the reduction.\n",
      "  df_filtrado.sum()\n"
     ]
    },
    {
     "data": {
      "text/plain": [
       "Δ% Ações    166.27\n",
       "Δ% Selic    143.45\n",
       "dtype: float64"
      ]
     },
     "execution_count": 40,
     "metadata": {},
     "output_type": "execute_result"
    }
   ],
   "source": [
    "# Últimos dez anos;\n",
    "periodo = '10 anos'\n",
    "data_atual = '2022-07-29' \n",
    "data_inicial = '2012-07-29'\n",
    "df_filtrado = df_var[(df_var['Data'] >= data_inicial) & (df_var['Data'] <= data_atual)]\n",
    "df_filtrado.sum()"
   ]
  },
  {
   "cell_type": "code",
   "execution_count": 42,
   "metadata": {},
   "outputs": [
    {
     "name": "stderr",
     "output_type": "stream",
     "text": [
      "C:\\Users\\manda\\AppData\\Local\\Temp\\ipykernel_3632\\4262090789.py:6: FutureWarning: Dropping of nuisance columns in DataFrame reductions (with 'numeric_only=None') is deprecated; in a future version this will raise TypeError.  Select only valid columns before calling the reduction.\n",
      "  df_filtrado.sum()\n"
     ]
    },
    {
     "data": {
      "text/plain": [
       "Δ% Ações    133.49\n",
       "Δ% Selic     84.08\n",
       "dtype: float64"
      ]
     },
     "execution_count": 42,
     "metadata": {},
     "output_type": "execute_result"
    }
   ],
   "source": [
    "# Últimos 5 anos;\n",
    "periodo = '5 anos'\n",
    "data_atual = '2022-07-29' \n",
    "data_inicial = '2017-07-29'\n",
    "df_filtrado = df_var[(df_var['Data'] >= data_inicial) & (df_var['Data'] <= data_atual)]\n",
    "df_filtrado.sum()"
   ]
  },
  {
   "cell_type": "code",
   "execution_count": 43,
   "metadata": {},
   "outputs": [
    {
     "name": "stderr",
     "output_type": "stream",
     "text": [
      "C:\\Users\\manda\\AppData\\Local\\Temp\\ipykernel_3632\\1939839253.py:6: FutureWarning: Dropping of nuisance columns in DataFrame reductions (with 'numeric_only=None') is deprecated; in a future version this will raise TypeError.  Select only valid columns before calling the reduction.\n",
      "  df_filtrado.sum()\n"
     ]
    },
    {
     "data": {
      "text/plain": [
       "Δ% Ações     66.59\n",
       "Δ% Selic    126.30\n",
       "dtype: float64"
      ]
     },
     "execution_count": 43,
     "metadata": {},
     "output_type": "execute_result"
    }
   ],
   "source": [
    "# Últimos 3 anos;\n",
    "periodo = '3 anos'\n",
    "data_atual = '2022-07-29' \n",
    "data_inicial = '2019-07-29'\n",
    "df_filtrado = df_var[(df_var['Data'] >= data_inicial) & (df_var['Data'] <= data_atual)]\n",
    "df_filtrado.sum()"
   ]
  },
  {
   "cell_type": "code",
   "execution_count": 44,
   "metadata": {},
   "outputs": [
    {
     "name": "stderr",
     "output_type": "stream",
     "text": [
      "C:\\Users\\manda\\AppData\\Local\\Temp\\ipykernel_3632\\1980904673.py:6: FutureWarning: Dropping of nuisance columns in DataFrame reductions (with 'numeric_only=None') is deprecated; in a future version this will raise TypeError.  Select only valid columns before calling the reduction.\n",
      "  df_filtrado.sum()\n"
     ]
    },
    {
     "data": {
      "text/plain": [
       "Δ% Ações     59.29\n",
       "Δ% Selic    192.59\n",
       "dtype: float64"
      ]
     },
     "execution_count": 44,
     "metadata": {},
     "output_type": "execute_result"
    }
   ],
   "source": [
    "# Últimos 2 anos;\n",
    "periodo = '2 anos'\n",
    "data_atual = '2022-07-29' \n",
    "data_inicial = '2020-07-29'\n",
    "df_filtrado = df_var[(df_var['Data'] >= data_inicial) & (df_var['Data'] <= data_atual)]\n",
    "df_filtrado.sum()"
   ]
  },
  {
   "cell_type": "code",
   "execution_count": 45,
   "metadata": {},
   "outputs": [
    {
     "name": "stderr",
     "output_type": "stream",
     "text": [
      "C:\\Users\\manda\\AppData\\Local\\Temp\\ipykernel_3632\\584286412.py:6: FutureWarning: Dropping of nuisance columns in DataFrame reductions (with 'numeric_only=None') is deprecated; in a future version this will raise TypeError.  Select only valid columns before calling the reduction.\n",
      "  df_filtrado.sum()\n"
     ]
    },
    {
     "data": {
      "text/plain": [
       "Δ% Ações    -35.01\n",
       "Δ% Selic    134.83\n",
       "dtype: float64"
      ]
     },
     "execution_count": 45,
     "metadata": {},
     "output_type": "execute_result"
    }
   ],
   "source": [
    "# Últimos 1 anos;\n",
    "periodo = '2 anos'\n",
    "data_atual = '2022-07-29' \n",
    "data_inicial = '2021-07-29'\n",
    "df_filtrado = df_var[(df_var['Data'] >= data_inicial) & (df_var['Data'] <= data_atual)]\n",
    "df_filtrado.sum()"
   ]
  },
  {
   "cell_type": "code",
   "execution_count": 46,
   "metadata": {},
   "outputs": [
    {
     "name": "stderr",
     "output_type": "stream",
     "text": [
      "C:\\Users\\manda\\AppData\\Local\\Temp\\ipykernel_3632\\881468118.py:6: FutureWarning: Dropping of nuisance columns in DataFrame reductions (with 'numeric_only=None') is deprecated; in a future version this will raise TypeError.  Select only valid columns before calling the reduction.\n",
      "  df_filtrado.sum()\n"
     ]
    },
    {
     "data": {
      "text/plain": [
       "Δ% Ações   -13.71\n",
       "Δ% Selic    34.65\n",
       "dtype: float64"
      ]
     },
     "execution_count": 46,
     "metadata": {},
     "output_type": "execute_result"
    }
   ],
   "source": [
    "# Últimos 6 meses;\n",
    "periodo = '6 meses'\n",
    "data_atual = '2022-07-29' \n",
    "data_inicial = '2022-01-29'\n",
    "df_filtrado = df_var[(df_var['Data'] >= data_inicial) & (df_var['Data'] <= data_atual)]\n",
    "df_filtrado.sum()"
   ]
  },
  {
   "cell_type": "code",
   "execution_count": null,
   "metadata": {},
   "outputs": [],
   "source": [
    "#COLOCAR AQUI UMA MÉDIA FLUTUANTE\n",
    "#IMPORTANTE VALIDAR ESSES DADOS "
   ]
  }
 ],
 "metadata": {
  "kernelspec": {
   "display_name": "Python 3.10.4 64-bit",
   "language": "python",
   "name": "python3"
  },
  "language_info": {
   "codemirror_mode": {
    "name": "ipython",
    "version": 3
   },
   "file_extension": ".py",
   "mimetype": "text/x-python",
   "name": "python",
   "nbconvert_exporter": "python",
   "pygments_lexer": "ipython3",
   "version": "3.10.4"
  },
  "orig_nbformat": 4,
  "vscode": {
   "interpreter": {
    "hash": "5d11380547bba1e6c4b0ab7b7614350493a6d4caf256d9be4e363829d8f5c452"
   }
  }
 },
 "nbformat": 4,
 "nbformat_minor": 2
}

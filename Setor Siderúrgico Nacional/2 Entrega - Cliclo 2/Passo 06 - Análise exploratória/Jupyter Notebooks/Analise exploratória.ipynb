{
 "cells": [
  {
   "cell_type": "markdown",
   "metadata": {},
   "source": [
    "<img src=\"https://i.ibb.co/K5n24Nd/1.png\"  alt=\"KCode Banner\"  />\n",
    "\n",
    "<a href=\"https://www.linkedin.com/in/kauebr/\"><img src=\"https://cdn-icons-png.flaticon.com/512/174/174857.png\" width=\"30\" ></a> <a href=\"mailto: kauemandarino@gmail.com\"><img src=\"https://cdn-icons-png.flaticon.com/512/5968/5968534.png\" width=\"30\" ></a><a href=\"\n",
    "https://api.whatsapp.com/send?phone=5541991835800&text=Oi\"> <img src=\"https://imagepng.org/wp-content/uploads/2017/08/whatsapp-icone-1.png\" width=\"30\" ></a><a href=\"https://github.com/kauebr/\"><img src=\"https://github.githubassets.com/images/modules/logos_page/Octocat.png\" width=\"30\" ></a>\n"
   ]
  },
  {
   "cell_type": "markdown",
   "metadata": {},
   "source": [
    "# Análise exploratório de dados"
   ]
  },
  {
   "cell_type": "markdown",
   "metadata": {},
   "source": [
    "## Metodologia / Passos:\n",
    "* Fazer em excel um dataframe com as intereseccoes das datas e puxar `ok`\n",
    "* Fazer um dataframe com todos os valores das ações das empresas empresas no periodo `ok`\n",
    "* Tirar a média `ok`\n",
    "* Calcular a variação  `ok`\n",
    "* Criar um outro dataframe com a tx Selic `ok`\n",
    "* Calcular a variação  `ok`\n",
    "* Fazer a análise exploratória "
   ]
  },
  {
   "cell_type": "code",
   "execution_count": 1,
   "metadata": {},
   "outputs": [],
   "source": [
    "# Importando libs\n",
    "import pandas as pd"
   ]
  },
  {
   "cell_type": "markdown",
   "metadata": {},
   "source": [
    "# Criando o nossa série temporal"
   ]
  },
  {
   "cell_type": "code",
   "execution_count": null,
   "metadata": {},
   "outputs": [],
   "source": [
    "pd.Series"
   ]
  },
  {
   "cell_type": "code",
   "execution_count": 10,
   "metadata": {},
   "outputs": [
    {
     "data": {
      "text/html": [
       "<div>\n",
       "<style scoped>\n",
       "    .dataframe tbody tr th:only-of-type {\n",
       "        vertical-align: middle;\n",
       "    }\n",
       "\n",
       "    .dataframe tbody tr th {\n",
       "        vertical-align: top;\n",
       "    }\n",
       "\n",
       "    .dataframe thead th {\n",
       "        text-align: right;\n",
       "    }\n",
       "</style>\n",
       "<table border=\"1\" class=\"dataframe\">\n",
       "  <thead>\n",
       "    <tr style=\"text-align: right;\">\n",
       "      <th></th>\n",
       "      <th>Data</th>\n",
       "      <th>Vale</th>\n",
       "      <th>Gerdau Pref</th>\n",
       "      <th>Gerdau Met Pref</th>\n",
       "      <th>CSN</th>\n",
       "      <th>Usiminas</th>\n",
       "      <th>Selic</th>\n",
       "    </tr>\n",
       "  </thead>\n",
       "  <tbody>\n",
       "    <tr>\n",
       "      <th>0</th>\n",
       "      <td>1/31/2000</td>\n",
       "      <td>1.951422</td>\n",
       "      <td>268.362579</td>\n",
       "      <td>0.219444</td>\n",
       "      <td>1.667136</td>\n",
       "      <td>1.731119</td>\n",
       "      <td>1.46</td>\n",
       "    </tr>\n",
       "    <tr>\n",
       "      <th>1</th>\n",
       "      <td>2/29/2000</td>\n",
       "      <td>1.658708</td>\n",
       "      <td>263.639343</td>\n",
       "      <td>0.231984</td>\n",
       "      <td>1.566680</td>\n",
       "      <td>1.566250</td>\n",
       "      <td>1.45</td>\n",
       "    </tr>\n",
       "    <tr>\n",
       "      <th>2</th>\n",
       "      <td>3/31/2000</td>\n",
       "      <td>1.626185</td>\n",
       "      <td>244.209869</td>\n",
       "      <td>0.200635</td>\n",
       "      <td>1.754768</td>\n",
       "      <td>1.426112</td>\n",
       "      <td>1.45</td>\n",
       "    </tr>\n",
       "    <tr>\n",
       "      <th>3</th>\n",
       "      <td>4/28/2000</td>\n",
       "      <td>1.626185</td>\n",
       "      <td>234.012115</td>\n",
       "      <td>0.219444</td>\n",
       "      <td>1.453400</td>\n",
       "      <td>1.244756</td>\n",
       "      <td>1.30</td>\n",
       "    </tr>\n",
       "    <tr>\n",
       "      <th>4</th>\n",
       "      <td>5/31/2000</td>\n",
       "      <td>1.700176</td>\n",
       "      <td>1.252358</td>\n",
       "      <td>0.980719</td>\n",
       "      <td>1.709883</td>\n",
       "      <td>1.318947</td>\n",
       "      <td>1.49</td>\n",
       "    </tr>\n",
       "    <tr>\n",
       "      <th>...</th>\n",
       "      <td>...</td>\n",
       "      <td>...</td>\n",
       "      <td>...</td>\n",
       "      <td>...</td>\n",
       "      <td>...</td>\n",
       "      <td>...</td>\n",
       "      <td>...</td>\n",
       "    </tr>\n",
       "    <tr>\n",
       "      <th>258</th>\n",
       "      <td>3/31/2022</td>\n",
       "      <td>90.889160</td>\n",
       "      <td>29.354248</td>\n",
       "      <td>22.675573</td>\n",
       "      <td>25.608978</td>\n",
       "      <td>13.254291</td>\n",
       "      <td>0.93</td>\n",
       "    </tr>\n",
       "    <tr>\n",
       "      <th>259</th>\n",
       "      <td>4/29/2022</td>\n",
       "      <td>79.185761</td>\n",
       "      <td>26.648436</td>\n",
       "      <td>20.724682</td>\n",
       "      <td>20.729202</td>\n",
       "      <td>11.310000</td>\n",
       "      <td>0.83</td>\n",
       "    </tr>\n",
       "    <tr>\n",
       "      <th>260</th>\n",
       "      <td>5/31/2022</td>\n",
       "      <td>81.961868</td>\n",
       "      <td>28.365076</td>\n",
       "      <td>22.144821</td>\n",
       "      <td>21.840000</td>\n",
       "      <td>10.960000</td>\n",
       "      <td>1.03</td>\n",
       "    </tr>\n",
       "    <tr>\n",
       "      <th>261</th>\n",
       "      <td>6/30/2022</td>\n",
       "      <td>72.787384</td>\n",
       "      <td>21.733269</td>\n",
       "      <td>17.251686</td>\n",
       "      <td>15.440000</td>\n",
       "      <td>8.650000</td>\n",
       "      <td>1.02</td>\n",
       "    </tr>\n",
       "    <tr>\n",
       "      <th>262</th>\n",
       "      <td>7/29/2022</td>\n",
       "      <td>66.312965</td>\n",
       "      <td>23.785044</td>\n",
       "      <td>18.953648</td>\n",
       "      <td>14.710000</td>\n",
       "      <td>8.610000</td>\n",
       "      <td>1.03</td>\n",
       "    </tr>\n",
       "  </tbody>\n",
       "</table>\n",
       "<p>263 rows × 7 columns</p>\n",
       "</div>"
      ],
      "text/plain": [
       "          Data       Vale  Gerdau Pref  Gerdau Met Pref        CSN   Usiminas  \\\n",
       "0    1/31/2000   1.951422   268.362579         0.219444   1.667136   1.731119   \n",
       "1    2/29/2000   1.658708   263.639343         0.231984   1.566680   1.566250   \n",
       "2    3/31/2000   1.626185   244.209869         0.200635   1.754768   1.426112   \n",
       "3    4/28/2000   1.626185   234.012115         0.219444   1.453400   1.244756   \n",
       "4    5/31/2000   1.700176     1.252358         0.980719   1.709883   1.318947   \n",
       "..         ...        ...          ...              ...        ...        ...   \n",
       "258  3/31/2022  90.889160    29.354248        22.675573  25.608978  13.254291   \n",
       "259  4/29/2022  79.185761    26.648436        20.724682  20.729202  11.310000   \n",
       "260  5/31/2022  81.961868    28.365076        22.144821  21.840000  10.960000   \n",
       "261  6/30/2022  72.787384    21.733269        17.251686  15.440000   8.650000   \n",
       "262  7/29/2022  66.312965    23.785044        18.953648  14.710000   8.610000   \n",
       "\n",
       "     Selic  \n",
       "0     1.46  \n",
       "1     1.45  \n",
       "2     1.45  \n",
       "3     1.30  \n",
       "4     1.49  \n",
       "..     ...  \n",
       "258   0.93  \n",
       "259   0.83  \n",
       "260   1.03  \n",
       "261   1.02  \n",
       "262   1.03  \n",
       "\n",
       "[263 rows x 7 columns]"
      ]
     },
     "execution_count": 10,
     "metadata": {},
     "output_type": "execute_result"
    }
   ],
   "source": [
    "# Puxando os dados\n",
    "dir = 'C:/Users/manda/OneDrive/Documents/GitHub/Insights/Setor Siderúrgico Nacional/2 Entrega - Cliclo 2/Passo 03 e 04 - Coleta e limpeza dos dados/DataFrames/DF pronto para análise pandas.csv'\n",
    "df = pd.read_csv(dir, skiprows=1, encoding='UTF8')\n",
    "# Dropando coluna desnecessária\n",
    "df = df.drop(columns=['Unnamed: 0'])\n",
    "df\n"
   ]
  },
  {
   "cell_type": "code",
   "execution_count": 11,
   "metadata": {},
   "outputs": [
    {
     "ename": "ValueError",
     "evalue": "The truth value of a DataFrame is ambiguous. Use a.empty, a.bool(), a.item(), a.any() or a.all().",
     "output_type": "error",
     "traceback": [
      "\u001b[1;31m---------------------------------------------------------------------------\u001b[0m",
      "\u001b[1;31mValueError\u001b[0m                                Traceback (most recent call last)",
      "\u001b[1;32mc:\\Users\\manda\\OneDrive\\Documents\\GitHub\\Insights\\Setor Siderúrgico Nacional\\2 Entrega - Cliclo 2\\Passo 06 - Análise exploratória\\Jupyter Notebooks\\Analise exploratória.ipynb Célula: 7\u001b[0m in \u001b[0;36m<cell line: 1>\u001b[1;34m()\u001b[0m\n\u001b[1;32m----> <a href='vscode-notebook-cell:/c%3A/Users/manda/OneDrive/Documents/GitHub/Insights/Setor%20Sider%C3%BArgico%20Nacional/2%20Entrega%20-%20Cliclo%202/Passo%2006%20-%20An%C3%A1lise%20explorat%C3%B3ria/Jupyter%20Notebooks/Analise%20explorat%C3%B3ria.ipynb#X43sZmlsZQ%3D%3D?line=0'>1</a>\u001b[0m serie \u001b[39m=\u001b[39m pd\u001b[39m.\u001b[39;49mSeries(df, index\u001b[39m=\u001b[39;49mdf[\u001b[39m'\u001b[39;49m\u001b[39mData\u001b[39;49m\u001b[39m'\u001b[39;49m], name\u001b[39m=\u001b[39;49m\u001b[39m'\u001b[39;49m\u001b[39mxxx\u001b[39;49m\u001b[39m'\u001b[39;49m)\n\u001b[0;32m      <a href='vscode-notebook-cell:/c%3A/Users/manda/OneDrive/Documents/GitHub/Insights/Setor%20Sider%C3%BArgico%20Nacional/2%20Entrega%20-%20Cliclo%202/Passo%2006%20-%20An%C3%A1lise%20explorat%C3%B3ria/Jupyter%20Notebooks/Analise%20explorat%C3%B3ria.ipynb#X43sZmlsZQ%3D%3D?line=1'>2</a>\u001b[0m serie\n",
      "File \u001b[1;32mc:\\Users\\manda\\AppData\\Local\\Programs\\Python\\Python310\\lib\\site-packages\\pandas\\core\\series.py:367\u001b[0m, in \u001b[0;36mSeries.__init__\u001b[1;34m(self, data, index, dtype, name, copy, fastpath)\u001b[0m\n\u001b[0;32m    363\u001b[0m \u001b[39melse\u001b[39;00m:\n\u001b[0;32m    365\u001b[0m     name \u001b[39m=\u001b[39m ibase\u001b[39m.\u001b[39mmaybe_extract_name(name, data, \u001b[39mtype\u001b[39m(\u001b[39mself\u001b[39m))\n\u001b[1;32m--> 367\u001b[0m     \u001b[39mif\u001b[39;00m is_empty_data(data) \u001b[39mand\u001b[39;00m dtype \u001b[39mis\u001b[39;00m \u001b[39mNone\u001b[39;00m:\n\u001b[0;32m    368\u001b[0m         \u001b[39m# gh-17261\u001b[39;00m\n\u001b[0;32m    369\u001b[0m         warnings\u001b[39m.\u001b[39mwarn(\n\u001b[0;32m    370\u001b[0m             \u001b[39m\"\u001b[39m\u001b[39mThe default dtype for empty Series will be \u001b[39m\u001b[39m'\u001b[39m\u001b[39mobject\u001b[39m\u001b[39m'\u001b[39m\u001b[39m instead \u001b[39m\u001b[39m\"\u001b[39m\n\u001b[0;32m    371\u001b[0m             \u001b[39m\"\u001b[39m\u001b[39mof \u001b[39m\u001b[39m'\u001b[39m\u001b[39mfloat64\u001b[39m\u001b[39m'\u001b[39m\u001b[39m in a future version. Specify a dtype explicitly \u001b[39m\u001b[39m\"\u001b[39m\n\u001b[1;32m   (...)\u001b[0m\n\u001b[0;32m    374\u001b[0m             stacklevel\u001b[39m=\u001b[39mfind_stack_level(),\n\u001b[0;32m    375\u001b[0m         )\n\u001b[0;32m    376\u001b[0m         \u001b[39m# uncomment the line below when removing the FutureWarning\u001b[39;00m\n\u001b[0;32m    377\u001b[0m         \u001b[39m# dtype = np.dtype(object)\u001b[39;00m\n",
      "File \u001b[1;32mc:\\Users\\manda\\AppData\\Local\\Programs\\Python\\Python310\\lib\\site-packages\\pandas\\core\\construction.py:818\u001b[0m, in \u001b[0;36mis_empty_data\u001b[1;34m(data)\u001b[0m\n\u001b[0;32m    816\u001b[0m is_none \u001b[39m=\u001b[39m data \u001b[39mis\u001b[39;00m \u001b[39mNone\u001b[39;00m\n\u001b[0;32m    817\u001b[0m is_list_like_without_dtype \u001b[39m=\u001b[39m is_list_like(data) \u001b[39mand\u001b[39;00m \u001b[39mnot\u001b[39;00m \u001b[39mhasattr\u001b[39m(data, \u001b[39m\"\u001b[39m\u001b[39mdtype\u001b[39m\u001b[39m\"\u001b[39m)\n\u001b[1;32m--> 818\u001b[0m is_simple_empty \u001b[39m=\u001b[39m is_list_like_without_dtype \u001b[39mand\u001b[39;00m \u001b[39mnot\u001b[39;49;00m data\n\u001b[0;32m    819\u001b[0m \u001b[39mreturn\u001b[39;00m is_none \u001b[39mor\u001b[39;00m is_simple_empty\n",
      "File \u001b[1;32mc:\\Users\\manda\\AppData\\Local\\Programs\\Python\\Python310\\lib\\site-packages\\pandas\\core\\generic.py:1527\u001b[0m, in \u001b[0;36mNDFrame.__nonzero__\u001b[1;34m(self)\u001b[0m\n\u001b[0;32m   1525\u001b[0m \u001b[39m@final\u001b[39m\n\u001b[0;32m   1526\u001b[0m \u001b[39mdef\u001b[39;00m \u001b[39m__nonzero__\u001b[39m(\u001b[39mself\u001b[39m):\n\u001b[1;32m-> 1527\u001b[0m     \u001b[39mraise\u001b[39;00m \u001b[39mValueError\u001b[39;00m(\n\u001b[0;32m   1528\u001b[0m         \u001b[39mf\u001b[39m\u001b[39m\"\u001b[39m\u001b[39mThe truth value of a \u001b[39m\u001b[39m{\u001b[39;00m\u001b[39mtype\u001b[39m(\u001b[39mself\u001b[39m)\u001b[39m.\u001b[39m\u001b[39m__name__\u001b[39m\u001b[39m}\u001b[39;00m\u001b[39m is ambiguous. \u001b[39m\u001b[39m\"\u001b[39m\n\u001b[0;32m   1529\u001b[0m         \u001b[39m\"\u001b[39m\u001b[39mUse a.empty, a.bool(), a.item(), a.any() or a.all().\u001b[39m\u001b[39m\"\u001b[39m\n\u001b[0;32m   1530\u001b[0m     )\n",
      "\u001b[1;31mValueError\u001b[0m: The truth value of a DataFrame is ambiguous. Use a.empty, a.bool(), a.item(), a.any() or a.all()."
     ]
    }
   ],
   "source": [
    "serie = pd.Series(df, index=df['Data'], name='xxx')\n",
    "serie"
   ]
  },
  {
   "cell_type": "markdown",
   "metadata": {},
   "source": [
    "# Modelando nossos dados"
   ]
  },
  {
   "cell_type": "code",
   "execution_count": null,
   "metadata": {},
   "outputs": [],
   "source": [
    "# Inserindo uma coluna com a média do valor das ações\n",
    "df['Média ações'] = (df['Vale'] + df['Gerdau Pref'] + df['Gerdau Met Pref'] + df['CSN'] +df['Usiminas'])/5\n",
    "df"
   ]
  },
  {
   "cell_type": "markdown",
   "metadata": {},
   "source": [
    "## Calculando a variância percentual"
   ]
  },
  {
   "cell_type": "code",
   "execution_count": null,
   "metadata": {},
   "outputs": [],
   "source": [
    "# Reduzindo o dataframe\n",
    "df_filtrado = df[['Data', 'Média ações', 'Selic']]\n",
    "df_filtrado"
   ]
  },
  {
   "cell_type": "code",
   "execution_count": null,
   "metadata": {},
   "outputs": [],
   "source": [
    "df_filtrado.info()"
   ]
  },
  {
   "cell_type": "code",
   "execution_count": null,
   "metadata": {},
   "outputs": [],
   "source": []
  },
  {
   "cell_type": "code",
   "execution_count": null,
   "metadata": {},
   "outputs": [],
   "source": [
    "df_filtrado.insert(loc = 2, column = 'Δ% Ações', value = round(df_filtrado['Média ações'].pct_change()*100, 2))\n",
    "df_filtrado.insert(loc = 4, column = 'Δ% Selic', value = round(df_filtrado['Selic'].pct_change()*100, 2))"
   ]
  },
  {
   "cell_type": "code",
   "execution_count": null,
   "metadata": {},
   "outputs": [],
   "source": [
    "# Criando um data frame só com as variáveis\n",
    "\n",
    "df_var = df_filtrado[['Data', 'Δ% Ações', 'Δ% Selic']]"
   ]
  },
  {
   "cell_type": "code",
   "execution_count": null,
   "metadata": {},
   "outputs": [],
   "source": [
    "df_var.info()"
   ]
  },
  {
   "cell_type": "markdown",
   "metadata": {},
   "source": [
    "> Finalmente os dados estão modelados e preparados para nossa análise exploratória;"
   ]
  },
  {
   "cell_type": "markdown",
   "metadata": {},
   "source": [
    "# Análise exploratória dos dados"
   ]
  },
  {
   "cell_type": "code",
   "execution_count": null,
   "metadata": {},
   "outputs": [],
   "source": [
    "df_var.sum()"
   ]
  },
  {
   "cell_type": "markdown",
   "metadata": {},
   "source": [
    "De cara já vemos que que no período total as ações renderam mais que o dobro do que a selic  \n",
    "Agora vamos ver nos períodos mais proximos"
   ]
  },
  {
   "cell_type": "code",
   "execution_count": null,
   "metadata": {},
   "outputs": [],
   "source": [
    "df_var.info()"
   ]
  },
  {
   "cell_type": "code",
   "execution_count": null,
   "metadata": {},
   "outputs": [],
   "source": []
  }
 ],
 "metadata": {
  "kernelspec": {
   "display_name": "Python 3.10.4 64-bit",
   "language": "python",
   "name": "python3"
  },
  "language_info": {
   "codemirror_mode": {
    "name": "ipython",
    "version": 3
   },
   "file_extension": ".py",
   "mimetype": "text/x-python",
   "name": "python",
   "nbconvert_exporter": "python",
   "pygments_lexer": "ipython3",
   "version": "3.10.4"
  },
  "orig_nbformat": 4,
  "vscode": {
   "interpreter": {
    "hash": "5d11380547bba1e6c4b0ab7b7614350493a6d4caf256d9be4e363829d8f5c452"
   }
  }
 },
 "nbformat": 4,
 "nbformat_minor": 2
}

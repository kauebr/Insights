{
 "cells": [
  {
   "cell_type": "markdown",
   "metadata": {},
   "source": [
    "<img src=\"https://i.ibb.co/2t8djfy/datascience-Banner.png\" width=\"1200\" alt=\"KCode Banner\"  /> \n",
    "\n",
    "<a href=\"https://www.linkedin.com/in/kauebr/\"><img src=\"https://cdn-icons-png.flaticon.com/512/174/174857.png\" width=\"30\" ></a> <a href=\"mailto: kauemandarino@gmail.com\"><img src=\"https://cdn-icons-png.flaticon.com/512/5968/5968534.png\" width=\"30\" ></a><a href=\"\n",
    "https://api.whatsapp.com/send?phone=5541991835800&text=Oi\"> <img src=\"https://imagepng.org/wp-content/uploads/2017/08/whatsapp-icone-1.png\" width=\"30\" ></a><a href=\"https://github.com/kauebr/\"><img src=\"https://github.githubassets.com/images/modules/logos_page/Octocat.png\" width=\"30\" ></a>\n",
    "\n"
   ]
  },
  {
   "cell_type": "markdown",
   "metadata": {},
   "source": [
    "# $Insights -- Siderurgia Brasil -- Ciclo 2$"
   ]
  },
  {
   "cell_type": "markdown",
   "metadata": {},
   "source": []
  },
  {
   "cell_type": "markdown",
   "metadata": {},
   "source": [
    "## Passos do `WorkFlow Cíclico` \n",
    "     1- Questão de negócio\n",
    "     2- Entendimento do negócio\n",
    "     3- Coleta de Dados\n",
    "     4- Exploração de dados\n",
    "    "
   ]
  },
  {
   "cell_type": "markdown",
   "metadata": {},
   "source": [
    "## $Resumo$  $da$  $entrega$ $anterior$ "
   ]
  },
  {
   "cell_type": "markdown",
   "metadata": {},
   "source": [
    "### No ciclo anteriror\n",
    "     1- Um investidor queria saber se investe, ou não, no mercado siderurgico brasileiro no segundo trimeste de 2022;\n",
    "     2- Entendemos brevemente o mercado e sua influência no PIB e economia nacional;\n",
    "     3- Mineirei uma série estátistica;\n",
    "     4- Limpei e estruturei parcialmente os dados, criei um dashboards e um storytelling do processo.\n",
    "\n"
   ]
  },
  {
   "cell_type": "markdown",
   "metadata": {},
   "source": [
    "### Ciclo atual\n",
    "    1- Vamos buscar a causa raiz do problema e entender melhor, além de reformular de maneira mais completa o questionamento do investidor\n",
    "    2- Responderemos as perguntas feitas no primeiro ciclo, de maneira mais ampla e definiremos o perfil do investidor.\n",
    "    3- Procuraremos outras séries que auxiliem no nosso estudo.\n",
    "    4- Faremos uma análise"
   ]
  },
  {
   "cell_type": "markdown",
   "metadata": {},
   "source": []
  },
  {
   "cell_type": "code",
   "execution_count": 4,
   "metadata": {},
   "outputs": [],
   "source": [
    "## $FluxoGrama de trabalho -- WorkFlow$$"
   ]
  },
  {
   "cell_type": "markdown",
   "metadata": {},
   "source": []
  },
  {
   "cell_type": "code",
   "execution_count": null,
   "metadata": {},
   "outputs": [],
   "source": []
  }
 ],
 "metadata": {
  "kernelspec": {
   "display_name": "Python 3.10.4 64-bit",
   "language": "python",
   "name": "python3"
  },
  "language_info": {
   "codemirror_mode": {
    "name": "ipython",
    "version": 3
   },
   "file_extension": ".py",
   "mimetype": "text/x-python",
   "name": "python",
   "nbconvert_exporter": "python",
   "pygments_lexer": "ipython3",
   "version": "3.10.4"
  },
  "orig_nbformat": 4,
  "vscode": {
   "interpreter": {
    "hash": "5d11380547bba1e6c4b0ab7b7614350493a6d4caf256d9be4e363829d8f5c452"
   }
  }
 },
 "nbformat": 4,
 "nbformat_minor": 2
}

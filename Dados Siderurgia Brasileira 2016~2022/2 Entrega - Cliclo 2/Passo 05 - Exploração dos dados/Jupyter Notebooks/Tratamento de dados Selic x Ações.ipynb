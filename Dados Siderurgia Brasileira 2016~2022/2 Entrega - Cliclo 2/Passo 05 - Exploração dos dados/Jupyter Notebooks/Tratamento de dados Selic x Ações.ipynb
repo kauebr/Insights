{
 "cells": [
  {
   "cell_type": "markdown",
   "metadata": {},
   "source": [
    "<img src=\"https://i.ibb.co/K5n24Nd/1.png\"  alt=\"KCode Banner\"  />\n",
    "\n",
    "<a href=\"https://www.linkedin.com/in/kauebr/\"><img src=\"https://cdn-icons-png.flaticon.com/512/174/174857.png\" width=\"30\" ></a> <a href=\"mailto: kauemandarino@gmail.com\"><img src=\"https://cdn-icons-png.flaticon.com/512/5968/5968534.png\" width=\"30\" ></a><a href=\"\n",
    "https://api.whatsapp.com/send?phone=5541991835800&text=Oi\"> <img src=\"https://imagepng.org/wp-content/uploads/2017/08/whatsapp-icone-1.png\" width=\"30\" ></a><a href=\"https://github.com/kauebr/\"><img src=\"https://github.githubassets.com/images/modules/logos_page/Octocat.png\" width=\"30\" ></a>\n",
    "\n"
   ]
  },
  {
   "cell_type": "markdown",
   "metadata": {},
   "source": [
    "# Tratamento de dados, valores das ações x Selic\n",
    "\n",
    "## Objetivo:\n",
    "* Criar um dataFrame com os valores das ações durante o período macro;\n",
    "\n",
    "\n",
    "* Reduzir o periodo para apenas o ultimo dia útil de cada mês;\n",
    "* Extruturar o DataFrame com nas linhas os meses e nas colunas os anos;\n",
    "* Obter um dataframe com as cotações Selic no periodo;\n",
    "* Calcular as variações para os dois dataframes;\n",
    "* Plotar gráficos para análise;\n",
    "\n",
    "\n"
   ]
  },
  {
   "cell_type": "markdown",
   "metadata": {},
   "source": [
    "<h1>Índice</h1>\n",
    "\n",
    "<div class=\"alert alert-block alert-info\" style=\"margin-top: 20px\">\n",
    "    <ol>\n",
    "        <li><a href=#'a'>Minerando os Dados</a></li>\n",
    "        <li><a href=#2>Limpeza e Validação dos Dados</a></li>\n",
    "        <li><a href=#1>Modelando e Exportando os Dados</a></li>\n",
    "    *O  redirecionamento automático do índice não funciona no GitHub, para utilizá-lo, baixe o notebook em sua máquina\n",
    "    </ol>\n",
    "</div>\n",
    "<br>\n",
    "<hr>\n",
    "\n"
   ]
  },
  {
   "cell_type": "markdown",
   "metadata": {},
   "source": [
    "Importando bibliotecas"
   ]
  },
  {
   "cell_type": "code",
   "execution_count": 1,
   "metadata": {},
   "outputs": [],
   "source": [
    "from pandas_datareader import data as web\n",
    "import pandas as pd\n",
    "import numpy as np\n",
    "import matplotlib.pyplot as plt\n",
    "from datetime import date\n",
    "\n",
    "from calendar import monthrange\n",
    "from workalendar.america import Brazil\n",
    "import calendario_dias_uteis as cdu\n",
    "import matplotlib.pyplot as plt"
   ]
  },
  {
   "cell_type": "markdown",
   "metadata": {},
   "source": [
    "## <h2 id=\"a\">Minerando os Dados</h2>\n",
    "\n",
    "* Criando um dataFrame com os valores das ações durante o período macro, apenas os últimos dias utéis do mês de 2000 até 2022, o período foi expandido, para maior assertividade; \n",
    "\n",
    "* Vou comparar o valor das cotações das ações com o valor da taxa Selic no mesmo período, para isto preciso informar na consulta, qual foi o último dia útil de cada mês. Como não encontrei nenhum biblioteca no PyPi que me retorna-se essa informação, criei um módulo \"calendario_dias_uteis\" que atende a esta demanda;\n"
   ]
  },
  {
   "cell_type": "markdown",
   "metadata": {},
   "source": [
    "Primeiro vou criar uma lista com as dtas dos últimso dias utéis de cada mês, ou seja, os últimos dias do mês que a BOVESPA estve aberta."
   ]
  },
  {
   "cell_type": "code",
   "execution_count": 2,
   "metadata": {},
   "outputs": [
    {
     "name": "stdout",
     "output_type": "stream",
     "text": [
      "['2000-01-31', '2000-02-29', '2000-03-31', '2000-04-28', '2000-05-31', '2000-06-30', '2000-07-31', '2000-08-31', '2000-09-29', '2000-10-31', '2000-11-30', '2000-12-29', '2001-01-31', '2001-02-28', '2001-03-30', '2001-04-30', '2001-05-31', '2001-06-29', '2001-07-31', '2001-08-31', '2001-09-28', '2001-10-31', '2001-11-30', '2001-12-31', '2002-01-31', '2002-02-28', '2002-03-29', '2002-04-30', '2002-05-31', '2002-06-28', '2002-07-31', '2002-08-30', '2002-09-30', '2002-10-31', '2002-11-29', '2002-12-31', '2003-01-31', '2003-02-28', '2003-03-31', '2003-04-30', '2003-05-30', '2003-06-30', '2003-07-31', '2003-08-29', '2003-09-30', '2003-10-31', '2003-11-28', '2003-12-31', '2004-01-30', '2004-02-27', '2004-03-31', '2004-04-30', '2004-05-31', '2004-06-30', '2004-07-30', '2004-08-31', '2004-09-30', '2004-10-29', '2004-11-30', '2004-12-31', '2005-01-31', '2005-02-28', '2005-03-31', '2005-04-29', '2005-05-31', '2005-06-30', '2005-07-29', '2005-08-31', '2005-09-30', '2005-10-31', '2005-11-30', '2005-12-30', '2006-01-31', '2006-02-28', '2006-03-31', '2006-04-28', '2006-05-31', '2006-06-30', '2006-07-31', '2006-08-31', '2006-09-29', '2006-10-31', '2006-11-30', '2006-12-29', '2007-01-31', '2007-02-28', '2007-03-30', '2007-04-30', '2007-05-31', '2007-06-29', '2007-07-31', '2007-08-31', '2007-09-28', '2007-10-31', '2007-11-30', '2007-12-31', '2008-01-31', '2008-02-29', '2008-03-31', '2008-04-30', '2008-05-30', '2008-06-30', '2008-07-31', '2008-08-29', '2008-09-30', '2008-10-31', '2008-11-28', '2008-12-31', '2009-01-30', '2009-02-27', '2009-03-31', '2009-04-30', '2009-05-29', '2009-06-30', '2009-07-31', '2009-08-31', '2009-09-30', '2009-10-30', '2009-11-30', '2009-12-31', '2010-01-29', '2010-02-26', '2010-03-31', '2010-04-30', '2010-05-31', '2010-06-30', '2010-07-30', '2010-08-31', '2010-09-30', '2010-10-29', '2010-11-30', '2010-12-31', '2011-01-31', '2011-02-28', '2011-03-31', '2011-04-29', '2011-05-31', '2011-06-30', '2011-07-29', '2011-08-31', '2011-09-30', '2011-10-31', '2011-11-30', '2011-12-30', '2012-01-31', '2012-02-29', '2012-03-30', '2012-04-30', '2012-05-31', '2012-06-29', '2012-07-31', '2012-08-31', '2012-09-28', '2012-10-31', '2012-11-30', '2012-12-31', '2013-01-31', '2013-02-28', '2013-03-29', '2013-04-30', '2013-05-31', '2013-06-28', '2013-07-31', '2013-08-30', '2013-09-30', '2013-10-31', '2013-11-29', '2013-12-31', '2014-01-31', '2014-02-28', '2014-03-31', '2014-04-30', '2014-05-30', '2014-06-30', '2014-07-31', '2014-08-29', '2014-09-30', '2014-10-31', '2014-11-28', '2014-12-31', '2015-01-30', '2015-02-27', '2015-03-31', '2015-04-30', '2015-05-29', '2015-06-30', '2015-07-31', '2015-08-31', '2015-09-30', '2015-10-30', '2015-11-30', '2015-12-31', '2016-01-29', '2016-02-29', '2016-03-31', '2016-04-29', '2016-05-31', '2016-06-30', '2016-07-29', '2016-08-31', '2016-09-30', '2016-10-31', '2016-11-30', '2016-12-30', '2017-01-31', '2017-02-28', '2017-03-31', '2017-04-28', '2017-05-31', '2017-06-30', '2017-07-31', '2017-08-31', '2017-09-29', '2017-10-31', '2017-11-30', '2017-12-29', '2018-01-31', '2018-02-28', '2018-03-30', '2018-04-30', '2018-05-31', '2018-06-29', '2018-07-31', '2018-08-31', '2018-09-28', '2018-10-31', '2018-11-30', '2018-12-31', '2019-01-31', '2019-02-28', '2019-03-29', '2019-04-30', '2019-05-31', '2019-06-28', '2019-07-31', '2019-08-30', '2019-09-30', '2019-10-31', '2019-11-29', '2019-12-31', '2020-01-31', '2020-02-28', '2020-03-31', '2020-04-30', '2020-05-29', '2020-06-30', '2020-07-31', '2020-08-31', '2020-09-30', '2020-10-30', '2020-11-30', '2020-12-31', '2021-01-29', '2021-02-26', '2021-03-31', '2021-04-30', '2021-05-31', '2021-06-30', '2021-07-30', '2021-08-31', '2021-09-30', '2021-10-29', '2021-11-30', '2021-12-31', '2022-01-31', '2022-02-28', '2022-03-31', '2022-04-29', '2022-05-31', '2022-06-30', '2022-07-29', '2022-08-31', '2022-09-30', '2022-10-31', '2022-11-30', '2022-12-30']\n"
     ]
    }
   ],
   "source": [
    "# Criando uma lista com as datas dos último dias uteis de cada mês entre os anos 2000 a 2022.\n",
    "datas = cdu.ultimo_util(2000, 2022) # Utilizando a bilblioteca CDU, de minha autoria, para retornar uma lista com todos os útimos dias utéis de cada mês de 2000 até 2022\n",
    "print(datas)"
   ]
  },
  {
   "cell_type": "code",
   "execution_count": 15,
   "metadata": {},
   "outputs": [],
   "source": [
    "# Como alguns dias estavam dando como úteis, sem ser, provavelmente devidos a recessos, quando fazia a consulta travava nesses dias,\n",
    "# então exportei uma lista com esses dias que estavam dando erro, ao total eram 6 dias, então foi possivel corrigir manualmente, rapidamente, procurando o dia útil anterior. \n",
    "# fiz isso a baixo e retornei uma nova lista de dias dom os dias uteis corrigidos\n",
    "\n",
    "# Poderia fazer um script para comparar as duas listas, e diminuir a data para o próximo dia útil em caso de erro? Pode, porém, por se tratar de apenas 30 entradas erradas de 277 , em uma lista que não vai ser refeita em caso de escalonamento, é muito mais eficiente, apenas corrigir os valores na mão do que passar uma hora, ou mais, fazendo um script complexo.\n",
    "  \n",
    "cotacao = web.DataReader('GGBR4.SA', data_source='yahoo', start='01-01-2000', end='09-16-2022')['Adj Close'] # Puxando as cotações aleatorias, para ter as datas\n",
    "df0 = pd.DataFrame(cotacao) # Criando um DataFrame com essas datas macro\n",
    "datas = pd.DataFrame(datas) # Criando um Dataframe com as datas micro, retornadas pela biblioteca CDU\n",
    "\n",
    "# Exportando ambos, para comparação em excel\n",
    "datas.to_csv('Dias Uteis.csv')\n",
    "df0.to_csv('Cotacoes.csv')\n",
    "\n",
    "# Feito isso corrigi manualmente os valores incorretos\n",
    "df0 = pd.read_csv('Dados/UltimosUteis.csv', usecols=[0]) # Criando um dataframe com o periodo alvo\n"
   ]
  },
  {
   "cell_type": "code",
   "execution_count": 16,
   "metadata": {},
   "outputs": [
    {
     "data": {
      "text/html": [
       "<div>\n",
       "<style scoped>\n",
       "    .dataframe tbody tr th:only-of-type {\n",
       "        vertical-align: middle;\n",
       "    }\n",
       "\n",
       "    .dataframe tbody tr th {\n",
       "        vertical-align: top;\n",
       "    }\n",
       "\n",
       "    .dataframe thead th {\n",
       "        text-align: right;\n",
       "    }\n",
       "</style>\n",
       "<table border=\"1\" class=\"dataframe\">\n",
       "  <thead>\n",
       "    <tr style=\"text-align: right;\">\n",
       "      <th></th>\n",
       "      <th>Periodo Real</th>\n",
       "    </tr>\n",
       "  </thead>\n",
       "  <tbody>\n",
       "    <tr>\n",
       "      <th>0</th>\n",
       "      <td>1/31/2000</td>\n",
       "    </tr>\n",
       "    <tr>\n",
       "      <th>1</th>\n",
       "      <td>2/29/2000</td>\n",
       "    </tr>\n",
       "    <tr>\n",
       "      <th>2</th>\n",
       "      <td>3/31/2000</td>\n",
       "    </tr>\n",
       "    <tr>\n",
       "      <th>3</th>\n",
       "      <td>4/28/2000</td>\n",
       "    </tr>\n",
       "    <tr>\n",
       "      <th>4</th>\n",
       "      <td>5/31/2000</td>\n",
       "    </tr>\n",
       "    <tr>\n",
       "      <th>...</th>\n",
       "      <td>...</td>\n",
       "    </tr>\n",
       "    <tr>\n",
       "      <th>268</th>\n",
       "      <td>5/31/2022</td>\n",
       "    </tr>\n",
       "    <tr>\n",
       "      <th>269</th>\n",
       "      <td>6/30/2022</td>\n",
       "    </tr>\n",
       "    <tr>\n",
       "      <th>270</th>\n",
       "      <td>7/29/2022</td>\n",
       "    </tr>\n",
       "    <tr>\n",
       "      <th>271</th>\n",
       "      <td>8/31/2022</td>\n",
       "    </tr>\n",
       "    <tr>\n",
       "      <th>272</th>\n",
       "      <td>9/16/2022</td>\n",
       "    </tr>\n",
       "  </tbody>\n",
       "</table>\n",
       "<p>273 rows × 1 columns</p>\n",
       "</div>"
      ],
      "text/plain": [
       "    Periodo Real\n",
       "0      1/31/2000\n",
       "1      2/29/2000\n",
       "2      3/31/2000\n",
       "3      4/28/2000\n",
       "4      5/31/2000\n",
       "..           ...\n",
       "268    5/31/2022\n",
       "269    6/30/2022\n",
       "270    7/29/2022\n",
       "271    8/31/2022\n",
       "272    9/16/2022\n",
       "\n",
       "[273 rows x 1 columns]"
      ]
     },
     "execution_count": 16,
     "metadata": {},
     "output_type": "execute_result"
    }
   ],
   "source": [
    "df0"
   ]
  },
  {
   "cell_type": "markdown",
   "metadata": {},
   "source": [
    "Agora vou puxar a cotação de uma empresa de 2000 até 2022, com intuito de gerar uma coluna com todos os periodos macro"
   ]
  },
  {
   "cell_type": "code",
   "execution_count": 31,
   "metadata": {},
   "outputs": [
    {
     "data": {
      "text/html": [
       "<div>\n",
       "<style scoped>\n",
       "    .dataframe tbody tr th:only-of-type {\n",
       "        vertical-align: middle;\n",
       "    }\n",
       "\n",
       "    .dataframe tbody tr th {\n",
       "        vertical-align: top;\n",
       "    }\n",
       "\n",
       "    .dataframe thead th {\n",
       "        text-align: right;\n",
       "    }\n",
       "</style>\n",
       "<table border=\"1\" class=\"dataframe\">\n",
       "  <thead>\n",
       "    <tr style=\"text-align: right;\">\n",
       "      <th></th>\n",
       "      <th>Datas</th>\n",
       "    </tr>\n",
       "  </thead>\n",
       "  <tbody>\n",
       "    <tr>\n",
       "      <th>0</th>\n",
       "      <td>2000-01-03</td>\n",
       "    </tr>\n",
       "    <tr>\n",
       "      <th>1</th>\n",
       "      <td>2000-01-04</td>\n",
       "    </tr>\n",
       "    <tr>\n",
       "      <th>2</th>\n",
       "      <td>2000-01-05</td>\n",
       "    </tr>\n",
       "    <tr>\n",
       "      <th>3</th>\n",
       "      <td>2000-01-06</td>\n",
       "    </tr>\n",
       "    <tr>\n",
       "      <th>4</th>\n",
       "      <td>2000-01-07</td>\n",
       "    </tr>\n",
       "    <tr>\n",
       "      <th>...</th>\n",
       "      <td>...</td>\n",
       "    </tr>\n",
       "    <tr>\n",
       "      <th>5651</th>\n",
       "      <td>2022-09-12</td>\n",
       "    </tr>\n",
       "    <tr>\n",
       "      <th>5652</th>\n",
       "      <td>2022-09-13</td>\n",
       "    </tr>\n",
       "    <tr>\n",
       "      <th>5653</th>\n",
       "      <td>2022-09-14</td>\n",
       "    </tr>\n",
       "    <tr>\n",
       "      <th>5654</th>\n",
       "      <td>2022-09-15</td>\n",
       "    </tr>\n",
       "    <tr>\n",
       "      <th>5655</th>\n",
       "      <td>2022-09-16</td>\n",
       "    </tr>\n",
       "  </tbody>\n",
       "</table>\n",
       "<p>5656 rows × 1 columns</p>\n",
       "</div>"
      ],
      "text/plain": [
       "          Datas\n",
       "0    2000-01-03\n",
       "1    2000-01-04\n",
       "2    2000-01-05\n",
       "3    2000-01-06\n",
       "4    2000-01-07\n",
       "...         ...\n",
       "5651 2022-09-12\n",
       "5652 2022-09-13\n",
       "5653 2022-09-14\n",
       "5654 2022-09-15\n",
       "5655 2022-09-16\n",
       "\n",
       "[5656 rows x 1 columns]"
      ]
     },
     "execution_count": 31,
     "metadata": {},
     "output_type": "execute_result"
    }
   ],
   "source": [
    "cotacao = web.DataReader('GGBR4.SA', data_source='yahoo', start='01-01-2000', end='09-16-2022')['Adj Close'] # Puxando a cotação\n",
    "df1 = pd.DataFrame(cotacao) # transformando a cotação em um DataFrame\n",
    "\n",
    "# Como as datas foram lidas como index, aqui vou resetá-las, e transformar em um uma coluna\n",
    "df1.reset_index(inplace=True) # As datas estavam como índice, aqui transformo-as em coluna;\n",
    "df1.rename(columns = {'Date':'Datas'}, inplace = True) # Renomeando o título do index.\n",
    "df1.drop(columns=['Adj Close'], inplace=True) # Deletando a coluna para ficarmos só com as data macro\n",
    "df1\n"
   ]
  },
  {
   "cell_type": "markdown",
   "metadata": {},
   "source": [
    "Agora vou adcionar as datas micro(apenas ultimos dias uteis) ao nosso DataFrame"
   ]
  },
  {
   "cell_type": "code",
   "execution_count": 32,
   "metadata": {},
   "outputs": [
    {
     "name": "stdout",
     "output_type": "stream",
     "text": [
      "     Datas Macro Datas Micro\n",
      "0     2000-01-03   1/31/2000\n",
      "1     2000-01-04   2/29/2000\n",
      "2     2000-01-05   3/31/2000\n",
      "3     2000-01-06   4/28/2000\n",
      "4     2000-01-07   5/31/2000\n",
      "...          ...         ...\n",
      "5651  2022-09-12         NaN\n",
      "5652  2022-09-13         NaN\n",
      "5653  2022-09-14         NaN\n",
      "5654  2022-09-15         NaN\n",
      "5655  2022-09-16         NaN\n",
      "\n",
      "[5656 rows x 2 columns]\n"
     ]
    }
   ],
   "source": [
    "df1 = df1.assign(Uteis = df0['Periodo Real'])\n",
    "df1.rename(columns = {'Datas':'Datas Macro', 'Uteis':'Datas Micro'}, inplace = True) # Renomeando o título do index.\n",
    "df = df1.copy()\n",
    "print(df)\n"
   ]
  },
  {
   "cell_type": "markdown",
   "metadata": {},
   "source": [
    "Agora podemos notar que as datas não estão no mesmo padrão"
   ]
  },
  {
   "cell_type": "code",
   "execution_count": 41,
   "metadata": {},
   "outputs": [
    {
     "name": "stdout",
     "output_type": "stream",
     "text": [
      "2000-01-31 00:00:00 -> 1/31/2000\n"
     ]
    },
    {
     "data": {
      "text/plain": [
       "False"
      ]
     },
     "execution_count": 41,
     "metadata": {},
     "output_type": "execute_result"
    }
   ],
   "source": [
    "print(f\"{df['Datas Macro'][20]} -> {df['Datas Micro'][0]}\") # Testando igualdade visual\n",
    "df['Datas Macro'][21] == df['Datas Micro'][0] # Testando se igualdade boleana"
   ]
  },
  {
   "cell_type": "markdown",
   "metadata": {},
   "source": [
    "Vou criar uma metodologia para transformá-los em iguais:"
   ]
  },
  {
   "cell_type": "code",
   "execution_count": 53,
   "metadata": {},
   "outputs": [
    {
     "name": "stdout",
     "output_type": "stream",
     "text": [
      "2000-01-31 00:00:00 1/31/2000\n"
     ]
    }
   ],
   "source": [
    "dataA = str(df['Datas Macro'][20]) # Transformando em string\n",
    "dataA = dataA[:10] # Fatiando\n",
    "dataA = dataA.replace('-', '/') # Substituindo\n",
    "\n",
    "\n",
    "dataB = df['Datas Micro'][0]\n",
    "\n",
    "print(dataA, dataB)"
   ]
  },
  {
   "cell_type": "code",
   "execution_count": 54,
   "metadata": {},
   "outputs": [
    {
     "name": "stdout",
     "output_type": "stream",
     "text": [
      "2000/01/31 1/31/2000\n"
     ]
    }
   ],
   "source": [
    "dataA = str(df['Datas Macro'][20])\n",
    "dataA = dataA[:10]\n",
    "dataA = dataA.replace('-', '/')\n",
    "\n",
    "\n",
    "dataB = df['Datas Micro'][0]\n",
    "\n",
    "print(dataA, dataB)"
   ]
  },
  {
   "cell_type": "code",
   "execution_count": 46,
   "metadata": {},
   "outputs": [
    {
     "ename": "ValueError",
     "evalue": "Invalid isoformat string: '2000-01-31 00:00:00'",
     "output_type": "error",
     "traceback": [
      "\u001b[1;31m---------------------------------------------------------------------------\u001b[0m",
      "\u001b[1;31mValueError\u001b[0m                                Traceback (most recent call last)",
      "\u001b[1;32mc:\\Users\\manda\\OneDrive\\Documents\\GitHub\\Insights\\Dados Siderurgia Brasileira 2016~2022\\2 Entrega - Cliclo 2\\Passo 05 - Exploração dos dados\\Jupyter Notebooks\\Tratamento de dados Selic x Ações.ipynb Célula: 19\u001b[0m in \u001b[0;36m<cell line: 1>\u001b[1;34m()\u001b[0m\n\u001b[1;32m----> <a href='vscode-notebook-cell:/c%3A/Users/manda/OneDrive/Documents/GitHub/Insights/Dados%20Siderurgia%20Brasileira%202016~2022/2%20Entrega%20-%20Cliclo%202/Passo%2005%20-%20Explora%C3%A7%C3%A3o%20dos%20dados/Jupyter%20Notebooks/Tratamento%20de%20dados%20Selic%20x%20A%C3%A7%C3%B5es.ipynb#X42sZmlsZQ%3D%3D?line=0'>1</a>\u001b[0m dataA \u001b[39m=\u001b[39m date\u001b[39m.\u001b[39;49mfromisoformat(dataA)\n\u001b[0;32m      <a href='vscode-notebook-cell:/c%3A/Users/manda/OneDrive/Documents/GitHub/Insights/Dados%20Siderurgia%20Brasileira%202016~2022/2%20Entrega%20-%20Cliclo%202/Passo%2005%20-%20Explora%C3%A7%C3%A3o%20dos%20dados/Jupyter%20Notebooks/Tratamento%20de%20dados%20Selic%20x%20A%C3%A7%C3%B5es.ipynb#X42sZmlsZQ%3D%3D?line=1'>2</a>\u001b[0m \u001b[39mprint\u001b[39m(dataA)\n",
      "\u001b[1;31mValueError\u001b[0m: Invalid isoformat string: '2000-01-31 00:00:00'"
     ]
    }
   ],
   "source": [
    "dataA = date.fromisoformat(dataA)\n",
    "print(dataA)"
   ]
  },
  {
   "cell_type": "code",
   "execution_count": null,
   "metadata": {},
   "outputs": [],
   "source": []
  },
  {
   "cell_type": "code",
   "execution_count": null,
   "metadata": {},
   "outputs": [],
   "source": []
  },
  {
   "cell_type": "code",
   "execution_count": null,
   "metadata": {},
   "outputs": [],
   "source": []
  },
  {
   "cell_type": "code",
   "execution_count": null,
   "metadata": {},
   "outputs": [],
   "source": [
    "pd.DataFrame(cotacao)"
   ]
  },
  {
   "cell_type": "markdown",
   "metadata": {},
   "source": [
    "Agora vou padronizar as datas dos dias utéis com o o mesmo formato que foi retornado na nossa consulta (aaaa-mm-dd)"
   ]
  },
  {
   "cell_type": "code",
   "execution_count": null,
   "metadata": {},
   "outputs": [],
   "source": [
    "\n",
    "\n",
    "x = df['Periodo Cotacoes'][0]\n",
    "datetime"
   ]
  },
  {
   "cell_type": "code",
   "execution_count": null,
   "metadata": {},
   "outputs": [],
   "source": [
    "df"
   ]
  },
  {
   "cell_type": "markdown",
   "metadata": {},
   "source": [
    "# Montando nossa consulta\n",
    "* Ampliei o leque de empresas, adcionando a Vale, pois vislubro a possibilidade de inclui-la em minha sugestão de investimento. "
   ]
  },
  {
   "cell_type": "code",
   "execution_count": null,
   "metadata": {},
   "outputs": [],
   "source": [
    "empresas = {'GGBR4.SA': 'Gerdau preferenciais', 'GGBR3.SA': 'Gerdau Metalúrgica preferenciais',\n",
    "             'VALE3.SA': 'Vale', 'USIM5.SA': 'Usiminas',  'CSNA3.SA': 'CSN'} \n",
    "             # Declarando dicionário com as empresas e os códigos na bolsa de valores."
   ]
  },
  {
   "cell_type": "code",
   "execution_count": null,
   "metadata": {},
   "outputs": [],
   "source": [
    "# 1p Criar um dicionário raíz chamado cotacoes_acoes para abrigar as listas;\n",
    "\n",
    "# 2p Criar 4 listas, cada uma com o nome de uma empresa e inclui-las no dict\n",
    "\n",
    "# 3p aprendo a puxar a cotação de uma dia só, puxando a cotação de um dia só\n",
    "\n",
    "# 4p faco um for para puxar todas as cotacoes das datas dos dias uteis apendando na lista cotacoes acoes\n"
   ]
  },
  {
   "cell_type": "code",
   "execution_count": null,
   "metadata": {},
   "outputs": [],
   "source": [
    "# Passo 1 Criar um dicionário raíz chamado cotacoes_acoes para abrigar as listas;\n",
    "cotacoes_acoes = {} \n",
    "\n",
    "# Passo 2 Criar 4 listas, cada uma com o nome de uma empresa e inclui-las no dict\n",
    "Gerdau_Pref = []\n",
    "Gerdau_Met = [] \n",
    "CSN = []\n",
    "Vale = []\n",
    "nomes_empresas = [Gerdau_Pref, Gerdau_Met, CSN, Vale]\n",
    "\n",
    "# Adcionando sublistas à lista raíz\n",
    "cotacoes_acoes['Gerdau_Pref'] = Gerdau_Pref\n",
    "cotacoes_acoes['Gerdau_Met'] = Gerdau_Met\n",
    "cotacoes_acoes['CSN'] = CSN\n",
    "cotacoes_acoes['Vale'] = Vale"
   ]
  },
  {
   "cell_type": "code",
   "execution_count": null,
   "metadata": {},
   "outputs": [],
   "source": [
    "c = -1\n",
    "for empresa in nomes_empresas:\n",
    "    contador = 0\n",
    "    c += 1 \n",
    "    for data in datas:\n",
    "        print(f\"[{contador}] empresa {c} cotação do dia {data} \",end=\"\")\n",
    "        contador += 1\n",
    "        cotacao = web.DataReader('GGBR4.SA', data_source='yahoo', start=data, end=data)\n",
    "        cotacao = cotacao['Adj Close'][0]\n",
    "        print(\"ok\")\n",
    "        empresa.append(cotacao)\n"
   ]
  },
  {
   "cell_type": "markdown",
   "metadata": {},
   "source": []
  },
  {
   "cell_type": "code",
   "execution_count": null,
   "metadata": {},
   "outputs": [],
   "source": [
    "serie.plot(figsize=(15, 10)) # Declarando o tamanho da figura do gráfico;\n",
    "plt.title(\"Evolução do valor das ações Gerdau\")\n",
    "plt.xlabel(\"Data\") # Declarando rótulo do eixo X;\n",
    "plt.ylabel(\"Valor das Ações\") # Declarando rótulo do eixo Y;   \n",
    "plt.legend(['GGBR4.SA(Gerdau preferenciais)']) # Criando uma legenda para o gráfico;\n",
    "plt.show() # Como eu não pedi para o Python mostrar a figura a cada repetição do laço 'for', ele mostra só agora, mas com todas as empresas juntas. \n"
   ]
  },
  {
   "cell_type": "code",
   "execution_count": null,
   "metadata": {},
   "outputs": [],
   "source": [
    "# Como alguns dias estavam dando como úteis, sem ser, provavelmente devidos a recessos, quando fazia a consulta travava,\n",
    "# então exportei uma lista com esses dias que estavam dando erro, ao total eram 6 dias, então foi possivel corrigir manualmente, rapidamente, procurando o dia útil anterior. \n",
    "# fiz isso a baixo e retornei uma nova lista de dias dom os dias uteis corrigidos\n",
    "cotacao = web.DataReader('GGBR4.SA', data_source='yahoo', start='01-01-2000', end='09-16-2022')['Adj Close']\n",
    "df = pd.DataFrame(cotacao)\n",
    "datas = pd.DataFrame(datas)\n",
    "datas.to_csv('Dias Uteis.csv')\n",
    "df.to_csv('Cotacoes.csv')\n"
   ]
  },
  {
   "cell_type": "code",
   "execution_count": null,
   "metadata": {},
   "outputs": [],
   "source": [
    "display(datas)"
   ]
  }
 ],
 "metadata": {
  "kernelspec": {
   "display_name": "Python 3.10.4 64-bit",
   "language": "python",
   "name": "python3"
  },
  "language_info": {
   "codemirror_mode": {
    "name": "ipython",
    "version": 3
   },
   "file_extension": ".py",
   "mimetype": "text/x-python",
   "name": "python",
   "nbconvert_exporter": "python",
   "pygments_lexer": "ipython3",
   "version": "3.10.4"
  },
  "orig_nbformat": 4,
  "vscode": {
   "interpreter": {
    "hash": "5d11380547bba1e6c4b0ab7b7614350493a6d4caf256d9be4e363829d8f5c452"
   }
  }
 },
 "nbformat": 4,
 "nbformat_minor": 2
}

{
 "cells": [
  {
   "cell_type": "markdown",
   "metadata": {},
   "source": [
    "<img src=\"https://i.ibb.co/K5n24Nd/1.png\"  alt=\"KCode Banner\"  />\n",
    "\n",
    "<a href=\"https://www.linkedin.com/in/kauebr/\"><img src=\"https://cdn-icons-png.flaticon.com/512/174/174857.png\" width=\"30\" ></a> <a href=\"mailto: kauemandarino@gmail.com\"><img src=\"https://cdn-icons-png.flaticon.com/512/5968/5968534.png\" width=\"30\" ></a><a href=\"\n",
    "https://api.whatsapp.com/send?phone=5541991835800&text=Oi\"> <img src=\"https://imagepng.org/wp-content/uploads/2017/08/whatsapp-icone-1.png\" width=\"30\" ></a><a href=\"https://github.com/kauebr/\"><img src=\"https://github.githubassets.com/images/modules/logos_page/Octocat.png\" width=\"30\" ></a>\n",
    "\n"
   ]
  },
  {
   "cell_type": "markdown",
   "metadata": {},
   "source": [
    "# Tratamento de dados, valores das ações x Selic\n",
    "\n",
    "## Objetivo:\n",
    "* Criar um dataFrame com os valores das ações durante o período macro;\n",
    "\n",
    "\n",
    "* Reduzir o periodo para apenas o ultimo dia útil de cada mês;\n",
    "* Extruturar o DataFrame com nas linhas os meses e nas colunas os anos;\n",
    "* Obter um dataframe com as cotações Selic no periodo;\n",
    "* Calcular as variações para os dois dataframes;\n",
    "* Plotar gráficos para análise;\n",
    "\n",
    "\n"
   ]
  },
  {
   "cell_type": "markdown",
   "metadata": {},
   "source": [
    "<h1>Índice</h1>\n",
    "\n",
    "<div class=\"alert alert-block alert-info\" style=\"margin-top: 20px\">\n",
    "    <ol>\n",
    "        <li><a href=#'a'>Minerando os Dados</a></li>\n",
    "        <li><a href=#2>Limpeza e Validação dos Dados</a></li>\n",
    "        <li><a href=#1>Modelando e Exportando os Dados</a></li>\n",
    "    *O  redirecionamento automático do índice não funciona no GitHub, para utilizá-lo, baixe o notebook em sua máquina\n",
    "    </ol>\n",
    "</div>\n",
    "<br>\n",
    "<hr>\n",
    "\n"
   ]
  },
  {
   "cell_type": "markdown",
   "metadata": {},
   "source": [
    "Importando bibliotecas"
   ]
  },
  {
   "cell_type": "code",
   "execution_count": 1,
   "metadata": {},
   "outputs": [],
   "source": [
    "from pandas_datareader import data as web\n",
    "import pandas as pd\n",
    "import matplotlib.pyplot as plt\n",
    "from datetime import date\n",
    "from calendar import monthrange\n",
    "from workalendar.america import Brazil\n",
    "\n"
   ]
  },
  {
   "cell_type": "markdown",
   "metadata": {},
   "source": [
    "## <h2 id=\"a\">Minerando os Dados</h2>\n",
    "Criando um dataFrame com os valores das ações durante o período macro, apenas os últimos dias utéis do mês de 2000 até 2022;\n"
   ]
  },
  {
   "cell_type": "code",
   "execution_count": 33,
   "metadata": {},
   "outputs": [
    {
     "name": "stdout",
     "output_type": "stream",
     "text": [
      "O último dia útil é : 28\n"
     ]
    }
   ],
   "source": [
    "# Criando um algoritmo para mapear o último dia útil de cada mês\n",
    "cal = Brazil()\n",
    "ano = 2008\n",
    "mes = 11\n",
    "primeiro_dia_mes = 1\n",
    "ultimo_dia_mes = monthrange(ano,mes)\n",
    "ultimo_dia_mes = ultimo_dia_mes[1]\n",
    "total_dias_uteis_mes = cal.get_working_days_delta(date(ano, mes, primeiro_dia_mes), date(ano, mes, ultimo_dia_mes))\n",
    "for dia in range(ultimo_dia_mes, 24, -1):\n",
    "    if cal.is_working_day(date(ano, mes, dia)) == True:\n",
    "        ultimo_dia_util = dia\n",
    "        break\n",
    "print(f'O último dia útil é : {dia}')    \n"
   ]
  },
  {
   "cell_type": "code",
   "execution_count": 34,
   "metadata": {},
   "outputs": [],
   "source": [
    "meses = {1:'Jan', 2:'Fev', 3:'Mar', 4:'Abr', 5:'Mai', 6: 'Jun', 7: 'Jul', 8: 'Ago', 9: 'Set', 10: 'Out', 11: 'Nov', 12: 'Dez'}"
   ]
  },
  {
   "cell_type": "code",
   "execution_count": 48,
   "metadata": {},
   "outputs": [
    {
     "name": "stdout",
     "output_type": "stream",
     "text": [
      "O último dia útil de Jan/2021 : 29\n",
      "O último dia útil de Fev/2021 : 26\n",
      "O último dia útil de Mar/2021 : 31\n",
      "O último dia útil de Abr/2021 : 30\n",
      "O último dia útil de Mai/2021 : 31\n",
      "O último dia útil de Jun/2021 : 30\n",
      "O último dia útil de Jul/2021 : 30\n",
      "O último dia útil de Ago/2021 : 31\n",
      "O último dia útil de Set/2021 : 30\n",
      "O último dia útil de Out/2021 : 29\n",
      "O último dia útil de Nov/2021 : 30\n",
      "O último dia útil de Dez/2021 : 31\n",
      "O último dia útil de Jan/2022 : 31\n",
      "O último dia útil de Fev/2022 : 28\n",
      "O último dia útil de Mar/2022 : 31\n",
      "O último dia útil de Abr/2022 : 29\n",
      "O último dia útil de Mai/2022 : 31\n",
      "O último dia útil de Jun/2022 : 30\n",
      "O último dia útil de Jul/2022 : 29\n",
      "O último dia útil de Ago/2022 : 31\n",
      "O último dia útil de Set/2022 : 30\n",
      "O último dia útil de Out/2022 : 31\n",
      "O último dia útil de Nov/2022 : 30\n",
      "O último dia útil de Dez/2022 : 30\n"
     ]
    }
   ],
   "source": [
    "ano_inicial = 2021\n",
    "ano_final = 2022\n",
    "primeiro_dia_mes = 1\n",
    "\n",
    "\n",
    "for ano in range(ano_inicial, ano_final+1):\n",
    "    for mes in meses.keys():\n",
    "        ultimo_dia_mes = monthrange(ano,mes)\n",
    "        ultimo_dia_mes = ultimo_dia_mes[1]\n",
    "        total_dias_uteis_mes = cal.get_working_days_delta(date(ano, mes, primeiro_dia_mes), date(ano, mes, ultimo_dia_mes))\n",
    "        for dia in range(ultimo_dia_mes, 24, -1):\n",
    "            if cal.is_working_day(date(ano, mes, dia)) == True:\n",
    "                ultimo_dia_util = dia\n",
    "                print(f'O último dia útil de {meses[mes]}/{ano} : {dia}') \n",
    "                break\n",
    "                \n"
   ]
  },
  {
   "cell_type": "markdown",
   "metadata": {},
   "source": []
  },
  {
   "cell_type": "code",
   "execution_count": 44,
   "metadata": {},
   "outputs": [
    {
     "data": {
      "text/plain": [
       "'Jan'"
      ]
     },
     "execution_count": 44,
     "metadata": {},
     "output_type": "execute_result"
    }
   ],
   "source": [
    "meses[1]"
   ]
  },
  {
   "cell_type": "code",
   "execution_count": null,
   "metadata": {},
   "outputs": [],
   "source": []
  }
 ],
 "metadata": {
  "kernelspec": {
   "display_name": "Python 3.10.4 64-bit",
   "language": "python",
   "name": "python3"
  },
  "language_info": {
   "codemirror_mode": {
    "name": "ipython",
    "version": 3
   },
   "file_extension": ".py",
   "mimetype": "text/x-python",
   "name": "python",
   "nbconvert_exporter": "python",
   "pygments_lexer": "ipython3",
   "version": "3.10.4"
  },
  "orig_nbformat": 4,
  "vscode": {
   "interpreter": {
    "hash": "5d11380547bba1e6c4b0ab7b7614350493a6d4caf256d9be4e363829d8f5c452"
   }
  }
 },
 "nbformat": 4,
 "nbformat_minor": 2
}

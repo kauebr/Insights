{
 "cells": [
  {
   "cell_type": "markdown",
   "metadata": {},
   "source": [
    "<img src=\"https://i.ibb.co/K5n24Nd/1.png\"  alt=\"KCode Banner\"  />\n",
    "\n",
    "<a href=\"https://www.linkedin.com/in/kauebr/\"><img src=\"https://cdn-icons-png.flaticon.com/512/174/174857.png\" width=\"30\" ></a> <a href=\"mailto: kauemandarino@gmail.com\"><img src=\"https://cdn-icons-png.flaticon.com/512/5968/5968534.png\" width=\"30\" ></a><a href=\"\n",
    "https://api.whatsapp.com/send?phone=5541991835800&text=Oi\"> <img src=\"https://imagepng.org/wp-content/uploads/2017/08/whatsapp-icone-1.png\" width=\"30\" ></a><a href=\"https://github.com/kauebr/\"><img src=\"https://github.githubassets.com/images/modules/logos_page/Octocat.png\" width=\"30\" ></a>\n",
    "\n"
   ]
  },
  {
   "cell_type": "markdown",
   "metadata": {},
   "source": [
    "# Tratamento de dados, valores das ações x Selic\n",
    "\n",
    "## Objetivo:\n",
    "* Analisar o valor da cotação da ação de empresas, relacionando com o valor da taxa Selic no mesmo período.\n",
    "\n",
    "## Método:\n",
    "* Definir o período 2000 ~ 2022(22 anos) OK\n",
    "* Minerar a cotação Selic que vem sempre no último dia útil de cada mês\n",
    "* Minerar os valores das cotações das ações empresas: `GGBR4.SA Gerdau preferenciais`, `GGBR3.SA Gerdau Metalúrgica preferenciais`,\n",
    "                                                      `VALE3.SA Vale`, `USIM5.SA Usiminas` e `CSNA3.SA CSN` OK\n",
    "* Reduzir as cotações e ficar apenas com as referentes ao último dia útil de cada mês para podermos comparar com o valor da Selic;\n",
    "* Plotar gráficos para análise;\n",
    "\n"
   ]
  },
  {
   "cell_type": "code",
   "execution_count": 1,
   "metadata": {},
   "outputs": [],
   "source": [
    "import pandas as pd\n",
    "from pandas_datareader import data as web\n",
    "from datetime import date"
   ]
  },
  {
   "cell_type": "code",
   "execution_count": 2,
   "metadata": {},
   "outputs": [],
   "source": [
    "# Função que puxa as cotações, detecta, por variação discreta, qual é o último dia de cada mês e retorna apenas os valores das ações referentes ao último dia útil de cada mês.\n",
    "\n",
    "def GLC(cod_empresa, data_inicial, data_final): # Gerar lista de cotações (mm-dd-aaaa)\n",
    "# Puxando a cotação mãe(todo o período)\n",
    "    cotacao = web.DataReader(cod_empresa, data_source='yahoo', start=data_inicial, end=data_final)['Adj Close']\n",
    "    cotacao = cotacao.to_frame()\n",
    "    cotacao.reset_index(inplace=True)\n",
    "    cotacao.rename(columns={'Date':'Data'}, inplace=True)\n",
    "    # Adcionando colunas âncora \"meses\" e \"ano\"\n",
    "    cotacao = cotacao.assign(Meses = 0)\n",
    "    cotacao['Meses'] = cotacao['Data'].dt.month\n",
    "    cotacao['Ano'] = cotacao['Data'].dt.year\n",
    "    # Calculando o último dia(útil) de cada mês, baseado na variação discreta entre o valor das linhas dos mesês(quando muda o mês, ela salva o index em um relatório)\n",
    "    meses = cotacao['Meses']\n",
    "    c = 1\n",
    "    lista_dias = []\n",
    "    for loop in range(0, len(meses)-1):\n",
    "        atual = meses[c]\n",
    "        anterior = meses[c-1]\n",
    "        if atual != anterior:\n",
    "            lista_dias.append(c-1)\n",
    "        c += 1\n",
    "    # Utilizando os valores do index, para selecionar apenas os dias desejados\n",
    "    cotacao_final = pd.DataFrame()\n",
    "    lista_datas = list()\n",
    "    lista_cotacoes = list()\n",
    "    lista_referencias = list()\n",
    "    for i in lista_dias: \n",
    "        lista_datas.append(cotacao.iloc[i]['Data'])\n",
    "        lista_cotacoes.append(cotacao.iloc[i]['Adj Close'])\n",
    "        ano = cotacao.iloc[i]['Ano']\n",
    "        mes = cotacao.iloc[i]['Meses']\n",
    "        lista_referencias.append(str(f'{mes}-{ano}'))\n",
    "        # Criando o nosso dataframe para abrigar o resultado\n",
    "    cotacao_final['Data'] = lista_datas\n",
    "    cotacao_final['Cotacoes'] = lista_cotacoes\n",
    "    cotacao_final['Ref'] = lista_referencias\n",
    "    return cotacao_final\n"
   ]
  },
  {
   "cell_type": "code",
   "execution_count": 3,
   "metadata": {},
   "outputs": [],
   "source": [
    "empresas = {'GGBR4.SA': 'Gerdau preferenciais', 'GGBR3.SA': 'Gerdau Metalúrgica preferenciais',\n",
    "             'VALE3.SA': 'Vale', 'USIM5.SA': 'Usiminas',  'CSNA3.SA': 'CSN'}"
   ]
  },
  {
   "cell_type": "code",
   "execution_count": 4,
   "metadata": {},
   "outputs": [],
   "source": [
    "cotacoes_acoes = dict()\n",
    "inicio = '01-01-2000'\n",
    "fim =  '08-31-2022'\n",
    "\n",
    "cotacoes_acoes['Gerdau Pref'] = GLC('GGBR4.SA', inicio, fim)\n",
    "cotacoes_acoes['Gerdau Met Pre'] = GLC('GGBR3.SA', inicio, fim)\n",
    "cotacoes_acoes['Vale'] = GLC('VALE3.SA', inicio, fim)\n",
    "cotacoes_acoes['Usiminas'] = GLC('USIM5.SA', inicio, fim)\n",
    "cotacoes_acoes['CSN'] = GLC('CSNA3.SA', inicio, fim)"
   ]
  },
  {
   "cell_type": "code",
   "execution_count": 5,
   "metadata": {},
   "outputs": [
    {
     "data": {
      "text/plain": [
       "{'Gerdau Pref':           Data    Cotacoes     Ref\n",
       " 0   2000-01-31  268.362549  1-2000\n",
       " 1   2000-02-29  263.639282  2-2000\n",
       " 2   2000-03-31  244.210022  3-2000\n",
       " 3   2000-04-28  234.012115  4-2000\n",
       " 4   2000-05-31    1.252358  5-2000\n",
       " ..         ...         ...     ...\n",
       " 266 2022-03-31   29.354248  3-2022\n",
       " 267 2022-04-29   26.648436  4-2022\n",
       " 268 2022-05-31   28.365076  5-2022\n",
       " 269 2022-06-30   21.733269  6-2022\n",
       " 270 2022-07-29   23.785044  7-2022\n",
       " \n",
       " [271 rows x 3 columns],\n",
       " 'Gerdau Met Pre':           Data   Cotacoes     Ref\n",
       " 0   2000-01-31   0.219444  1-2000\n",
       " 1   2000-02-29   0.231984  2-2000\n",
       " 2   2000-03-31   0.200635  3-2000\n",
       " 3   2000-04-28   0.219444  4-2000\n",
       " 4   2000-05-31   0.980719  5-2000\n",
       " ..         ...        ...     ...\n",
       " 266 2022-03-31  22.675571  3-2022\n",
       " 267 2022-04-29  20.724682  4-2022\n",
       " 268 2022-05-31  22.144821  5-2022\n",
       " 269 2022-06-30  17.251686  6-2022\n",
       " 270 2022-07-29  18.953648  7-2022\n",
       " \n",
       " [271 rows x 3 columns],\n",
       " 'Vale':           Data   Cotacoes     Ref\n",
       " 0   2000-01-31   1.951422  1-2000\n",
       " 1   2000-02-29   1.658709  2-2000\n",
       " 2   2000-03-31   1.626185  3-2000\n",
       " 3   2000-04-28   1.626185  4-2000\n",
       " 4   2000-05-31   1.700177  5-2000\n",
       " ..         ...        ...     ...\n",
       " 266 2022-03-31  90.889160  3-2022\n",
       " 267 2022-04-29  79.185760  4-2022\n",
       " 268 2022-05-31  81.961868  5-2022\n",
       " 269 2022-06-30  72.787384  6-2022\n",
       " 270 2022-07-29  66.312965  7-2022\n",
       " \n",
       " [271 rows x 3 columns],\n",
       " 'Usiminas':           Data   Cotacoes     Ref\n",
       " 0   2000-01-31   1.731119  1-2000\n",
       " 1   2000-02-29   1.566250  2-2000\n",
       " 2   2000-03-31   1.426112  3-2000\n",
       " 3   2000-04-28   1.244756  4-2000\n",
       " 4   2000-05-31   1.318947  5-2000\n",
       " ..         ...        ...     ...\n",
       " 266 2022-03-31  13.254291  3-2022\n",
       " 267 2022-04-29  11.310000  4-2022\n",
       " 268 2022-05-31  10.960000  5-2022\n",
       " 269 2022-06-30   8.650000  6-2022\n",
       " 270 2022-07-29   8.610000  7-2022\n",
       " \n",
       " [271 rows x 3 columns],\n",
       " 'CSN':           Data   Cotacoes     Ref\n",
       " 0   2000-01-31   1.667136  1-2000\n",
       " 1   2000-02-29   1.566680  2-2000\n",
       " 2   2000-03-31   1.754767  3-2000\n",
       " 3   2000-04-28   1.453400  4-2000\n",
       " 4   2000-05-31   1.709883  5-2000\n",
       " ..         ...        ...     ...\n",
       " 266 2022-03-31  25.608978  3-2022\n",
       " 267 2022-04-29  20.729202  4-2022\n",
       " 268 2022-05-31  21.840000  5-2022\n",
       " 269 2022-06-30  15.440000  6-2022\n",
       " 270 2022-07-29  14.710000  7-2022\n",
       " \n",
       " [271 rows x 3 columns]}"
      ]
     },
     "execution_count": 5,
     "metadata": {},
     "output_type": "execute_result"
    }
   ],
   "source": [
    "cotacoes_acoes"
   ]
  },
  {
   "cell_type": "markdown",
   "metadata": {},
   "source": [
    "Uma vez os dados minerados, organizados e filtrados, é só partir para análise."
   ]
  }
 ],
 "metadata": {
  "kernelspec": {
   "display_name": "Python 3.10.4 64-bit",
   "language": "python",
   "name": "python3"
  },
  "language_info": {
   "codemirror_mode": {
    "name": "ipython",
    "version": 3
   },
   "file_extension": ".py",
   "mimetype": "text/x-python",
   "name": "python",
   "nbconvert_exporter": "python",
   "pygments_lexer": "ipython3",
   "version": "3.10.4"
  },
  "orig_nbformat": 4,
  "vscode": {
   "interpreter": {
    "hash": "5d11380547bba1e6c4b0ab7b7614350493a6d4caf256d9be4e363829d8f5c452"
   }
  }
 },
 "nbformat": 4,
 "nbformat_minor": 2
}

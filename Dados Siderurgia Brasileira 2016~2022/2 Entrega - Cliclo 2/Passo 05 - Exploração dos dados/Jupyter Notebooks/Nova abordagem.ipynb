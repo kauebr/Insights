{
 "cells": [
  {
   "cell_type": "markdown",
   "metadata": {},
   "source": [
    "<img src=\"https://i.ibb.co/K5n24Nd/1.png\"  alt=\"KCode Banner\"  />\n",
    "\n",
    "<a href=\"https://www.linkedin.com/in/kauebr/\"><img src=\"https://cdn-icons-png.flaticon.com/512/174/174857.png\" width=\"30\" ></a> <a href=\"mailto: kauemandarino@gmail.com\"><img src=\"https://cdn-icons-png.flaticon.com/512/5968/5968534.png\" width=\"30\" ></a><a href=\"\n",
    "https://api.whatsapp.com/send?phone=5541991835800&text=Oi\"> <img src=\"https://imagepng.org/wp-content/uploads/2017/08/whatsapp-icone-1.png\" width=\"30\" ></a><a href=\"https://github.com/kauebr/\"><img src=\"https://github.githubassets.com/images/modules/logos_page/Octocat.png\" width=\"30\" ></a>\n",
    "\n"
   ]
  },
  {
   "cell_type": "code",
   "execution_count": 1,
   "metadata": {},
   "outputs": [],
   "source": [
    "from pandas_datareader import data as web\n",
    "import pandas as pd\n",
    "import numpy as np\n",
    "import matplotlib.pyplot as plt\n",
    "from datetime import date\n",
    "\n",
    "from calendar import monthrange\n",
    "from workalendar.america import Brazil\n",
    "import matplotlib.pyplot as plt"
   ]
  },
  {
   "cell_type": "code",
   "execution_count": 2,
   "metadata": {},
   "outputs": [],
   "source": [
    "# Puxando as datas da nossa consulta (2000 ~ 2022) # ISSO AQUI ESTA ERRADO POS AS DATAS NÃO ESTÃO IGUAIS NAS EMPRESAS\n",
    "\n",
    "datas = pd.read_csv('C:/Users/manda/OneDrive/Documents/GitHub/Insights/Dados Siderurgia Brasileira 2016~2022/2 Entrega - Cliclo 2/Passo 05 - Exploração dos dados/Jupyter Notebooks/Dados/UltimosUteis.csv')"
   ]
  },
  {
   "cell_type": "code",
   "execution_count": 3,
   "metadata": {},
   "outputs": [
    {
     "data": {
      "text/html": [
       "<div>\n",
       "<style scoped>\n",
       "    .dataframe tbody tr th:only-of-type {\n",
       "        vertical-align: middle;\n",
       "    }\n",
       "\n",
       "    .dataframe tbody tr th {\n",
       "        vertical-align: top;\n",
       "    }\n",
       "\n",
       "    .dataframe thead th {\n",
       "        text-align: right;\n",
       "    }\n",
       "</style>\n",
       "<table border=\"1\" class=\"dataframe\">\n",
       "  <thead>\n",
       "    <tr style=\"text-align: right;\">\n",
       "      <th></th>\n",
       "      <th>Ultimos Uteis</th>\n",
       "    </tr>\n",
       "  </thead>\n",
       "  <tbody>\n",
       "    <tr>\n",
       "      <th>0</th>\n",
       "      <td>1/31/2000</td>\n",
       "    </tr>\n",
       "    <tr>\n",
       "      <th>1</th>\n",
       "      <td>2/29/2000</td>\n",
       "    </tr>\n",
       "    <tr>\n",
       "      <th>2</th>\n",
       "      <td>3/31/2000</td>\n",
       "    </tr>\n",
       "    <tr>\n",
       "      <th>3</th>\n",
       "      <td>4/28/2000</td>\n",
       "    </tr>\n",
       "    <tr>\n",
       "      <th>4</th>\n",
       "      <td>5/31/2000</td>\n",
       "    </tr>\n",
       "    <tr>\n",
       "      <th>...</th>\n",
       "      <td>...</td>\n",
       "    </tr>\n",
       "    <tr>\n",
       "      <th>268</th>\n",
       "      <td>5/31/2022</td>\n",
       "    </tr>\n",
       "    <tr>\n",
       "      <th>269</th>\n",
       "      <td>6/30/2022</td>\n",
       "    </tr>\n",
       "    <tr>\n",
       "      <th>270</th>\n",
       "      <td>7/29/2022</td>\n",
       "    </tr>\n",
       "    <tr>\n",
       "      <th>271</th>\n",
       "      <td>8/31/2022</td>\n",
       "    </tr>\n",
       "    <tr>\n",
       "      <th>272</th>\n",
       "      <td>9/20/2022</td>\n",
       "    </tr>\n",
       "  </tbody>\n",
       "</table>\n",
       "<p>273 rows × 1 columns</p>\n",
       "</div>"
      ],
      "text/plain": [
       "    Ultimos Uteis\n",
       "0       1/31/2000\n",
       "1       2/29/2000\n",
       "2       3/31/2000\n",
       "3       4/28/2000\n",
       "4       5/31/2000\n",
       "..            ...\n",
       "268     5/31/2022\n",
       "269     6/30/2022\n",
       "270     7/29/2022\n",
       "271     8/31/2022\n",
       "272     9/20/2022\n",
       "\n",
       "[273 rows x 1 columns]"
      ]
     },
     "execution_count": 3,
     "metadata": {},
     "output_type": "execute_result"
    }
   ],
   "source": [
    "datasx"
   ]
  },
  {
   "cell_type": "markdown",
   "metadata": {},
   "source": [
    "* Constatamos 273 linhas referentes as datas da nossa consulta: ultimos dias úteis de cada mês, de 01/2000 a 08/2022\n",
    "\n"
   ]
  },
  {
   "cell_type": "code",
   "execution_count": 4,
   "metadata": {},
   "outputs": [],
   "source": [
    "# Declarando dicionário com as empresas e os códigos na bolsa de valores.\n",
    "\n",
    "empresas = {'GGBR4.SA': 'Gerdau preferenciais', 'GGBR3.SA': 'Gerdau Metalúrgica preferenciais',\n",
    "             'VALE3.SA': 'Vale', 'USIM5.SA': 'Usiminas',  'CSNA3.SA': 'CSN'} \n",
    "             "
   ]
  },
  {
   "cell_type": "markdown",
   "metadata": {},
   "source": [
    "\n",
    "* Ampliei o leque de empresas, adcionando a Vale, pois vislubro a possibilidade de inclui-la em minha sugestão de investimento. "
   ]
  },
  {
   "cell_type": "markdown",
   "metadata": {},
   "source": [
    "* Agora vou fazer uma consulta no período `macro` para cada empresa, para depois filtrarmos, pois, uma requisição para cada data do nosso dict demoraria cerca de 40 minutos, mas antes vou modelar a estrutura para receber os nossos dados."
   ]
  },
  {
   "cell_type": "code",
   "execution_count": 5,
   "metadata": {},
   "outputs": [
    {
     "data": {
      "text/plain": [
       "{'GGBR4.SA': Date\n",
       " 2000-01-03    260.311646\n",
       " 2000-01-04    254.300369\n",
       " 2000-01-05    262.995209\n",
       " 2000-01-06    271.046112\n",
       " 2000-01-07    283.390717\n",
       "                  ...    \n",
       " 2022-08-25     24.670000\n",
       " 2022-08-26     24.059999\n",
       " 2022-08-29     23.959999\n",
       " 2022-08-30     23.540001\n",
       " 2022-08-31     23.320000\n",
       " Name: Adj Close, Length: 5645, dtype: float64,\n",
       " 'GGBR3.SA': Date\n",
       " 2000-01-04     0.188095\n",
       " 2000-01-05     0.188095\n",
       " 2000-01-06     0.188095\n",
       " 2000-01-07     0.188095\n",
       " 2000-01-10     0.188095\n",
       "                 ...    \n",
       " 2022-08-25    20.209999\n",
       " 2022-08-26    19.879999\n",
       " 2022-08-29    19.780001\n",
       " 2022-08-30    19.500000\n",
       " 2022-08-31    19.700001\n",
       " Name: Adj Close, Length: 5695, dtype: float64,\n",
       " 'VALE3.SA': Date\n",
       " 2000-01-03     1.707494\n",
       " 2000-01-04     1.666839\n",
       " 2000-01-05     1.666839\n",
       " 2000-01-06     1.666839\n",
       " 2000-01-07     1.727821\n",
       "                 ...    \n",
       " 2022-08-25    69.269997\n",
       " 2022-08-26    68.230003\n",
       " 2022-08-29    66.910004\n",
       " 2022-08-30    64.970001\n",
       " 2022-08-31    64.500000\n",
       " Name: Adj Close, Length: 5696, dtype: float64,\n",
       " 'USIM5.SA': Date\n",
       " 2000-01-03    1.582737\n",
       " 2000-01-04    1.525033\n",
       " 2000-01-05    1.670117\n",
       " 2000-01-06    1.821796\n",
       " 2000-01-07    1.894338\n",
       "                 ...   \n",
       " 2022-08-25    9.290000\n",
       " 2022-08-26    8.670000\n",
       " 2022-08-29    8.220000\n",
       " 2022-08-30    8.050000\n",
       " 2022-08-31    8.020000\n",
       " Name: Adj Close, Length: 5696, dtype: float64,\n",
       " 'CSNA3.SA': Date\n",
       " 2000-01-03     2.079645\n",
       " 2000-01-04     2.109568\n",
       " 2000-01-05     2.222848\n",
       " 2000-01-06     2.323304\n",
       " 2000-01-07     2.308342\n",
       "                 ...    \n",
       " 2022-08-25    15.960000\n",
       " 2022-08-26    15.010000\n",
       " 2022-08-29    14.500000\n",
       " 2022-08-30    14.040000\n",
       " 2022-08-31    13.800000\n",
       " Name: Adj Close, Length: 5614, dtype: float64}"
      ]
     },
     "execution_count": 5,
     "metadata": {},
     "output_type": "execute_result"
    }
   ],
   "source": [
    "# Criando um dicionário raíz chamado cotacoes_acoes para abrigar as listas;\n",
    "cotacoes_acoes = {} \n",
    "\n",
    "# Puxando as cotações\n",
    "for empresa in empresas:\n",
    "    cotacao = web.DataReader(empresa, data_source='yahoo', start='01-01-2000', end='08-31-2022')\n",
    "    cotacoes_acoes[(f\"{empresa}\")] = cotacao['Adj Close']\n",
    "    cotacoes_acoes[empresa].to_csv(f\"{empresa}.csv\")\n",
    "    \n",
    "cotacoes_acoes\n",
    "\n"
   ]
  },
  {
   "cell_type": "markdown",
   "metadata": {},
   "source": [
    "Agora vou transformar as séries em dataframes"
   ]
  },
  {
   "cell_type": "code",
   "execution_count": 6,
   "metadata": {},
   "outputs": [],
   "source": [
    "for empresa in empresas:\n",
    "    cotacoes_acoes[empresa] = cotacoes_acoes[empresa].to_frame()\n",
    "    cotacoes_acoes[empresa].reset_index(inplace=True) # As datas estavam como índice, aqui transformo-as em coluna;"
   ]
  },
  {
   "cell_type": "markdown",
   "metadata": {},
   "source": [
    "Agora vou juntar todas as cotações e organizar tudo em um único dataframe"
   ]
  },
  {
   "cell_type": "code",
   "execution_count": 7,
   "metadata": {},
   "outputs": [
    {
     "data": {
      "text/html": [
       "<div>\n",
       "<style scoped>\n",
       "    .dataframe tbody tr th:only-of-type {\n",
       "        vertical-align: middle;\n",
       "    }\n",
       "\n",
       "    .dataframe tbody tr th {\n",
       "        vertical-align: top;\n",
       "    }\n",
       "\n",
       "    .dataframe thead th {\n",
       "        text-align: right;\n",
       "    }\n",
       "</style>\n",
       "<table border=\"1\" class=\"dataframe\">\n",
       "  <thead>\n",
       "    <tr style=\"text-align: right;\">\n",
       "      <th></th>\n",
       "      <th>Data Mãe</th>\n",
       "    </tr>\n",
       "  </thead>\n",
       "  <tbody>\n",
       "    <tr>\n",
       "      <th>0</th>\n",
       "      <td>2000-01-03</td>\n",
       "    </tr>\n",
       "    <tr>\n",
       "      <th>1</th>\n",
       "      <td>2000-01-04</td>\n",
       "    </tr>\n",
       "    <tr>\n",
       "      <th>2</th>\n",
       "      <td>2000-01-05</td>\n",
       "    </tr>\n",
       "    <tr>\n",
       "      <th>3</th>\n",
       "      <td>2000-01-06</td>\n",
       "    </tr>\n",
       "    <tr>\n",
       "      <th>4</th>\n",
       "      <td>2000-01-07</td>\n",
       "    </tr>\n",
       "    <tr>\n",
       "      <th>...</th>\n",
       "      <td>...</td>\n",
       "    </tr>\n",
       "    <tr>\n",
       "      <th>5640</th>\n",
       "      <td>2022-08-25</td>\n",
       "    </tr>\n",
       "    <tr>\n",
       "      <th>5641</th>\n",
       "      <td>2022-08-26</td>\n",
       "    </tr>\n",
       "    <tr>\n",
       "      <th>5642</th>\n",
       "      <td>2022-08-29</td>\n",
       "    </tr>\n",
       "    <tr>\n",
       "      <th>5643</th>\n",
       "      <td>2022-08-30</td>\n",
       "    </tr>\n",
       "    <tr>\n",
       "      <th>5644</th>\n",
       "      <td>2022-08-31</td>\n",
       "    </tr>\n",
       "  </tbody>\n",
       "</table>\n",
       "<p>5645 rows × 1 columns</p>\n",
       "</div>"
      ],
      "text/plain": [
       "        Data Mãe\n",
       "0     2000-01-03\n",
       "1     2000-01-04\n",
       "2     2000-01-05\n",
       "3     2000-01-06\n",
       "4     2000-01-07\n",
       "...          ...\n",
       "5640  2022-08-25\n",
       "5641  2022-08-26\n",
       "5642  2022-08-29\n",
       "5643  2022-08-30\n",
       "5644  2022-08-31\n",
       "\n",
       "[5645 rows x 1 columns]"
      ]
     },
     "execution_count": 7,
     "metadata": {},
     "output_type": "execute_result"
    }
   ],
   "source": [
    "cotacao = web.DataReader('GGBR4.SA', data_source='yahoo', start='01-01-2000', end='08-31-2022') # Puxando uma cotação qualquer com o intervalo de datas desejado;\n",
    "cotacao.reset_index(inplace=True) # As datas estavam como índice, aqui transformo-as em coluna;\n",
    "cotacao.rename(columns={'Date':'Data Mãe'}, inplace=True) # Renomeando a coluna de \"Date\", para \"Data\";\n",
    "df = cotacao['Data Mãe'].copy() # Criando uma série, já com as datas;\n",
    "df.to_csv('C:/Users/manda/OneDrive/Documents/GitHub/Insights/Dados Siderurgia Brasileira 2016~2022/2 Entrega - Cliclo 2/Passo 03 e 04 - Coleta e limpeza dos dados/Dados/datas.csv') # Exportando a série para um arquivo .csv\n",
    "df = pd.read_csv('C:/Users/manda/OneDrive/Documents/GitHub/Insights/Dados Siderurgia Brasileira 2016~2022/2 Entrega - Cliclo 2/Passo 03 e 04 - Coleta e limpeza dos dados/Dados/datas.csv', usecols=[1]) # Criando um frame de dados a partir do .csv exportado\n",
    "df_datas = df.copy()\n",
    "df_datas"
   ]
  },
  {
   "cell_type": "code",
   "execution_count": 8,
   "metadata": {},
   "outputs": [
    {
     "data": {
      "text/html": [
       "<div>\n",
       "<style scoped>\n",
       "    .dataframe tbody tr th:only-of-type {\n",
       "        vertical-align: middle;\n",
       "    }\n",
       "\n",
       "    .dataframe tbody tr th {\n",
       "        vertical-align: top;\n",
       "    }\n",
       "\n",
       "    .dataframe thead th {\n",
       "        text-align: right;\n",
       "    }\n",
       "</style>\n",
       "<table border=\"1\" class=\"dataframe\">\n",
       "  <thead>\n",
       "    <tr style=\"text-align: right;\">\n",
       "      <th></th>\n",
       "      <th>Data Mãe</th>\n",
       "      <th>GGBR4.SA</th>\n",
       "      <th>GGBR3.SA</th>\n",
       "      <th>VALE3.SA</th>\n",
       "      <th>USIM5.SA</th>\n",
       "      <th>CSNA3.SA</th>\n",
       "    </tr>\n",
       "  </thead>\n",
       "  <tbody>\n",
       "    <tr>\n",
       "      <th>0</th>\n",
       "      <td>2000-01-03</td>\n",
       "      <td>2000-01-03</td>\n",
       "      <td>2000-01-04</td>\n",
       "      <td>2000-01-03</td>\n",
       "      <td>2000-01-03</td>\n",
       "      <td>2000-01-03</td>\n",
       "    </tr>\n",
       "    <tr>\n",
       "      <th>1</th>\n",
       "      <td>2000-01-04</td>\n",
       "      <td>2000-01-04</td>\n",
       "      <td>2000-01-05</td>\n",
       "      <td>2000-01-04</td>\n",
       "      <td>2000-01-04</td>\n",
       "      <td>2000-01-04</td>\n",
       "    </tr>\n",
       "    <tr>\n",
       "      <th>2</th>\n",
       "      <td>2000-01-05</td>\n",
       "      <td>2000-01-05</td>\n",
       "      <td>2000-01-06</td>\n",
       "      <td>2000-01-05</td>\n",
       "      <td>2000-01-05</td>\n",
       "      <td>2000-01-05</td>\n",
       "    </tr>\n",
       "    <tr>\n",
       "      <th>3</th>\n",
       "      <td>2000-01-06</td>\n",
       "      <td>2000-01-06</td>\n",
       "      <td>2000-01-07</td>\n",
       "      <td>2000-01-06</td>\n",
       "      <td>2000-01-06</td>\n",
       "      <td>2000-01-06</td>\n",
       "    </tr>\n",
       "    <tr>\n",
       "      <th>4</th>\n",
       "      <td>2000-01-07</td>\n",
       "      <td>2000-01-07</td>\n",
       "      <td>2000-01-10</td>\n",
       "      <td>2000-01-07</td>\n",
       "      <td>2000-01-07</td>\n",
       "      <td>2000-01-07</td>\n",
       "    </tr>\n",
       "    <tr>\n",
       "      <th>...</th>\n",
       "      <td>...</td>\n",
       "      <td>...</td>\n",
       "      <td>...</td>\n",
       "      <td>...</td>\n",
       "      <td>...</td>\n",
       "      <td>...</td>\n",
       "    </tr>\n",
       "    <tr>\n",
       "      <th>5640</th>\n",
       "      <td>2022-08-25</td>\n",
       "      <td>2022-08-25</td>\n",
       "      <td>2022-06-15</td>\n",
       "      <td>2022-06-14</td>\n",
       "      <td>2022-06-14</td>\n",
       "      <td>NaT</td>\n",
       "    </tr>\n",
       "    <tr>\n",
       "      <th>5641</th>\n",
       "      <td>2022-08-26</td>\n",
       "      <td>2022-08-26</td>\n",
       "      <td>2022-06-17</td>\n",
       "      <td>2022-06-15</td>\n",
       "      <td>2022-06-15</td>\n",
       "      <td>NaT</td>\n",
       "    </tr>\n",
       "    <tr>\n",
       "      <th>5642</th>\n",
       "      <td>2022-08-29</td>\n",
       "      <td>2022-08-29</td>\n",
       "      <td>2022-06-20</td>\n",
       "      <td>2022-06-17</td>\n",
       "      <td>2022-06-17</td>\n",
       "      <td>NaT</td>\n",
       "    </tr>\n",
       "    <tr>\n",
       "      <th>5643</th>\n",
       "      <td>2022-08-30</td>\n",
       "      <td>2022-08-30</td>\n",
       "      <td>2022-06-21</td>\n",
       "      <td>2022-06-20</td>\n",
       "      <td>2022-06-20</td>\n",
       "      <td>NaT</td>\n",
       "    </tr>\n",
       "    <tr>\n",
       "      <th>5644</th>\n",
       "      <td>2022-08-31</td>\n",
       "      <td>2022-08-31</td>\n",
       "      <td>2022-06-22</td>\n",
       "      <td>2022-06-21</td>\n",
       "      <td>2022-06-21</td>\n",
       "      <td>NaT</td>\n",
       "    </tr>\n",
       "  </tbody>\n",
       "</table>\n",
       "<p>5645 rows × 6 columns</p>\n",
       "</div>"
      ],
      "text/plain": [
       "        Data Mãe   GGBR4.SA   GGBR3.SA   VALE3.SA   USIM5.SA   CSNA3.SA\n",
       "0     2000-01-03 2000-01-03 2000-01-04 2000-01-03 2000-01-03 2000-01-03\n",
       "1     2000-01-04 2000-01-04 2000-01-05 2000-01-04 2000-01-04 2000-01-04\n",
       "2     2000-01-05 2000-01-05 2000-01-06 2000-01-05 2000-01-05 2000-01-05\n",
       "3     2000-01-06 2000-01-06 2000-01-07 2000-01-06 2000-01-06 2000-01-06\n",
       "4     2000-01-07 2000-01-07 2000-01-10 2000-01-07 2000-01-07 2000-01-07\n",
       "...          ...        ...        ...        ...        ...        ...\n",
       "5640  2022-08-25 2022-08-25 2022-06-15 2022-06-14 2022-06-14        NaT\n",
       "5641  2022-08-26 2022-08-26 2022-06-17 2022-06-15 2022-06-15        NaT\n",
       "5642  2022-08-29 2022-08-29 2022-06-20 2022-06-17 2022-06-17        NaT\n",
       "5643  2022-08-30 2022-08-30 2022-06-21 2022-06-20 2022-06-20        NaT\n",
       "5644  2022-08-31 2022-08-31 2022-06-22 2022-06-21 2022-06-21        NaT\n",
       "\n",
       "[5645 rows x 6 columns]"
      ]
     },
     "execution_count": 8,
     "metadata": {},
     "output_type": "execute_result"
    }
   ],
   "source": [
    "for empresa in empresas:\n",
    "    df_datas[empresa] = cotacoes_acoes[empresa]['Date']\n",
    "df_datas"
   ]
  },
  {
   "cell_type": "markdown",
   "metadata": {},
   "source": [
    "Agora eu vou ter que fazer uma validação deixar apenas a data mãe que tiver em todas as colunas.\n"
   ]
  },
  {
   "cell_type": "code",
   "execution_count": 11,
   "metadata": {},
   "outputs": [
    {
     "ename": "KeyboardInterrupt",
     "evalue": "",
     "output_type": "error",
     "traceback": [
      "\u001b[1;31m---------------------------------------------------------------------------\u001b[0m",
      "\u001b[1;31mKeyboardInterrupt\u001b[0m                         Traceback (most recent call last)",
      "\u001b[1;32mc:\\Users\\manda\\OneDrive\\Documents\\GitHub\\Insights\\Dados Siderurgia Brasileira 2016~2022\\2 Entrega - Cliclo 2\\Passo 05 - Exploração dos dados\\Jupyter Notebooks\\Nova abordagem.ipynb Célula: 16\u001b[0m in \u001b[0;36m<cell line: 1>\u001b[1;34m()\u001b[0m\n\u001b[0;32m      <a href='vscode-notebook-cell:/c%3A/Users/manda/OneDrive/Documents/GitHub/Insights/Dados%20Siderurgia%20Brasileira%202016~2022/2%20Entrega%20-%20Cliclo%202/Passo%2005%20-%20Explora%C3%A7%C3%A3o%20dos%20dados/Jupyter%20Notebooks/Nova%20abordagem.ipynb#X35sZmlsZQ%3D%3D?line=0'>1</a>\u001b[0m \u001b[39mfor\u001b[39;00m data_mae \u001b[39min\u001b[39;00m df_datas[\u001b[39m'\u001b[39m\u001b[39mData Mãe\u001b[39m\u001b[39m'\u001b[39m]:\n\u001b[0;32m      <a href='vscode-notebook-cell:/c%3A/Users/manda/OneDrive/Documents/GitHub/Insights/Dados%20Siderurgia%20Brasileira%202016~2022/2%20Entrega%20-%20Cliclo%202/Passo%2005%20-%20Explora%C3%A7%C3%A3o%20dos%20dados/Jupyter%20Notebooks/Nova%20abordagem.ipynb#X35sZmlsZQ%3D%3D?line=1'>2</a>\u001b[0m     \u001b[39mfor\u001b[39;00m c \u001b[39min\u001b[39;00m \u001b[39mrange\u001b[39m(\u001b[39m0\u001b[39m, \u001b[39m5646\u001b[39m):\n\u001b[1;32m----> <a href='vscode-notebook-cell:/c%3A/Users/manda/OneDrive/Documents/GitHub/Insights/Dados%20Siderurgia%20Brasileira%202016~2022/2%20Entrega%20-%20Cliclo%202/Passo%2005%20-%20Explora%C3%A7%C3%A3o%20dos%20dados/Jupyter%20Notebooks/Nova%20abordagem.ipynb#X35sZmlsZQ%3D%3D?line=2'>3</a>\u001b[0m         \u001b[39mif\u001b[39;00m data_mae \u001b[39m==\u001b[39m df_datas[\u001b[39m'\u001b[39;49m\u001b[39mGGBR3.SA\u001b[39;49m\u001b[39m'\u001b[39;49m][\u001b[39m0\u001b[39;49m]:\n\u001b[0;32m      <a href='vscode-notebook-cell:/c%3A/Users/manda/OneDrive/Documents/GitHub/Insights/Dados%20Siderurgia%20Brasileira%202016~2022/2%20Entrega%20-%20Cliclo%202/Passo%2005%20-%20Explora%C3%A7%C3%A3o%20dos%20dados/Jupyter%20Notebooks/Nova%20abordagem.ipynb#X35sZmlsZQ%3D%3D?line=3'>4</a>\u001b[0m             \u001b[39mprint\u001b[39m(\u001b[39m'\u001b[39m\u001b[39mTrue\u001b[39m\u001b[39m'\u001b[39m)\n",
      "File \u001b[1;32mc:\\Users\\manda\\AppData\\Local\\Programs\\Python\\Python310\\lib\\site-packages\\pandas\\core\\series.py:958\u001b[0m, in \u001b[0;36mSeries.__getitem__\u001b[1;34m(self, key)\u001b[0m\n\u001b[0;32m    955\u001b[0m     \u001b[39mreturn\u001b[39;00m \u001b[39mself\u001b[39m\u001b[39m.\u001b[39m_values[key]\n\u001b[0;32m    957\u001b[0m \u001b[39melif\u001b[39;00m key_is_scalar:\n\u001b[1;32m--> 958\u001b[0m     \u001b[39mreturn\u001b[39;00m \u001b[39mself\u001b[39;49m\u001b[39m.\u001b[39;49m_get_value(key)\n\u001b[0;32m    960\u001b[0m \u001b[39mif\u001b[39;00m is_hashable(key):\n\u001b[0;32m    961\u001b[0m     \u001b[39m# Otherwise index.get_value will raise InvalidIndexError\u001b[39;00m\n\u001b[0;32m    962\u001b[0m     \u001b[39mtry\u001b[39;00m:\n\u001b[0;32m    963\u001b[0m         \u001b[39m# For labels that don't resolve as scalars like tuples and frozensets\u001b[39;00m\n",
      "File \u001b[1;32mc:\\Users\\manda\\AppData\\Local\\Programs\\Python\\Python310\\lib\\site-packages\\pandas\\core\\series.py:1070\u001b[0m, in \u001b[0;36mSeries._get_value\u001b[1;34m(self, label, takeable)\u001b[0m\n\u001b[0;32m   1068\u001b[0m \u001b[39m# Similar to Index.get_value, but we do not fall back to positional\u001b[39;00m\n\u001b[0;32m   1069\u001b[0m loc \u001b[39m=\u001b[39m \u001b[39mself\u001b[39m\u001b[39m.\u001b[39mindex\u001b[39m.\u001b[39mget_loc(label)\n\u001b[1;32m-> 1070\u001b[0m \u001b[39mreturn\u001b[39;00m \u001b[39mself\u001b[39;49m\u001b[39m.\u001b[39;49mindex\u001b[39m.\u001b[39;49m_get_values_for_loc(\u001b[39mself\u001b[39;49m, loc, label)\n",
      "File \u001b[1;32mc:\\Users\\manda\\AppData\\Local\\Programs\\Python\\Python310\\lib\\site-packages\\pandas\\core\\indexes\\base.py:5656\u001b[0m, in \u001b[0;36mIndex._get_values_for_loc\u001b[1;34m(self, series, loc, key)\u001b[0m\n\u001b[0;32m   5647\u001b[0m \u001b[39m\"\"\"\u001b[39;00m\n\u001b[0;32m   5648\u001b[0m \u001b[39mDo a positional lookup on the given Series, returning either a scalar\u001b[39;00m\n\u001b[0;32m   5649\u001b[0m \u001b[39mor a Series.\u001b[39;00m\n\u001b[1;32m   (...)\u001b[0m\n\u001b[0;32m   5653\u001b[0m \u001b[39mkey is included for MultiIndex compat.\u001b[39;00m\n\u001b[0;32m   5654\u001b[0m \u001b[39m\"\"\"\u001b[39;00m\n\u001b[0;32m   5655\u001b[0m \u001b[39mif\u001b[39;00m is_integer(loc):\n\u001b[1;32m-> 5656\u001b[0m     \u001b[39mreturn\u001b[39;00m series\u001b[39m.\u001b[39;49m_values[loc]\n\u001b[0;32m   5658\u001b[0m \u001b[39mreturn\u001b[39;00m series\u001b[39m.\u001b[39miloc[loc]\n",
      "File \u001b[1;32mc:\\Users\\manda\\AppData\\Local\\Programs\\Python\\Python310\\lib\\site-packages\\pandas\\core\\arrays\\datetimelike.py:341\u001b[0m, in \u001b[0;36mDatetimeLikeArrayMixin.__getitem__\u001b[1;34m(self, key)\u001b[0m\n\u001b[0;32m    333\u001b[0m \u001b[39m\"\"\"\u001b[39;00m\n\u001b[0;32m    334\u001b[0m \u001b[39mThis getitem defers to the underlying array, which by-definition can\u001b[39;00m\n\u001b[0;32m    335\u001b[0m \u001b[39monly handle list-likes, slices, and integer scalars\u001b[39;00m\n\u001b[0;32m    336\u001b[0m \u001b[39m\"\"\"\u001b[39;00m\n\u001b[0;32m    337\u001b[0m \u001b[39m# Use cast as we know we will get back a DatetimeLikeArray or DTScalar,\u001b[39;00m\n\u001b[0;32m    338\u001b[0m \u001b[39m# but skip evaluating the Union at runtime for performance\u001b[39;00m\n\u001b[0;32m    339\u001b[0m \u001b[39m# (see https://github.com/pandas-dev/pandas/pull/44624)\u001b[39;00m\n\u001b[0;32m    340\u001b[0m result \u001b[39m=\u001b[39m cast(\n\u001b[1;32m--> 341\u001b[0m     \u001b[39m\"\u001b[39m\u001b[39mUnion[DatetimeLikeArrayT, DTScalarOrNaT]\u001b[39m\u001b[39m\"\u001b[39m, \u001b[39msuper\u001b[39;49m()\u001b[39m.\u001b[39;49m\u001b[39m__getitem__\u001b[39;49m(key)\n\u001b[0;32m    342\u001b[0m )\n\u001b[0;32m    343\u001b[0m \u001b[39mif\u001b[39;00m lib\u001b[39m.\u001b[39mis_scalar(result):\n\u001b[0;32m    344\u001b[0m     \u001b[39mreturn\u001b[39;00m result\n",
      "File \u001b[1;32mc:\\Users\\manda\\AppData\\Local\\Programs\\Python\\Python310\\lib\\site-packages\\pandas\\core\\arrays\\_mixins.py:274\u001b[0m, in \u001b[0;36mNDArrayBackedExtensionArray.__getitem__\u001b[1;34m(self, key)\u001b[0m\n\u001b[0;32m    272\u001b[0m     result \u001b[39m=\u001b[39m \u001b[39mself\u001b[39m\u001b[39m.\u001b[39m_ndarray[key]\n\u001b[0;32m    273\u001b[0m     \u001b[39mif\u001b[39;00m \u001b[39mself\u001b[39m\u001b[39m.\u001b[39mndim \u001b[39m==\u001b[39m \u001b[39m1\u001b[39m:\n\u001b[1;32m--> 274\u001b[0m         \u001b[39mreturn\u001b[39;00m \u001b[39mself\u001b[39;49m\u001b[39m.\u001b[39;49m_box_func(result)\n\u001b[0;32m    275\u001b[0m     \u001b[39mreturn\u001b[39;00m \u001b[39mself\u001b[39m\u001b[39m.\u001b[39m_from_backing_data(result)\n\u001b[0;32m    277\u001b[0m \u001b[39m# error: Incompatible types in assignment (expression has type \"ExtensionArray\",\u001b[39;00m\n\u001b[0;32m    278\u001b[0m \u001b[39m# variable has type \"Union[int, slice, ndarray]\")\u001b[39;00m\n",
      "File \u001b[1;32mc:\\Users\\manda\\AppData\\Local\\Programs\\Python\\Python310\\lib\\site-packages\\pandas\\core\\arrays\\datetimes.py:536\u001b[0m, in \u001b[0;36mDatetimeArray._box_func\u001b[1;34m(self, x)\u001b[0m\n\u001b[0;32m    531\u001b[0m \u001b[39mif\u001b[39;00m \u001b[39misinstance\u001b[39m(x, np\u001b[39m.\u001b[39mdatetime64):\n\u001b[0;32m    532\u001b[0m     \u001b[39m# GH#42228\u001b[39;00m\n\u001b[0;32m    533\u001b[0m     \u001b[39m# Argument 1 to \"signedinteger\" has incompatible type \"datetime64\";\u001b[39;00m\n\u001b[0;32m    534\u001b[0m     \u001b[39m# expected \"Union[SupportsInt, Union[str, bytes], SupportsIndex]\"\u001b[39;00m\n\u001b[0;32m    535\u001b[0m     x \u001b[39m=\u001b[39m np\u001b[39m.\u001b[39mint64(x)  \u001b[39m# type: ignore[arg-type]\u001b[39;00m\n\u001b[1;32m--> 536\u001b[0m ts \u001b[39m=\u001b[39m Timestamp(x, tz\u001b[39m=\u001b[39m\u001b[39mself\u001b[39;49m\u001b[39m.\u001b[39;49mtz)\n\u001b[0;32m    537\u001b[0m \u001b[39m# Non-overlapping identity check (left operand type: \"Timestamp\",\u001b[39;00m\n\u001b[0;32m    538\u001b[0m \u001b[39m# right operand type: \"NaTType\")\u001b[39;00m\n\u001b[0;32m    539\u001b[0m \u001b[39mif\u001b[39;00m ts \u001b[39mis\u001b[39;00m \u001b[39mnot\u001b[39;00m NaT:  \u001b[39m# type: ignore[comparison-overlap]\u001b[39;00m\n\u001b[0;32m    540\u001b[0m     \u001b[39m# GH#41586\u001b[39;00m\n\u001b[0;32m    541\u001b[0m     \u001b[39m# do this instead of passing to the constructor to avoid FutureWarning\u001b[39;00m\n",
      "File \u001b[1;32mc:\\Users\\manda\\AppData\\Local\\Programs\\Python\\Python310\\lib\\site-packages\\pandas\\core\\arrays\\datetimes.py:570\u001b[0m, in \u001b[0;36mDatetimeArray.tz\u001b[1;34m(self)\u001b[0m\n\u001b[0;32m    550\u001b[0m     \u001b[39m\"\"\"\u001b[39;00m\n\u001b[0;32m    551\u001b[0m \u001b[39m    The dtype for the DatetimeArray.\u001b[39;00m\n\u001b[0;32m    552\u001b[0m \n\u001b[1;32m   (...)\u001b[0m\n\u001b[0;32m    566\u001b[0m \u001b[39m        is returned.\u001b[39;00m\n\u001b[0;32m    567\u001b[0m \u001b[39m    \"\"\"\u001b[39;00m\n\u001b[0;32m    568\u001b[0m     \u001b[39mreturn\u001b[39;00m \u001b[39mself\u001b[39m\u001b[39m.\u001b[39m_dtype\n\u001b[1;32m--> 570\u001b[0m \u001b[39m@property\u001b[39m\n\u001b[0;32m    571\u001b[0m \u001b[39mdef\u001b[39;00m \u001b[39mtz\u001b[39m(\u001b[39mself\u001b[39m) \u001b[39m-\u001b[39m\u001b[39m>\u001b[39m tzinfo \u001b[39m|\u001b[39m \u001b[39mNone\u001b[39;00m:\n\u001b[0;32m    572\u001b[0m     \u001b[39m\"\"\"\u001b[39;00m\n\u001b[0;32m    573\u001b[0m \u001b[39m    Return the timezone.\u001b[39;00m\n\u001b[0;32m    574\u001b[0m \n\u001b[1;32m   (...)\u001b[0m\n\u001b[0;32m    578\u001b[0m \u001b[39m        Returns None when the array is tz-naive.\u001b[39;00m\n\u001b[0;32m    579\u001b[0m \u001b[39m    \"\"\"\u001b[39;00m\n\u001b[0;32m    580\u001b[0m     \u001b[39m# GH 18595\u001b[39;00m\n",
      "\u001b[1;31mKeyboardInterrupt\u001b[0m: "
     ]
    }
   ],
   "source": [
    "for data_mae in df_datas['Data Mãe']:\n",
    "    for c in range(0, 5646):\n",
    "        if data_mae == df_datas['GGBR3.SA'][0]:\n",
    "            print('True')"
   ]
  },
  {
   "cell_type": "code",
   "execution_count": 13,
   "metadata": {},
   "outputs": [
    {
     "data": {
      "text/plain": [
       "'2000-01-03'"
      ]
     },
     "execution_count": 13,
     "metadata": {},
     "output_type": "execute_result"
    }
   ],
   "source": [
    "df_datas['Data Mãe'][0]"
   ]
  },
  {
   "cell_type": "code",
   "execution_count": 14,
   "metadata": {},
   "outputs": [
    {
     "data": {
      "text/plain": [
       "Timestamp('2000-01-04 00:00:00')"
      ]
     },
     "execution_count": 14,
     "metadata": {},
     "output_type": "execute_result"
    }
   ],
   "source": [
    "df_datas['GGBR3.SA'][0]"
   ]
  },
  {
   "cell_type": "code",
   "execution_count": null,
   "metadata": {},
   "outputs": [],
   "source": []
  }
 ],
 "metadata": {
  "kernelspec": {
   "display_name": "Python 3.10.4 64-bit",
   "language": "python",
   "name": "python3"
  },
  "language_info": {
   "codemirror_mode": {
    "name": "ipython",
    "version": 3
   },
   "file_extension": ".py",
   "mimetype": "text/x-python",
   "name": "python",
   "nbconvert_exporter": "python",
   "pygments_lexer": "ipython3",
   "version": "3.10.4"
  },
  "orig_nbformat": 4,
  "vscode": {
   "interpreter": {
    "hash": "5d11380547bba1e6c4b0ab7b7614350493a6d4caf256d9be4e363829d8f5c452"
   }
  }
 },
 "nbformat": 4,
 "nbformat_minor": 2
}

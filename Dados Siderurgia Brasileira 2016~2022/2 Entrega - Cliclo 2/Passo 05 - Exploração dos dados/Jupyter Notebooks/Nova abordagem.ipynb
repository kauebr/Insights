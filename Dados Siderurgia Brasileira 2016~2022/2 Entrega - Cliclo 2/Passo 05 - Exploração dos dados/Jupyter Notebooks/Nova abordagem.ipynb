{
 "cells": [
  {
   "cell_type": "markdown",
   "metadata": {},
   "source": [
    "<img src=\"https://i.ibb.co/K5n24Nd/1.png\"  alt=\"KCode Banner\"  />\n",
    "\n",
    "<a href=\"https://www.linkedin.com/in/kauebr/\"><img src=\"https://cdn-icons-png.flaticon.com/512/174/174857.png\" width=\"30\" ></a> <a href=\"mailto: kauemandarino@gmail.com\"><img src=\"https://cdn-icons-png.flaticon.com/512/5968/5968534.png\" width=\"30\" ></a><a href=\"\n",
    "https://api.whatsapp.com/send?phone=5541991835800&text=Oi\"> <img src=\"https://imagepng.org/wp-content/uploads/2017/08/whatsapp-icone-1.png\" width=\"30\" ></a><a href=\"https://github.com/kauebr/\"><img src=\"https://github.githubassets.com/images/modules/logos_page/Octocat.png\" width=\"30\" ></a>\n",
    "\n"
   ]
  },
  {
   "cell_type": "code",
   "execution_count": 1,
   "metadata": {},
   "outputs": [],
   "source": [
    "from pandas_datareader import data as web\n",
    "import pandas as pd\n",
    "import numpy as np\n",
    "import matplotlib.pyplot as plt\n",
    "from datetime import date\n",
    "\n",
    "from calendar import monthrange\n",
    "from workalendar.america import Brazil\n",
    "import calendario_dias_uteis as cdu\n",
    "import matplotlib.pyplot as plt"
   ]
  },
  {
   "cell_type": "code",
   "execution_count": 2,
   "metadata": {},
   "outputs": [],
   "source": [
    "# Puxando as datas da nossa consulta (2000 ~ 2022)\n",
    "\n",
    "datas = pd.read_csv('C:/Users/manda/OneDrive/Documents/GitHub/Insights/Dados Siderurgia Brasileira 2016~2022/2 Entrega - Cliclo 2/Passo 05 - Exploração dos dados/Jupyter Notebooks/Dados/UltimosUteis.csv')"
   ]
  },
  {
   "cell_type": "code",
   "execution_count": 3,
   "metadata": {},
   "outputs": [
    {
     "data": {
      "text/html": [
       "<div>\n",
       "<style scoped>\n",
       "    .dataframe tbody tr th:only-of-type {\n",
       "        vertical-align: middle;\n",
       "    }\n",
       "\n",
       "    .dataframe tbody tr th {\n",
       "        vertical-align: top;\n",
       "    }\n",
       "\n",
       "    .dataframe thead th {\n",
       "        text-align: right;\n",
       "    }\n",
       "</style>\n",
       "<table border=\"1\" class=\"dataframe\">\n",
       "  <thead>\n",
       "    <tr style=\"text-align: right;\">\n",
       "      <th></th>\n",
       "      <th>Ultimos Uteis</th>\n",
       "    </tr>\n",
       "  </thead>\n",
       "  <tbody>\n",
       "    <tr>\n",
       "      <th>0</th>\n",
       "      <td>1/31/2000</td>\n",
       "    </tr>\n",
       "    <tr>\n",
       "      <th>1</th>\n",
       "      <td>2/29/2000</td>\n",
       "    </tr>\n",
       "    <tr>\n",
       "      <th>2</th>\n",
       "      <td>3/31/2000</td>\n",
       "    </tr>\n",
       "    <tr>\n",
       "      <th>3</th>\n",
       "      <td>4/28/2000</td>\n",
       "    </tr>\n",
       "    <tr>\n",
       "      <th>4</th>\n",
       "      <td>5/31/2000</td>\n",
       "    </tr>\n",
       "    <tr>\n",
       "      <th>...</th>\n",
       "      <td>...</td>\n",
       "    </tr>\n",
       "    <tr>\n",
       "      <th>268</th>\n",
       "      <td>5/31/2022</td>\n",
       "    </tr>\n",
       "    <tr>\n",
       "      <th>269</th>\n",
       "      <td>6/30/2022</td>\n",
       "    </tr>\n",
       "    <tr>\n",
       "      <th>270</th>\n",
       "      <td>7/29/2022</td>\n",
       "    </tr>\n",
       "    <tr>\n",
       "      <th>271</th>\n",
       "      <td>8/31/2022</td>\n",
       "    </tr>\n",
       "    <tr>\n",
       "      <th>272</th>\n",
       "      <td>9/20/2022</td>\n",
       "    </tr>\n",
       "  </tbody>\n",
       "</table>\n",
       "<p>273 rows × 1 columns</p>\n",
       "</div>"
      ],
      "text/plain": [
       "    Ultimos Uteis\n",
       "0       1/31/2000\n",
       "1       2/29/2000\n",
       "2       3/31/2000\n",
       "3       4/28/2000\n",
       "4       5/31/2000\n",
       "..            ...\n",
       "268     5/31/2022\n",
       "269     6/30/2022\n",
       "270     7/29/2022\n",
       "271     8/31/2022\n",
       "272     9/20/2022\n",
       "\n",
       "[273 rows x 1 columns]"
      ]
     },
     "execution_count": 3,
     "metadata": {},
     "output_type": "execute_result"
    }
   ],
   "source": [
    "datas"
   ]
  },
  {
   "cell_type": "markdown",
   "metadata": {},
   "source": [
    "* Constatamos 273 linhas referentes as datas da nossa consulta: ultimos dias úteis de cada mês, de 01/2000 a 08/2022\n",
    "\n"
   ]
  },
  {
   "cell_type": "code",
   "execution_count": 4,
   "metadata": {},
   "outputs": [],
   "source": [
    "# Declarando dicionário com as empresas e os códigos na bolsa de valores.\n",
    "\n",
    "empresas = {'GGBR4.SA': 'Gerdau preferenciais', 'GGBR3.SA': 'Gerdau Metalúrgica preferenciais',\n",
    "             'VALE3.SA': 'Vale', 'USIM5.SA': 'Usiminas',  'CSNA3.SA': 'CSN'} \n",
    "             "
   ]
  },
  {
   "cell_type": "markdown",
   "metadata": {},
   "source": [
    "\n",
    "* Ampliei o leque de empresas, adcionando a Vale, pois vislubro a possibilidade de inclui-la em minha sugestão de investimento. "
   ]
  },
  {
   "cell_type": "markdown",
   "metadata": {},
   "source": [
    "* Agora vou fazer uma consulta no período `macro` para cada empresa, para depois filtrarmos, pois, uma requisição para cada data do nosso dict demoraria cerca de 40 minutos, mas antes vou modelar a estrutura para receber os nossos dados."
   ]
  },
  {
   "cell_type": "code",
   "execution_count": 5,
   "metadata": {},
   "outputs": [
    {
     "data": {
      "text/plain": [
       "{'GGBR4.SA': Date\n",
       " 2000-01-03    260.311707\n",
       " 2000-01-04    254.300262\n",
       " 2000-01-05    262.995270\n",
       " 2000-01-06    271.046143\n",
       " 2000-01-07    283.390839\n",
       "                  ...    \n",
       " 2022-08-25     24.670000\n",
       " 2022-08-26     24.059999\n",
       " 2022-08-29     23.959999\n",
       " 2022-08-30     23.540001\n",
       " 2022-08-31     23.320000\n",
       " Name: Adj Close, Length: 5645, dtype: float64,\n",
       " 'GGBR3.SA': Date\n",
       " 2000-01-04     0.188095\n",
       " 2000-01-05     0.188095\n",
       " 2000-01-06     0.188095\n",
       " 2000-01-07     0.188095\n",
       " 2000-01-10     0.188095\n",
       "                 ...    \n",
       " 2022-08-25    20.209999\n",
       " 2022-08-26    19.879999\n",
       " 2022-08-29    19.780001\n",
       " 2022-08-30    19.500000\n",
       " 2022-08-31    19.700001\n",
       " Name: Adj Close, Length: 5695, dtype: float64,\n",
       " 'VALE3.SA': Date\n",
       " 2000-01-03     1.707494\n",
       " 2000-01-04     1.666839\n",
       " 2000-01-05     1.666839\n",
       " 2000-01-06     1.666839\n",
       " 2000-01-07     1.727821\n",
       "                 ...    \n",
       " 2022-08-25    69.269997\n",
       " 2022-08-26    68.230003\n",
       " 2022-08-29    66.910004\n",
       " 2022-08-30    64.970001\n",
       " 2022-08-31    64.500000\n",
       " Name: Adj Close, Length: 5696, dtype: float64,\n",
       " 'USIM5.SA': Date\n",
       " 2000-01-03    1.582737\n",
       " 2000-01-04    1.525033\n",
       " 2000-01-05    1.670117\n",
       " 2000-01-06    1.821796\n",
       " 2000-01-07    1.894339\n",
       "                 ...   \n",
       " 2022-08-25    9.290000\n",
       " 2022-08-26    8.670000\n",
       " 2022-08-29    8.220000\n",
       " 2022-08-30    8.050000\n",
       " 2022-08-31    8.020000\n",
       " Name: Adj Close, Length: 5696, dtype: float64,\n",
       " 'CSNA3.SA': Date\n",
       " 2000-01-03     2.079645\n",
       " 2000-01-04     2.109568\n",
       " 2000-01-05     2.222848\n",
       " 2000-01-06     2.323304\n",
       " 2000-01-07     2.308342\n",
       "                 ...    \n",
       " 2022-08-25    15.960000\n",
       " 2022-08-26    15.010000\n",
       " 2022-08-29    14.500000\n",
       " 2022-08-30    14.040000\n",
       " 2022-08-31    13.800000\n",
       " Name: Adj Close, Length: 5614, dtype: float64}"
      ]
     },
     "execution_count": 5,
     "metadata": {},
     "output_type": "execute_result"
    }
   ],
   "source": [
    "# Criando um dicionário raíz chamado cotacoes_acoes para abrigar as listas;\n",
    "cotacoes_acoes = {} \n",
    "\n",
    "# Puxando as cotações\n",
    "for empresa in empresas:\n",
    "    cotacao = web.DataReader(empresa, data_source='yahoo', start='01-01-2000', end='08-31-2022')\n",
    "    cotacoes_acoes[(f\"{empresa}\")] = cotacao['Adj Close']  \n",
    "    \n",
    "cotacoes_acoes\n",
    "\n"
   ]
  },
  {
   "cell_type": "markdown",
   "metadata": {},
   "source": [
    "Agora vou transformar as séries em dataframes"
   ]
  },
  {
   "cell_type": "code",
   "execution_count": 6,
   "metadata": {},
   "outputs": [
    {
     "name": "stdout",
     "output_type": "stream",
     "text": [
      "GGBR4.SA\n",
      "GGBR3.SA\n",
      "VALE3.SA\n",
      "USIM5.SA\n",
      "CSNA3.SA\n"
     ]
    }
   ],
   "source": [
    "for empresa in empresas:\n",
    "    cotacoes_acoes[empresa] = cotacoes_acoes[empresa].to_frame()\n",
    "    cotacoes_acoes[empresa].reset_index(inplace=True) # As datas estavam como índice, aqui transformo-as em coluna;"
   ]
  },
  {
   "cell_type": "markdown",
   "metadata": {},
   "source": [
    "Agora vou criar um dataframe só com todas as datas"
   ]
  },
  {
   "cell_type": "code",
   "execution_count": null,
   "metadata": {},
   "outputs": [],
   "source": [
    "df "
   ]
  },
  {
   "cell_type": "code",
   "execution_count": null,
   "metadata": {},
   "outputs": [],
   "source": []
  },
  {
   "cell_type": "code",
   "execution_count": 7,
   "metadata": {},
   "outputs": [
    {
     "data": {
      "text/html": [
       "<div>\n",
       "<style scoped>\n",
       "    .dataframe tbody tr th:only-of-type {\n",
       "        vertical-align: middle;\n",
       "    }\n",
       "\n",
       "    .dataframe tbody tr th {\n",
       "        vertical-align: top;\n",
       "    }\n",
       "\n",
       "    .dataframe thead th {\n",
       "        text-align: right;\n",
       "    }\n",
       "</style>\n",
       "<table border=\"1\" class=\"dataframe\">\n",
       "  <thead>\n",
       "    <tr style=\"text-align: right;\">\n",
       "      <th></th>\n",
       "      <th>Date</th>\n",
       "      <th>Adj Close</th>\n",
       "    </tr>\n",
       "  </thead>\n",
       "  <tbody>\n",
       "    <tr>\n",
       "      <th>0</th>\n",
       "      <td>2000-01-04</td>\n",
       "      <td>0.188095</td>\n",
       "    </tr>\n",
       "    <tr>\n",
       "      <th>1</th>\n",
       "      <td>2000-01-05</td>\n",
       "      <td>0.188095</td>\n",
       "    </tr>\n",
       "    <tr>\n",
       "      <th>2</th>\n",
       "      <td>2000-01-06</td>\n",
       "      <td>0.188095</td>\n",
       "    </tr>\n",
       "    <tr>\n",
       "      <th>3</th>\n",
       "      <td>2000-01-07</td>\n",
       "      <td>0.188095</td>\n",
       "    </tr>\n",
       "    <tr>\n",
       "      <th>4</th>\n",
       "      <td>2000-01-10</td>\n",
       "      <td>0.188095</td>\n",
       "    </tr>\n",
       "    <tr>\n",
       "      <th>...</th>\n",
       "      <td>...</td>\n",
       "      <td>...</td>\n",
       "    </tr>\n",
       "    <tr>\n",
       "      <th>5690</th>\n",
       "      <td>2022-08-25</td>\n",
       "      <td>20.209999</td>\n",
       "    </tr>\n",
       "    <tr>\n",
       "      <th>5691</th>\n",
       "      <td>2022-08-26</td>\n",
       "      <td>19.879999</td>\n",
       "    </tr>\n",
       "    <tr>\n",
       "      <th>5692</th>\n",
       "      <td>2022-08-29</td>\n",
       "      <td>19.780001</td>\n",
       "    </tr>\n",
       "    <tr>\n",
       "      <th>5693</th>\n",
       "      <td>2022-08-30</td>\n",
       "      <td>19.500000</td>\n",
       "    </tr>\n",
       "    <tr>\n",
       "      <th>5694</th>\n",
       "      <td>2022-08-31</td>\n",
       "      <td>19.700001</td>\n",
       "    </tr>\n",
       "  </tbody>\n",
       "</table>\n",
       "<p>5695 rows × 2 columns</p>\n",
       "</div>"
      ],
      "text/plain": [
       "           Date  Adj Close\n",
       "0    2000-01-04   0.188095\n",
       "1    2000-01-05   0.188095\n",
       "2    2000-01-06   0.188095\n",
       "3    2000-01-07   0.188095\n",
       "4    2000-01-10   0.188095\n",
       "...         ...        ...\n",
       "5690 2022-08-25  20.209999\n",
       "5691 2022-08-26  19.879999\n",
       "5692 2022-08-29  19.780001\n",
       "5693 2022-08-30  19.500000\n",
       "5694 2022-08-31  19.700001\n",
       "\n",
       "[5695 rows x 2 columns]"
      ]
     },
     "execution_count": 7,
     "metadata": {},
     "output_type": "execute_result"
    }
   ],
   "source": [
    "cotacoes_acoes['GGBR3.SA']\n"
   ]
  },
  {
   "cell_type": "code",
   "execution_count": 8,
   "metadata": {},
   "outputs": [
    {
     "data": {
      "text/html": [
       "<div>\n",
       "<style scoped>\n",
       "    .dataframe tbody tr th:only-of-type {\n",
       "        vertical-align: middle;\n",
       "    }\n",
       "\n",
       "    .dataframe tbody tr th {\n",
       "        vertical-align: top;\n",
       "    }\n",
       "\n",
       "    .dataframe thead th {\n",
       "        text-align: right;\n",
       "    }\n",
       "</style>\n",
       "<table border=\"1\" class=\"dataframe\">\n",
       "  <thead>\n",
       "    <tr style=\"text-align: right;\">\n",
       "      <th></th>\n",
       "      <th>Date</th>\n",
       "      <th>Adj Close</th>\n",
       "    </tr>\n",
       "  </thead>\n",
       "  <tbody>\n",
       "    <tr>\n",
       "      <th>0</th>\n",
       "      <td>2000-01-04</td>\n",
       "      <td>0.188095</td>\n",
       "    </tr>\n",
       "    <tr>\n",
       "      <th>1</th>\n",
       "      <td>2000-01-05</td>\n",
       "      <td>0.188095</td>\n",
       "    </tr>\n",
       "    <tr>\n",
       "      <th>2</th>\n",
       "      <td>2000-01-06</td>\n",
       "      <td>0.188095</td>\n",
       "    </tr>\n",
       "    <tr>\n",
       "      <th>3</th>\n",
       "      <td>2000-01-07</td>\n",
       "      <td>0.188095</td>\n",
       "    </tr>\n",
       "    <tr>\n",
       "      <th>4</th>\n",
       "      <td>2000-01-10</td>\n",
       "      <td>0.188095</td>\n",
       "    </tr>\n",
       "    <tr>\n",
       "      <th>...</th>\n",
       "      <td>...</td>\n",
       "      <td>...</td>\n",
       "    </tr>\n",
       "    <tr>\n",
       "      <th>5690</th>\n",
       "      <td>2022-08-25</td>\n",
       "      <td>20.209999</td>\n",
       "    </tr>\n",
       "    <tr>\n",
       "      <th>5691</th>\n",
       "      <td>2022-08-26</td>\n",
       "      <td>19.879999</td>\n",
       "    </tr>\n",
       "    <tr>\n",
       "      <th>5692</th>\n",
       "      <td>2022-08-29</td>\n",
       "      <td>19.780001</td>\n",
       "    </tr>\n",
       "    <tr>\n",
       "      <th>5693</th>\n",
       "      <td>2022-08-30</td>\n",
       "      <td>19.500000</td>\n",
       "    </tr>\n",
       "    <tr>\n",
       "      <th>5694</th>\n",
       "      <td>2022-08-31</td>\n",
       "      <td>19.700001</td>\n",
       "    </tr>\n",
       "  </tbody>\n",
       "</table>\n",
       "<p>5695 rows × 2 columns</p>\n",
       "</div>"
      ],
      "text/plain": [
       "           Date  Adj Close\n",
       "0    2000-01-04   0.188095\n",
       "1    2000-01-05   0.188095\n",
       "2    2000-01-06   0.188095\n",
       "3    2000-01-07   0.188095\n",
       "4    2000-01-10   0.188095\n",
       "...         ...        ...\n",
       "5690 2022-08-25  20.209999\n",
       "5691 2022-08-26  19.879999\n",
       "5692 2022-08-29  19.780001\n",
       "5693 2022-08-30  19.500000\n",
       "5694 2022-08-31  19.700001\n",
       "\n",
       "[5695 rows x 2 columns]"
      ]
     },
     "execution_count": 8,
     "metadata": {},
     "output_type": "execute_result"
    }
   ],
   "source": [
    "cotacoes_acoes['GGBR3.SA']"
   ]
  }
 ],
 "metadata": {
  "kernelspec": {
   "display_name": "Python 3.10.4 64-bit",
   "language": "python",
   "name": "python3"
  },
  "language_info": {
   "codemirror_mode": {
    "name": "ipython",
    "version": 3
   },
   "file_extension": ".py",
   "mimetype": "text/x-python",
   "name": "python",
   "nbconvert_exporter": "python",
   "pygments_lexer": "ipython3",
   "version": "3.10.4"
  },
  "orig_nbformat": 4,
  "vscode": {
   "interpreter": {
    "hash": "5d11380547bba1e6c4b0ab7b7614350493a6d4caf256d9be4e363829d8f5c452"
   }
  }
 },
 "nbformat": 4,
 "nbformat_minor": 2
}
